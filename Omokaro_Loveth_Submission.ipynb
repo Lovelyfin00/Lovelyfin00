{
  "nbformat": 4,
  "nbformat_minor": 0,
  "metadata": {
    "kernelspec": {
      "display_name": "Python 3",
      "language": "python",
      "name": "python3"
    },
    "language_info": {
      "codemirror_mode": {
        "name": "ipython",
        "version": 3
      },
      "file_extension": ".py",
      "mimetype": "text/x-python",
      "name": "python",
      "nbconvert_exporter": "python",
      "pygments_lexer": "ipython3",
      "version": "3.7.6"
    },
    "colab": {
      "name": "Omokaro Loveth Submission.ipynb",
      "provenance": [],
      "collapsed_sections": [],
      "include_colab_link": true
    }
  },
  "cells": [
    {
      "cell_type": "markdown",
      "metadata": {
        "id": "view-in-github",
        "colab_type": "text"
      },
      "source": [
        "<a href=\"https://colab.research.google.com/github/Lovelyfin00/Lovelyfin00/blob/main/Omokaro_Loveth_Submission.ipynb\" target=\"_parent\"><img src=\"https://colab.research.google.com/assets/colab-badge.svg\" alt=\"Open In Colab\"/></a>"
      ]
    },
    {
      "cell_type": "markdown",
      "metadata": {
        "id": "oPjgWJRSOv8w"
      },
      "source": [
        "# Importing the necessary libraries"
      ]
    },
    {
      "cell_type": "code",
      "metadata": {
        "colab": {
          "base_uri": "https://localhost:8080/"
        },
        "id": "Dg0Bp7T5PNAo",
        "outputId": "e49a2d2c-fea7-45f4-a239-546e861483d7"
      },
      "source": [
        "!pip install catboost"
      ],
      "execution_count": 1,
      "outputs": [
        {
          "output_type": "stream",
          "name": "stdout",
          "text": [
            "Collecting catboost\n",
            "  Downloading catboost-1.0.0-cp37-none-manylinux1_x86_64.whl (76.4 MB)\n",
            "\u001b[K     |████████████████████████████████| 76.4 MB 22 kB/s \n",
            "\u001b[?25hRequirement already satisfied: numpy>=1.16.0 in /usr/local/lib/python3.7/dist-packages (from catboost) (1.19.5)\n",
            "Requirement already satisfied: six in /usr/local/lib/python3.7/dist-packages (from catboost) (1.15.0)\n",
            "Requirement already satisfied: matplotlib in /usr/local/lib/python3.7/dist-packages (from catboost) (3.2.2)\n",
            "Requirement already satisfied: scipy in /usr/local/lib/python3.7/dist-packages (from catboost) (1.4.1)\n",
            "Requirement already satisfied: plotly in /usr/local/lib/python3.7/dist-packages (from catboost) (4.4.1)\n",
            "Requirement already satisfied: graphviz in /usr/local/lib/python3.7/dist-packages (from catboost) (0.10.1)\n",
            "Requirement already satisfied: pandas>=0.24.0 in /usr/local/lib/python3.7/dist-packages (from catboost) (1.1.5)\n",
            "Requirement already satisfied: pytz>=2017.2 in /usr/local/lib/python3.7/dist-packages (from pandas>=0.24.0->catboost) (2018.9)\n",
            "Requirement already satisfied: python-dateutil>=2.7.3 in /usr/local/lib/python3.7/dist-packages (from pandas>=0.24.0->catboost) (2.8.2)\n",
            "Requirement already satisfied: pyparsing!=2.0.4,!=2.1.2,!=2.1.6,>=2.0.1 in /usr/local/lib/python3.7/dist-packages (from matplotlib->catboost) (2.4.7)\n",
            "Requirement already satisfied: cycler>=0.10 in /usr/local/lib/python3.7/dist-packages (from matplotlib->catboost) (0.10.0)\n",
            "Requirement already satisfied: kiwisolver>=1.0.1 in /usr/local/lib/python3.7/dist-packages (from matplotlib->catboost) (1.3.2)\n",
            "Requirement already satisfied: retrying>=1.3.3 in /usr/local/lib/python3.7/dist-packages (from plotly->catboost) (1.3.3)\n",
            "Installing collected packages: catboost\n",
            "Successfully installed catboost-1.0.0\n"
          ]
        }
      ]
    },
    {
      "cell_type": "code",
      "metadata": {
        "id": "OHFjoZxVOv9J"
      },
      "source": [
        "import numpy as np\n",
        "import pandas as pd\n",
        "import matplotlib.pyplot as plt\n",
        "import seaborn as sns\n",
        "\n",
        "from datetime import datetime\n",
        "\n",
        "from sklearn.preprocessing import StandardScaler\n",
        "from sklearn.model_selection import KFold,StratifiedKFold,GridSearchCV,RandomizedSearchCV, train_test_split #For splitting\n",
        "import lightgbm as lgb \n",
        "from catboost import CatBoostClassifier\n",
        "from sklearn.metrics import accuracy_score, f1_score, roc_auc_score\n",
        "\n",
        "import warnings\n",
        "\n",
        "from sklearn.preprocessing import LabelEncoder,OneHotEncoder"
      ],
      "execution_count": 2,
      "outputs": []
    },
    {
      "cell_type": "markdown",
      "metadata": {
        "id": "Vw3a3-xROv9R"
      },
      "source": [
        "# Loading the datasets"
      ]
    },
    {
      "cell_type": "code",
      "metadata": {
        "colab": {
          "resources": {
            "http://localhost:8080/nbextensions/google.colab/files.js": {
              "data": "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",
              "ok": true,
              "headers": [
                [
                  "content-type",
                  "application/javascript"
                ]
              ],
              "status": 200,
              "status_text": ""
            }
          },
          "base_uri": "https://localhost:8080/",
          "height": 192
        },
        "id": "6e2vtoO8PcTs",
        "outputId": "ae4ac894-2a72-4cb7-efe5-3c53563fb744"
      },
      "source": [
        "from google.colab import files\n",
        "\n",
        "uploaded = files.upload()\n",
        "\n",
        "for fn in uploaded.keys():\n",
        "  print('User uploaded file \"{name}\" with length {length} bytes'.format(\n",
        "      name=fn, length=len(uploaded[fn])))"
      ],
      "execution_count": 3,
      "outputs": [
        {
          "output_type": "display_data",
          "data": {
            "text/html": [
              "\n",
              "     <input type=\"file\" id=\"files-bd819c55-cb4e-414f-8103-88827e6018f5\" name=\"files[]\" multiple disabled\n",
              "        style=\"border:none\" />\n",
              "     <output id=\"result-bd819c55-cb4e-414f-8103-88827e6018f5\">\n",
              "      Upload widget is only available when the cell has been executed in the\n",
              "      current browser session. Please rerun this cell to enable.\n",
              "      </output>\n",
              "      <script src=\"/nbextensions/google.colab/files.js\"></script> "
            ],
            "text/plain": [
              "<IPython.core.display.HTML object>"
            ]
          },
          "metadata": {}
        },
        {
          "output_type": "stream",
          "name": "stdout",
          "text": [
            "Saving SampleSubmission.csv to SampleSubmission.csv\n",
            "Saving Test.csv to Test.csv\n",
            "Saving Train.csv to Train.csv\n",
            "User uploaded file \"SampleSubmission.csv\" with length 8748 bytes\n",
            "User uploaded file \"Test.csv\" with length 67526 bytes\n",
            "User uploaded file \"Train.csv\" with length 160318 bytes\n"
          ]
        }
      ]
    },
    {
      "cell_type": "code",
      "metadata": {
        "id": "hjr0s1I8Ov9T"
      },
      "source": [
        "train = pd.read_csv('Train.csv')\n",
        "test = pd.read_csv('Test.csv')\n",
        "sample_submission = pd.read_csv('SampleSubmission.csv')"
      ],
      "execution_count": 4,
      "outputs": []
    },
    {
      "cell_type": "code",
      "metadata": {
        "colab": {
          "base_uri": "https://localhost:8080/",
          "height": 886
        },
        "id": "jl9oNre2Ov9V",
        "outputId": "27f87d01-e0b0-447a-b6ac-078805290178"
      },
      "source": [
        "train.head().T"
      ],
      "execution_count": 5,
      "outputs": [
        {
          "output_type": "execute_result",
          "data": {
            "text/html": [
              "<div>\n",
              "<style scoped>\n",
              "    .dataframe tbody tr th:only-of-type {\n",
              "        vertical-align: middle;\n",
              "    }\n",
              "\n",
              "    .dataframe tbody tr th {\n",
              "        vertical-align: top;\n",
              "    }\n",
              "\n",
              "    .dataframe thead th {\n",
              "        text-align: right;\n",
              "    }\n",
              "</style>\n",
              "<table border=\"1\" class=\"dataframe\">\n",
              "  <thead>\n",
              "    <tr style=\"text-align: right;\">\n",
              "      <th></th>\n",
              "      <th>0</th>\n",
              "      <th>1</th>\n",
              "      <th>2</th>\n",
              "      <th>3</th>\n",
              "      <th>4</th>\n",
              "    </tr>\n",
              "  </thead>\n",
              "  <tbody>\n",
              "    <tr>\n",
              "      <th>ID</th>\n",
              "      <td>ID_4A9AR6FQ</td>\n",
              "      <td>ID_X28T3VEK</td>\n",
              "      <td>ID_AWXARH57</td>\n",
              "      <td>ID_FQVZHE81</td>\n",
              "      <td>ID_QVLWGPRN</td>\n",
              "    </tr>\n",
              "    <tr>\n",
              "      <th>Year_of_Birth</th>\n",
              "      <td>1955</td>\n",
              "      <td>1958</td>\n",
              "      <td>1962</td>\n",
              "      <td>1979</td>\n",
              "      <td>1959</td>\n",
              "    </tr>\n",
              "    <tr>\n",
              "      <th>Education_Level</th>\n",
              "      <td>Graduation</td>\n",
              "      <td>Graduation</td>\n",
              "      <td>Graduation</td>\n",
              "      <td>2n Cycle</td>\n",
              "      <td>Graduation</td>\n",
              "    </tr>\n",
              "    <tr>\n",
              "      <th>Marital_Status</th>\n",
              "      <td>Divorced</td>\n",
              "      <td>Together</td>\n",
              "      <td>Single</td>\n",
              "      <td>Single</td>\n",
              "      <td>Married</td>\n",
              "    </tr>\n",
              "    <tr>\n",
              "      <th>Disposable_Income</th>\n",
              "      <td>77504.4</td>\n",
              "      <td>56784</td>\n",
              "      <td>103715</td>\n",
              "      <td>46311.6</td>\n",
              "      <td>87486</td>\n",
              "    </tr>\n",
              "    <tr>\n",
              "      <th>No_of_Kids_in_home</th>\n",
              "      <td>1</td>\n",
              "      <td>0</td>\n",
              "      <td>0</td>\n",
              "      <td>1</td>\n",
              "      <td>0</td>\n",
              "    </tr>\n",
              "    <tr>\n",
              "      <th>No_of_Teen_in_home</th>\n",
              "      <td>1</td>\n",
              "      <td>1</td>\n",
              "      <td>0</td>\n",
              "      <td>0</td>\n",
              "      <td>0</td>\n",
              "    </tr>\n",
              "    <tr>\n",
              "      <th>Date_Customer</th>\n",
              "      <td>22-06-2014</td>\n",
              "      <td>01-08-2013</td>\n",
              "      <td>21-11-2013</td>\n",
              "      <td>13-09-2013</td>\n",
              "      <td>21-01-2014</td>\n",
              "    </tr>\n",
              "    <tr>\n",
              "      <th>Recency</th>\n",
              "      <td>56</td>\n",
              "      <td>17</td>\n",
              "      <td>17</td>\n",
              "      <td>49</td>\n",
              "      <td>59</td>\n",
              "    </tr>\n",
              "    <tr>\n",
              "      <th>Discounted_Purchases</th>\n",
              "      <td>2</td>\n",
              "      <td>6</td>\n",
              "      <td>0</td>\n",
              "      <td>3</td>\n",
              "      <td>1</td>\n",
              "    </tr>\n",
              "    <tr>\n",
              "      <th>WebPurchases</th>\n",
              "      <td>1</td>\n",
              "      <td>5</td>\n",
              "      <td>7</td>\n",
              "      <td>4</td>\n",
              "      <td>3</td>\n",
              "    </tr>\n",
              "    <tr>\n",
              "      <th>CatalogPurchases</th>\n",
              "      <td>1</td>\n",
              "      <td>1</td>\n",
              "      <td>4</td>\n",
              "      <td>1</td>\n",
              "      <td>7</td>\n",
              "    </tr>\n",
              "    <tr>\n",
              "      <th>StorePurchases</th>\n",
              "      <td>4</td>\n",
              "      <td>8</td>\n",
              "      <td>7</td>\n",
              "      <td>3</td>\n",
              "      <td>9</td>\n",
              "    </tr>\n",
              "    <tr>\n",
              "      <th>Amount_on_Wines</th>\n",
              "      <td>71</td>\n",
              "      <td>205</td>\n",
              "      <td>469</td>\n",
              "      <td>56</td>\n",
              "      <td>412</td>\n",
              "    </tr>\n",
              "    <tr>\n",
              "      <th>Amount_on_Fruits</th>\n",
              "      <td>3</td>\n",
              "      <td>22</td>\n",
              "      <td>31</td>\n",
              "      <td>15</td>\n",
              "      <td>117</td>\n",
              "    </tr>\n",
              "    <tr>\n",
              "      <th>Amount_on_MeatProducts</th>\n",
              "      <td>16</td>\n",
              "      <td>111</td>\n",
              "      <td>873</td>\n",
              "      <td>49</td>\n",
              "      <td>445</td>\n",
              "    </tr>\n",
              "    <tr>\n",
              "      <th>Amount_on_FishProducts</th>\n",
              "      <td>0</td>\n",
              "      <td>50</td>\n",
              "      <td>29</td>\n",
              "      <td>17</td>\n",
              "      <td>181</td>\n",
              "    </tr>\n",
              "    <tr>\n",
              "      <th>Amount_on_SweetProducts</th>\n",
              "      <td>6</td>\n",
              "      <td>15</td>\n",
              "      <td>18</td>\n",
              "      <td>24</td>\n",
              "      <td>165</td>\n",
              "    </tr>\n",
              "    <tr>\n",
              "      <th>Amount_on_GoldProds</th>\n",
              "      <td>20</td>\n",
              "      <td>19</td>\n",
              "      <td>37</td>\n",
              "      <td>24</td>\n",
              "      <td>203</td>\n",
              "    </tr>\n",
              "    <tr>\n",
              "      <th>WebVisitsMonth</th>\n",
              "      <td>3</td>\n",
              "      <td>6</td>\n",
              "      <td>2</td>\n",
              "      <td>8</td>\n",
              "      <td>1</td>\n",
              "    </tr>\n",
              "    <tr>\n",
              "      <th>Cmp3Accepted</th>\n",
              "      <td>0</td>\n",
              "      <td>0</td>\n",
              "      <td>0</td>\n",
              "      <td>0</td>\n",
              "      <td>0</td>\n",
              "    </tr>\n",
              "    <tr>\n",
              "      <th>Cmp4Accepted</th>\n",
              "      <td>0</td>\n",
              "      <td>0</td>\n",
              "      <td>0</td>\n",
              "      <td>0</td>\n",
              "      <td>0</td>\n",
              "    </tr>\n",
              "    <tr>\n",
              "      <th>Cmp5Accepted</th>\n",
              "      <td>0</td>\n",
              "      <td>0</td>\n",
              "      <td>0</td>\n",
              "      <td>0</td>\n",
              "      <td>0</td>\n",
              "    </tr>\n",
              "    <tr>\n",
              "      <th>Cmp1Accepted</th>\n",
              "      <td>0</td>\n",
              "      <td>0</td>\n",
              "      <td>1</td>\n",
              "      <td>0</td>\n",
              "      <td>1</td>\n",
              "    </tr>\n",
              "    <tr>\n",
              "      <th>Cmp2Accepted</th>\n",
              "      <td>0</td>\n",
              "      <td>0</td>\n",
              "      <td>0</td>\n",
              "      <td>0</td>\n",
              "      <td>0</td>\n",
              "    </tr>\n",
              "    <tr>\n",
              "      <th>Any_Complain</th>\n",
              "      <td>0</td>\n",
              "      <td>0</td>\n",
              "      <td>0</td>\n",
              "      <td>0</td>\n",
              "      <td>0</td>\n",
              "    </tr>\n",
              "    <tr>\n",
              "      <th>Response</th>\n",
              "      <td>0</td>\n",
              "      <td>0</td>\n",
              "      <td>1</td>\n",
              "      <td>0</td>\n",
              "      <td>0</td>\n",
              "    </tr>\n",
              "  </tbody>\n",
              "</table>\n",
              "</div>"
            ],
            "text/plain": [
              "                                   0            1  ...            3            4\n",
              "ID                       ID_4A9AR6FQ  ID_X28T3VEK  ...  ID_FQVZHE81  ID_QVLWGPRN\n",
              "Year_of_Birth                   1955         1958  ...         1979         1959\n",
              "Education_Level           Graduation   Graduation  ...     2n Cycle   Graduation\n",
              "Marital_Status              Divorced     Together  ...       Single      Married\n",
              "Disposable_Income            77504.4        56784  ...      46311.6        87486\n",
              "No_of_Kids_in_home                 1            0  ...            1            0\n",
              "No_of_Teen_in_home                 1            1  ...            0            0\n",
              "Date_Customer             22-06-2014   01-08-2013  ...   13-09-2013   21-01-2014\n",
              "Recency                           56           17  ...           49           59\n",
              "Discounted_Purchases               2            6  ...            3            1\n",
              "WebPurchases                       1            5  ...            4            3\n",
              "CatalogPurchases                   1            1  ...            1            7\n",
              "StorePurchases                     4            8  ...            3            9\n",
              "Amount_on_Wines                   71          205  ...           56          412\n",
              "Amount_on_Fruits                   3           22  ...           15          117\n",
              "Amount_on_MeatProducts            16          111  ...           49          445\n",
              "Amount_on_FishProducts             0           50  ...           17          181\n",
              "Amount_on_SweetProducts            6           15  ...           24          165\n",
              "Amount_on_GoldProds               20           19  ...           24          203\n",
              "WebVisitsMonth                     3            6  ...            8            1\n",
              "Cmp3Accepted                       0            0  ...            0            0\n",
              "Cmp4Accepted                       0            0  ...            0            0\n",
              "Cmp5Accepted                       0            0  ...            0            0\n",
              "Cmp1Accepted                       0            0  ...            0            1\n",
              "Cmp2Accepted                       0            0  ...            0            0\n",
              "Any_Complain                       0            0  ...            0            0\n",
              "Response                           0            0  ...            0            0\n",
              "\n",
              "[27 rows x 5 columns]"
            ]
          },
          "metadata": {},
          "execution_count": 5
        }
      ]
    },
    {
      "cell_type": "code",
      "metadata": {
        "colab": {
          "base_uri": "https://localhost:8080/",
          "height": 855
        },
        "id": "TD1BikR4Ov9X",
        "outputId": "9d2337bb-91eb-4022-9d12-905a3244376e"
      },
      "source": [
        "test.head().T"
      ],
      "execution_count": 6,
      "outputs": [
        {
          "output_type": "execute_result",
          "data": {
            "text/html": [
              "<div>\n",
              "<style scoped>\n",
              "    .dataframe tbody tr th:only-of-type {\n",
              "        vertical-align: middle;\n",
              "    }\n",
              "\n",
              "    .dataframe tbody tr th {\n",
              "        vertical-align: top;\n",
              "    }\n",
              "\n",
              "    .dataframe thead th {\n",
              "        text-align: right;\n",
              "    }\n",
              "</style>\n",
              "<table border=\"1\" class=\"dataframe\">\n",
              "  <thead>\n",
              "    <tr style=\"text-align: right;\">\n",
              "      <th></th>\n",
              "      <th>0</th>\n",
              "      <th>1</th>\n",
              "      <th>2</th>\n",
              "      <th>3</th>\n",
              "      <th>4</th>\n",
              "    </tr>\n",
              "  </thead>\n",
              "  <tbody>\n",
              "    <tr>\n",
              "      <th>ID</th>\n",
              "      <td>ID_ZPMABNVX</td>\n",
              "      <td>ID_WFE91NAA</td>\n",
              "      <td>ID_JV11RBRK</td>\n",
              "      <td>ID_6B7SVKY9</td>\n",
              "      <td>ID_GOVUZ545</td>\n",
              "    </tr>\n",
              "    <tr>\n",
              "      <th>Year_of_Birth</th>\n",
              "      <td>1954</td>\n",
              "      <td>1961</td>\n",
              "      <td>1973</td>\n",
              "      <td>1970</td>\n",
              "      <td>1959</td>\n",
              "    </tr>\n",
              "    <tr>\n",
              "      <th>Education_Level</th>\n",
              "      <td>Graduation</td>\n",
              "      <td>Graduation</td>\n",
              "      <td>Basic</td>\n",
              "      <td>Graduation</td>\n",
              "      <td>Graduation</td>\n",
              "    </tr>\n",
              "    <tr>\n",
              "      <th>Marital_Status</th>\n",
              "      <td>Single</td>\n",
              "      <td>Widow</td>\n",
              "      <td>Married</td>\n",
              "      <td>Together</td>\n",
              "      <td>Together</td>\n",
              "    </tr>\n",
              "    <tr>\n",
              "      <th>Disposable_Income</th>\n",
              "      <td>48556.8</td>\n",
              "      <td>57499.2</td>\n",
              "      <td>17025.6</td>\n",
              "      <td>91983.6</td>\n",
              "      <td>78235.2</td>\n",
              "    </tr>\n",
              "    <tr>\n",
              "      <th>No_of_Kids_in_home</th>\n",
              "      <td>0</td>\n",
              "      <td>0</td>\n",
              "      <td>0</td>\n",
              "      <td>0</td>\n",
              "      <td>0</td>\n",
              "    </tr>\n",
              "    <tr>\n",
              "      <th>No_of_Teen_in_home</th>\n",
              "      <td>1</td>\n",
              "      <td>1</td>\n",
              "      <td>0</td>\n",
              "      <td>0</td>\n",
              "      <td>2</td>\n",
              "    </tr>\n",
              "    <tr>\n",
              "      <th>Date_Customer</th>\n",
              "      <td>11-01-2013</td>\n",
              "      <td>22-11-2012</td>\n",
              "      <td>28-02-2013</td>\n",
              "      <td>16-08-2013</td>\n",
              "      <td>25-07-2013</td>\n",
              "    </tr>\n",
              "    <tr>\n",
              "      <th>Recency</th>\n",
              "      <td>85</td>\n",
              "      <td>79</td>\n",
              "      <td>47</td>\n",
              "      <td>98</td>\n",
              "      <td>41</td>\n",
              "    </tr>\n",
              "    <tr>\n",
              "      <th>Discounted_Purchases</th>\n",
              "      <td>6</td>\n",
              "      <td>5</td>\n",
              "      <td>1</td>\n",
              "      <td>1</td>\n",
              "      <td>2</td>\n",
              "    </tr>\n",
              "    <tr>\n",
              "      <th>WebPurchases</th>\n",
              "      <td>8</td>\n",
              "      <td>7</td>\n",
              "      <td>2</td>\n",
              "      <td>4</td>\n",
              "      <td>7</td>\n",
              "    </tr>\n",
              "    <tr>\n",
              "      <th>CatalogPurchases</th>\n",
              "      <td>2</td>\n",
              "      <td>4</td>\n",
              "      <td>0</td>\n",
              "      <td>7</td>\n",
              "      <td>6</td>\n",
              "    </tr>\n",
              "    <tr>\n",
              "      <th>StorePurchases</th>\n",
              "      <td>8</td>\n",
              "      <td>6</td>\n",
              "      <td>4</td>\n",
              "      <td>11</td>\n",
              "      <td>11</td>\n",
              "    </tr>\n",
              "    <tr>\n",
              "      <th>Amount_on_Wines</th>\n",
              "      <td>429</td>\n",
              "      <td>510</td>\n",
              "      <td>7</td>\n",
              "      <td>741</td>\n",
              "      <td>748</td>\n",
              "    </tr>\n",
              "    <tr>\n",
              "      <th>Amount_on_Fruits</th>\n",
              "      <td>20</td>\n",
              "      <td>3</td>\n",
              "      <td>10</td>\n",
              "      <td>66</td>\n",
              "      <td>22</td>\n",
              "    </tr>\n",
              "    <tr>\n",
              "      <th>Amount_on_MeatProducts</th>\n",
              "      <td>118</td>\n",
              "      <td>26</td>\n",
              "      <td>11</td>\n",
              "      <td>946</td>\n",
              "      <td>181</td>\n",
              "    </tr>\n",
              "    <tr>\n",
              "      <th>Amount_on_FishProducts</th>\n",
              "      <td>7</td>\n",
              "      <td>0</td>\n",
              "      <td>16</td>\n",
              "      <td>219</td>\n",
              "      <td>12</td>\n",
              "    </tr>\n",
              "    <tr>\n",
              "      <th>Amount_on_SweetProducts</th>\n",
              "      <td>23</td>\n",
              "      <td>0</td>\n",
              "      <td>12</td>\n",
              "      <td>189</td>\n",
              "      <td>0</td>\n",
              "    </tr>\n",
              "    <tr>\n",
              "      <th>Amount_on_GoldProds</th>\n",
              "      <td>41</td>\n",
              "      <td>75</td>\n",
              "      <td>27</td>\n",
              "      <td>126</td>\n",
              "      <td>200</td>\n",
              "    </tr>\n",
              "    <tr>\n",
              "      <th>WebVisitsMonth</th>\n",
              "      <td>8</td>\n",
              "      <td>6</td>\n",
              "      <td>6</td>\n",
              "      <td>2</td>\n",
              "      <td>5</td>\n",
              "    </tr>\n",
              "    <tr>\n",
              "      <th>Cmp3Accepted</th>\n",
              "      <td>0</td>\n",
              "      <td>0</td>\n",
              "      <td>0</td>\n",
              "      <td>0</td>\n",
              "      <td>1</td>\n",
              "    </tr>\n",
              "    <tr>\n",
              "      <th>Cmp4Accepted</th>\n",
              "      <td>0</td>\n",
              "      <td>1</td>\n",
              "      <td>0</td>\n",
              "      <td>0</td>\n",
              "      <td>0</td>\n",
              "    </tr>\n",
              "    <tr>\n",
              "      <th>Cmp5Accepted</th>\n",
              "      <td>0</td>\n",
              "      <td>0</td>\n",
              "      <td>0</td>\n",
              "      <td>1</td>\n",
              "      <td>0</td>\n",
              "    </tr>\n",
              "    <tr>\n",
              "      <th>Cmp1Accepted</th>\n",
              "      <td>0</td>\n",
              "      <td>0</td>\n",
              "      <td>0</td>\n",
              "      <td>1</td>\n",
              "      <td>0</td>\n",
              "    </tr>\n",
              "    <tr>\n",
              "      <th>Cmp2Accepted</th>\n",
              "      <td>0</td>\n",
              "      <td>0</td>\n",
              "      <td>0</td>\n",
              "      <td>0</td>\n",
              "      <td>0</td>\n",
              "    </tr>\n",
              "    <tr>\n",
              "      <th>Any_Complain</th>\n",
              "      <td>0</td>\n",
              "      <td>0</td>\n",
              "      <td>0</td>\n",
              "      <td>0</td>\n",
              "      <td>0</td>\n",
              "    </tr>\n",
              "  </tbody>\n",
              "</table>\n",
              "</div>"
            ],
            "text/plain": [
              "                                   0            1  ...            3            4\n",
              "ID                       ID_ZPMABNVX  ID_WFE91NAA  ...  ID_6B7SVKY9  ID_GOVUZ545\n",
              "Year_of_Birth                   1954         1961  ...         1970         1959\n",
              "Education_Level           Graduation   Graduation  ...   Graduation   Graduation\n",
              "Marital_Status                Single        Widow  ...     Together     Together\n",
              "Disposable_Income            48556.8      57499.2  ...      91983.6      78235.2\n",
              "No_of_Kids_in_home                 0            0  ...            0            0\n",
              "No_of_Teen_in_home                 1            1  ...            0            2\n",
              "Date_Customer             11-01-2013   22-11-2012  ...   16-08-2013   25-07-2013\n",
              "Recency                           85           79  ...           98           41\n",
              "Discounted_Purchases               6            5  ...            1            2\n",
              "WebPurchases                       8            7  ...            4            7\n",
              "CatalogPurchases                   2            4  ...            7            6\n",
              "StorePurchases                     8            6  ...           11           11\n",
              "Amount_on_Wines                  429          510  ...          741          748\n",
              "Amount_on_Fruits                  20            3  ...           66           22\n",
              "Amount_on_MeatProducts           118           26  ...          946          181\n",
              "Amount_on_FishProducts             7            0  ...          219           12\n",
              "Amount_on_SweetProducts           23            0  ...          189            0\n",
              "Amount_on_GoldProds               41           75  ...          126          200\n",
              "WebVisitsMonth                     8            6  ...            2            5\n",
              "Cmp3Accepted                       0            0  ...            0            1\n",
              "Cmp4Accepted                       0            1  ...            0            0\n",
              "Cmp5Accepted                       0            0  ...            1            0\n",
              "Cmp1Accepted                       0            0  ...            1            0\n",
              "Cmp2Accepted                       0            0  ...            0            0\n",
              "Any_Complain                       0            0  ...            0            0\n",
              "\n",
              "[26 rows x 5 columns]"
            ]
          },
          "metadata": {},
          "execution_count": 6
        }
      ]
    },
    {
      "cell_type": "code",
      "metadata": {
        "colab": {
          "base_uri": "https://localhost:8080/"
        },
        "id": "ApcaWJzYOv9Z",
        "outputId": "f7dbfd07-4938-48c0-f0e8-9772f05e9274"
      },
      "source": [
        "train.shape"
      ],
      "execution_count": 7,
      "outputs": [
        {
          "output_type": "execute_result",
          "data": {
            "text/plain": [
              "(1568, 27)"
            ]
          },
          "metadata": {},
          "execution_count": 7
        }
      ]
    },
    {
      "cell_type": "code",
      "metadata": {
        "colab": {
          "base_uri": "https://localhost:8080/"
        },
        "id": "8eFP1hhiOv9d",
        "outputId": "4c6fcc30-af07-4cbe-a2b2-d06a822462b6"
      },
      "source": [
        "test.shape"
      ],
      "execution_count": 8,
      "outputs": [
        {
          "output_type": "execute_result",
          "data": {
            "text/plain": [
              "(672, 26)"
            ]
          },
          "metadata": {},
          "execution_count": 8
        }
      ]
    },
    {
      "cell_type": "code",
      "metadata": {
        "colab": {
          "base_uri": "https://localhost:8080/",
          "height": 317
        },
        "id": "bQEJ6sRLOv9g",
        "outputId": "7aa25109-a49b-4383-97fa-13e4a2496e16"
      },
      "source": [
        "train.describe()"
      ],
      "execution_count": 9,
      "outputs": [
        {
          "output_type": "execute_result",
          "data": {
            "text/html": [
              "<div>\n",
              "<style scoped>\n",
              "    .dataframe tbody tr th:only-of-type {\n",
              "        vertical-align: middle;\n",
              "    }\n",
              "\n",
              "    .dataframe tbody tr th {\n",
              "        vertical-align: top;\n",
              "    }\n",
              "\n",
              "    .dataframe thead th {\n",
              "        text-align: right;\n",
              "    }\n",
              "</style>\n",
              "<table border=\"1\" class=\"dataframe\">\n",
              "  <thead>\n",
              "    <tr style=\"text-align: right;\">\n",
              "      <th></th>\n",
              "      <th>Year_of_Birth</th>\n",
              "      <th>Disposable_Income</th>\n",
              "      <th>No_of_Kids_in_home</th>\n",
              "      <th>No_of_Teen_in_home</th>\n",
              "      <th>Recency</th>\n",
              "      <th>Discounted_Purchases</th>\n",
              "      <th>WebPurchases</th>\n",
              "      <th>CatalogPurchases</th>\n",
              "      <th>StorePurchases</th>\n",
              "      <th>Amount_on_Wines</th>\n",
              "      <th>Amount_on_Fruits</th>\n",
              "      <th>Amount_on_MeatProducts</th>\n",
              "      <th>Amount_on_FishProducts</th>\n",
              "      <th>Amount_on_SweetProducts</th>\n",
              "      <th>Amount_on_GoldProds</th>\n",
              "      <th>WebVisitsMonth</th>\n",
              "      <th>Cmp3Accepted</th>\n",
              "      <th>Cmp4Accepted</th>\n",
              "      <th>Cmp5Accepted</th>\n",
              "      <th>Cmp1Accepted</th>\n",
              "      <th>Cmp2Accepted</th>\n",
              "      <th>Any_Complain</th>\n",
              "      <th>Response</th>\n",
              "    </tr>\n",
              "  </thead>\n",
              "  <tbody>\n",
              "    <tr>\n",
              "      <th>count</th>\n",
              "      <td>1568.000000</td>\n",
              "      <td>1552.000000</td>\n",
              "      <td>1568.000000</td>\n",
              "      <td>1568.000000</td>\n",
              "      <td>1568.000000</td>\n",
              "      <td>1568.000000</td>\n",
              "      <td>1568.000000</td>\n",
              "      <td>1568.000000</td>\n",
              "      <td>1568.000000</td>\n",
              "      <td>1568.000000</td>\n",
              "      <td>1568.000000</td>\n",
              "      <td>1568.000000</td>\n",
              "      <td>1568.000000</td>\n",
              "      <td>1568.000000</td>\n",
              "      <td>1568.000000</td>\n",
              "      <td>1568.000000</td>\n",
              "      <td>1568.000000</td>\n",
              "      <td>1568.000000</td>\n",
              "      <td>1568.000000</td>\n",
              "      <td>1568.000000</td>\n",
              "      <td>1568.000000</td>\n",
              "      <td>1568.000000</td>\n",
              "      <td>1568.000000</td>\n",
              "    </tr>\n",
              "    <tr>\n",
              "      <th>mean</th>\n",
              "      <td>1970.073342</td>\n",
              "      <td>62381.186598</td>\n",
              "      <td>0.460459</td>\n",
              "      <td>0.497449</td>\n",
              "      <td>55.408801</td>\n",
              "      <td>2.292730</td>\n",
              "      <td>4.001276</td>\n",
              "      <td>2.665816</td>\n",
              "      <td>5.703444</td>\n",
              "      <td>303.190051</td>\n",
              "      <td>29.091199</td>\n",
              "      <td>168.376276</td>\n",
              "      <td>37.166454</td>\n",
              "      <td>26.800383</td>\n",
              "      <td>43.739158</td>\n",
              "      <td>5.326531</td>\n",
              "      <td>0.072704</td>\n",
              "      <td>0.072704</td>\n",
              "      <td>0.080357</td>\n",
              "      <td>0.064413</td>\n",
              "      <td>0.012755</td>\n",
              "      <td>0.008291</td>\n",
              "      <td>0.152423</td>\n",
              "    </tr>\n",
              "    <tr>\n",
              "      <th>std</th>\n",
              "      <td>11.920781</td>\n",
              "      <td>32089.169563</td>\n",
              "      <td>0.540361</td>\n",
              "      <td>0.544151</td>\n",
              "      <td>28.788037</td>\n",
              "      <td>1.937544</td>\n",
              "      <td>2.773748</td>\n",
              "      <td>3.043493</td>\n",
              "      <td>3.260553</td>\n",
              "      <td>340.141396</td>\n",
              "      <td>39.565637</td>\n",
              "      <td>233.419980</td>\n",
              "      <td>53.994951</td>\n",
              "      <td>40.857657</td>\n",
              "      <td>51.591557</td>\n",
              "      <td>2.468023</td>\n",
              "      <td>0.259733</td>\n",
              "      <td>0.259733</td>\n",
              "      <td>0.271932</td>\n",
              "      <td>0.245566</td>\n",
              "      <td>0.112252</td>\n",
              "      <td>0.090705</td>\n",
              "      <td>0.359546</td>\n",
              "    </tr>\n",
              "    <tr>\n",
              "      <th>min</th>\n",
              "      <td>1900.000000</td>\n",
              "      <td>2076.000000</td>\n",
              "      <td>0.000000</td>\n",
              "      <td>0.000000</td>\n",
              "      <td>7.000000</td>\n",
              "      <td>0.000000</td>\n",
              "      <td>0.000000</td>\n",
              "      <td>0.000000</td>\n",
              "      <td>0.000000</td>\n",
              "      <td>5.000000</td>\n",
              "      <td>3.000000</td>\n",
              "      <td>0.000000</td>\n",
              "      <td>0.000000</td>\n",
              "      <td>0.000000</td>\n",
              "      <td>0.000000</td>\n",
              "      <td>0.000000</td>\n",
              "      <td>0.000000</td>\n",
              "      <td>0.000000</td>\n",
              "      <td>0.000000</td>\n",
              "      <td>0.000000</td>\n",
              "      <td>0.000000</td>\n",
              "      <td>0.000000</td>\n",
              "      <td>0.000000</td>\n",
              "    </tr>\n",
              "    <tr>\n",
              "      <th>25%</th>\n",
              "      <td>1960.000000</td>\n",
              "      <td>41612.400000</td>\n",
              "      <td>0.000000</td>\n",
              "      <td>0.000000</td>\n",
              "      <td>31.000000</td>\n",
              "      <td>1.000000</td>\n",
              "      <td>2.000000</td>\n",
              "      <td>0.000000</td>\n",
              "      <td>3.000000</td>\n",
              "      <td>27.000000</td>\n",
              "      <td>4.000000</td>\n",
              "      <td>15.000000</td>\n",
              "      <td>3.000000</td>\n",
              "      <td>1.000000</td>\n",
              "      <td>8.000000</td>\n",
              "      <td>3.000000</td>\n",
              "      <td>0.000000</td>\n",
              "      <td>0.000000</td>\n",
              "      <td>0.000000</td>\n",
              "      <td>0.000000</td>\n",
              "      <td>0.000000</td>\n",
              "      <td>0.000000</td>\n",
              "      <td>0.000000</td>\n",
              "    </tr>\n",
              "    <tr>\n",
              "      <th>50%</th>\n",
              "      <td>1971.000000</td>\n",
              "      <td>60964.200000</td>\n",
              "      <td>0.000000</td>\n",
              "      <td>0.000000</td>\n",
              "      <td>56.000000</td>\n",
              "      <td>2.000000</td>\n",
              "      <td>3.000000</td>\n",
              "      <td>2.000000</td>\n",
              "      <td>5.000000</td>\n",
              "      <td>167.000000</td>\n",
              "      <td>11.000000</td>\n",
              "      <td>64.000000</td>\n",
              "      <td>12.000000</td>\n",
              "      <td>8.000000</td>\n",
              "      <td>25.000000</td>\n",
              "      <td>6.000000</td>\n",
              "      <td>0.000000</td>\n",
              "      <td>0.000000</td>\n",
              "      <td>0.000000</td>\n",
              "      <td>0.000000</td>\n",
              "      <td>0.000000</td>\n",
              "      <td>0.000000</td>\n",
              "      <td>0.000000</td>\n",
              "    </tr>\n",
              "    <tr>\n",
              "      <th>75%</th>\n",
              "      <td>1979.000000</td>\n",
              "      <td>81493.200000</td>\n",
              "      <td>1.000000</td>\n",
              "      <td>1.000000</td>\n",
              "      <td>80.000000</td>\n",
              "      <td>3.000000</td>\n",
              "      <td>6.000000</td>\n",
              "      <td>4.000000</td>\n",
              "      <td>8.000000</td>\n",
              "      <td>499.500000</td>\n",
              "      <td>36.000000</td>\n",
              "      <td>232.000000</td>\n",
              "      <td>49.250000</td>\n",
              "      <td>33.000000</td>\n",
              "      <td>56.000000</td>\n",
              "      <td>7.000000</td>\n",
              "      <td>0.000000</td>\n",
              "      <td>0.000000</td>\n",
              "      <td>0.000000</td>\n",
              "      <td>0.000000</td>\n",
              "      <td>0.000000</td>\n",
              "      <td>0.000000</td>\n",
              "      <td>0.000000</td>\n",
              "    </tr>\n",
              "    <tr>\n",
              "      <th>max</th>\n",
              "      <td>1997.000000</td>\n",
              "      <td>799999.200000</td>\n",
              "      <td>2.000000</td>\n",
              "      <td>2.000000</td>\n",
              "      <td>106.000000</td>\n",
              "      <td>15.000000</td>\n",
              "      <td>27.000000</td>\n",
              "      <td>28.000000</td>\n",
              "      <td>13.000000</td>\n",
              "      <td>1498.000000</td>\n",
              "      <td>202.000000</td>\n",
              "      <td>1725.000000</td>\n",
              "      <td>259.000000</td>\n",
              "      <td>263.000000</td>\n",
              "      <td>362.000000</td>\n",
              "      <td>20.000000</td>\n",
              "      <td>1.000000</td>\n",
              "      <td>1.000000</td>\n",
              "      <td>1.000000</td>\n",
              "      <td>1.000000</td>\n",
              "      <td>1.000000</td>\n",
              "      <td>1.000000</td>\n",
              "      <td>1.000000</td>\n",
              "    </tr>\n",
              "  </tbody>\n",
              "</table>\n",
              "</div>"
            ],
            "text/plain": [
              "       Year_of_Birth  Disposable_Income  ...  Any_Complain     Response\n",
              "count    1568.000000        1552.000000  ...   1568.000000  1568.000000\n",
              "mean     1970.073342       62381.186598  ...      0.008291     0.152423\n",
              "std        11.920781       32089.169563  ...      0.090705     0.359546\n",
              "min      1900.000000        2076.000000  ...      0.000000     0.000000\n",
              "25%      1960.000000       41612.400000  ...      0.000000     0.000000\n",
              "50%      1971.000000       60964.200000  ...      0.000000     0.000000\n",
              "75%      1979.000000       81493.200000  ...      0.000000     0.000000\n",
              "max      1997.000000      799999.200000  ...      1.000000     1.000000\n",
              "\n",
              "[8 rows x 23 columns]"
            ]
          },
          "metadata": {},
          "execution_count": 9
        }
      ]
    },
    {
      "cell_type": "code",
      "metadata": {
        "colab": {
          "base_uri": "https://localhost:8080/"
        },
        "id": "lSvq-3f5Ov9k",
        "outputId": "6841f2ad-145a-47b5-a729-fa919ef88164"
      },
      "source": [
        "train.info()"
      ],
      "execution_count": 10,
      "outputs": [
        {
          "output_type": "stream",
          "name": "stdout",
          "text": [
            "<class 'pandas.core.frame.DataFrame'>\n",
            "RangeIndex: 1568 entries, 0 to 1567\n",
            "Data columns (total 27 columns):\n",
            " #   Column                   Non-Null Count  Dtype  \n",
            "---  ------                   --------------  -----  \n",
            " 0   ID                       1568 non-null   object \n",
            " 1   Year_of_Birth            1568 non-null   int64  \n",
            " 2   Education_Level          1568 non-null   object \n",
            " 3   Marital_Status           1568 non-null   object \n",
            " 4   Disposable_Income        1552 non-null   float64\n",
            " 5   No_of_Kids_in_home       1568 non-null   int64  \n",
            " 6   No_of_Teen_in_home       1568 non-null   int64  \n",
            " 7   Date_Customer            1568 non-null   object \n",
            " 8   Recency                  1568 non-null   int64  \n",
            " 9   Discounted_Purchases     1568 non-null   int64  \n",
            " 10  WebPurchases             1568 non-null   int64  \n",
            " 11  CatalogPurchases         1568 non-null   int64  \n",
            " 12  StorePurchases           1568 non-null   int64  \n",
            " 13  Amount_on_Wines          1568 non-null   int64  \n",
            " 14  Amount_on_Fruits         1568 non-null   int64  \n",
            " 15  Amount_on_MeatProducts   1568 non-null   int64  \n",
            " 16  Amount_on_FishProducts   1568 non-null   int64  \n",
            " 17  Amount_on_SweetProducts  1568 non-null   int64  \n",
            " 18  Amount_on_GoldProds      1568 non-null   int64  \n",
            " 19  WebVisitsMonth           1568 non-null   int64  \n",
            " 20  Cmp3Accepted             1568 non-null   int64  \n",
            " 21  Cmp4Accepted             1568 non-null   int64  \n",
            " 22  Cmp5Accepted             1568 non-null   int64  \n",
            " 23  Cmp1Accepted             1568 non-null   int64  \n",
            " 24  Cmp2Accepted             1568 non-null   int64  \n",
            " 25  Any_Complain             1568 non-null   int64  \n",
            " 26  Response                 1568 non-null   int64  \n",
            "dtypes: float64(1), int64(22), object(4)\n",
            "memory usage: 330.9+ KB\n"
          ]
        }
      ]
    },
    {
      "cell_type": "code",
      "metadata": {
        "colab": {
          "base_uri": "https://localhost:8080/"
        },
        "id": "SJ_RLu7xOv9m",
        "outputId": "77216ad2-7020-4cce-ff44-60069742a2ad"
      },
      "source": [
        "test.info()"
      ],
      "execution_count": 11,
      "outputs": [
        {
          "output_type": "stream",
          "name": "stdout",
          "text": [
            "<class 'pandas.core.frame.DataFrame'>\n",
            "RangeIndex: 672 entries, 0 to 671\n",
            "Data columns (total 26 columns):\n",
            " #   Column                   Non-Null Count  Dtype  \n",
            "---  ------                   --------------  -----  \n",
            " 0   ID                       672 non-null    object \n",
            " 1   Year_of_Birth            672 non-null    int64  \n",
            " 2   Education_Level          672 non-null    object \n",
            " 3   Marital_Status           672 non-null    object \n",
            " 4   Disposable_Income        664 non-null    float64\n",
            " 5   No_of_Kids_in_home       672 non-null    int64  \n",
            " 6   No_of_Teen_in_home       672 non-null    int64  \n",
            " 7   Date_Customer            672 non-null    object \n",
            " 8   Recency                  672 non-null    int64  \n",
            " 9   Discounted_Purchases     672 non-null    int64  \n",
            " 10  WebPurchases             672 non-null    int64  \n",
            " 11  CatalogPurchases         672 non-null    int64  \n",
            " 12  StorePurchases           672 non-null    int64  \n",
            " 13  Amount_on_Wines          672 non-null    int64  \n",
            " 14  Amount_on_Fruits         672 non-null    int64  \n",
            " 15  Amount_on_MeatProducts   672 non-null    int64  \n",
            " 16  Amount_on_FishProducts   672 non-null    int64  \n",
            " 17  Amount_on_SweetProducts  672 non-null    int64  \n",
            " 18  Amount_on_GoldProds      672 non-null    int64  \n",
            " 19  WebVisitsMonth           672 non-null    int64  \n",
            " 20  Cmp3Accepted             672 non-null    int64  \n",
            " 21  Cmp4Accepted             672 non-null    int64  \n",
            " 22  Cmp5Accepted             672 non-null    int64  \n",
            " 23  Cmp1Accepted             672 non-null    int64  \n",
            " 24  Cmp2Accepted             672 non-null    int64  \n",
            " 25  Any_Complain             672 non-null    int64  \n",
            "dtypes: float64(1), int64(21), object(4)\n",
            "memory usage: 136.6+ KB\n"
          ]
        }
      ]
    },
    {
      "cell_type": "code",
      "metadata": {
        "colab": {
          "base_uri": "https://localhost:8080/"
        },
        "id": "j8HTWdZWOv9o",
        "outputId": "11030c5f-3623-4dda-f571-f5bd3cddfaf9"
      },
      "source": [
        "train['Education_Level'].value_counts()"
      ],
      "execution_count": 12,
      "outputs": [
        {
          "output_type": "execute_result",
          "data": {
            "text/plain": [
              "Graduation    802\n",
              "PhD           340\n",
              "Master        246\n",
              "2n Cycle      142\n",
              "Basic          38\n",
              "Name: Education_Level, dtype: int64"
            ]
          },
          "metadata": {},
          "execution_count": 12
        }
      ]
    },
    {
      "cell_type": "code",
      "metadata": {
        "colab": {
          "base_uri": "https://localhost:8080/"
        },
        "id": "mjQDkTljOv9r",
        "outputId": "211f0105-a37e-4a9a-8b6d-5887fd25c4bf"
      },
      "source": [
        "test['Education_Level'].value_counts()"
      ],
      "execution_count": 13,
      "outputs": [
        {
          "output_type": "execute_result",
          "data": {
            "text/plain": [
              "Graduation    325\n",
              "PhD           146\n",
              "Master        124\n",
              "2n Cycle       61\n",
              "Basic          16\n",
              "Name: Education_Level, dtype: int64"
            ]
          },
          "metadata": {},
          "execution_count": 13
        }
      ]
    },
    {
      "cell_type": "code",
      "metadata": {
        "colab": {
          "base_uri": "https://localhost:8080/"
        },
        "id": "7eS_jD2TOv9s",
        "outputId": "ed25635d-9a43-4112-c4fa-7673fe89eab4"
      },
      "source": [
        "train['Response'].value_counts()"
      ],
      "execution_count": 14,
      "outputs": [
        {
          "output_type": "execute_result",
          "data": {
            "text/plain": [
              "0    1329\n",
              "1     239\n",
              "Name: Response, dtype: int64"
            ]
          },
          "metadata": {},
          "execution_count": 14
        }
      ]
    },
    {
      "cell_type": "code",
      "metadata": {
        "colab": {
          "base_uri": "https://localhost:8080/",
          "height": 262
        },
        "id": "0qfszpKHOv9u",
        "outputId": "8bb34d31-6f3d-4cbd-d73e-ecdb2d7d8aea"
      },
      "source": [
        "train.Response.value_counts().plot(kind='bar')\n",
        "plt.show()"
      ],
      "execution_count": 15,
      "outputs": [
        {
          "output_type": "display_data",
          "data": {
            "image/png": "[encoded data removed]",
            "text/plain": [
              "<Figure size 432x288 with 1 Axes>"
            ]
          },
          "metadata": {
            "needs_background": "light"
          }
        }
      ]
    },
    {
      "cell_type": "code",
      "metadata": {
        "colab": {
          "base_uri": "https://localhost:8080/"
        },
        "id": "fjz_Nx6dOv9v",
        "outputId": "56d51145-e300-4590-a02f-fb451e7f2fb2"
      },
      "source": [
        "train['Marital_Status'].value_counts()"
      ],
      "execution_count": 16,
      "outputs": [
        {
          "output_type": "execute_result",
          "data": {
            "text/plain": [
              "Married     615\n",
              "Together    409\n",
              "Single      329\n",
              "Divorced    159\n",
              "Widow        50\n",
              "Alone         3\n",
              "YOLO          2\n",
              "Absurd        1\n",
              "Name: Marital_Status, dtype: int64"
            ]
          },
          "metadata": {},
          "execution_count": 16
        }
      ]
    },
    {
      "cell_type": "code",
      "metadata": {
        "colab": {
          "base_uri": "https://localhost:8080/"
        },
        "id": "b-muuiS2Ov9x",
        "outputId": "0ba2cc22-74bf-4cec-bf58-92e280d7f127"
      },
      "source": [
        "test['Marital_Status'].value_counts()"
      ],
      "execution_count": 17,
      "outputs": [
        {
          "output_type": "execute_result",
          "data": {
            "text/plain": [
              "Married     249\n",
              "Together    171\n",
              "Single      151\n",
              "Divorced     73\n",
              "Widow        27\n",
              "Absurd        1\n",
              "Name: Marital_Status, dtype: int64"
            ]
          },
          "metadata": {},
          "execution_count": 17
        }
      ]
    },
    {
      "cell_type": "code",
      "metadata": {
        "id": "HUOaHB38Ov90"
      },
      "source": [
        "#Convert Datetime\n",
        "train['Date_Customer'] = pd.to_datetime(train['Date_Customer'])\n",
        "test['Date_Customer'] = pd.to_datetime(test['Date_Customer'])"
      ],
      "execution_count": 18,
      "outputs": []
    },
    {
      "cell_type": "code",
      "metadata": {
        "colab": {
          "base_uri": "https://localhost:8080/"
        },
        "id": "r4y7g4RFOv93",
        "outputId": "1a340f28-a12f-443b-c9bb-4c918319af1e"
      },
      "source": [
        "#Checking for missing values in train and test\n",
        "\n",
        "train.isnull().sum()"
      ],
      "execution_count": 19,
      "outputs": [
        {
          "output_type": "execute_result",
          "data": {
            "text/plain": [
              "ID                          0\n",
              "Year_of_Birth               0\n",
              "Education_Level             0\n",
              "Marital_Status              0\n",
              "Disposable_Income          16\n",
              "No_of_Kids_in_home          0\n",
              "No_of_Teen_in_home          0\n",
              "Date_Customer               0\n",
              "Recency                     0\n",
              "Discounted_Purchases        0\n",
              "WebPurchases                0\n",
              "CatalogPurchases            0\n",
              "StorePurchases              0\n",
              "Amount_on_Wines             0\n",
              "Amount_on_Fruits            0\n",
              "Amount_on_MeatProducts      0\n",
              "Amount_on_FishProducts      0\n",
              "Amount_on_SweetProducts     0\n",
              "Amount_on_GoldProds         0\n",
              "WebVisitsMonth              0\n",
              "Cmp3Accepted                0\n",
              "Cmp4Accepted                0\n",
              "Cmp5Accepted                0\n",
              "Cmp1Accepted                0\n",
              "Cmp2Accepted                0\n",
              "Any_Complain                0\n",
              "Response                    0\n",
              "dtype: int64"
            ]
          },
          "metadata": {},
          "execution_count": 19
        }
      ]
    },
    {
      "cell_type": "code",
      "metadata": {
        "colab": {
          "base_uri": "https://localhost:8080/"
        },
        "id": "uMIMYapAOv95",
        "outputId": "ba67f2c8-4e8f-4f71-f789-66da07c71841"
      },
      "source": [
        "test.isnull().sum()"
      ],
      "execution_count": 20,
      "outputs": [
        {
          "output_type": "execute_result",
          "data": {
            "text/plain": [
              "ID                         0\n",
              "Year_of_Birth              0\n",
              "Education_Level            0\n",
              "Marital_Status             0\n",
              "Disposable_Income          8\n",
              "No_of_Kids_in_home         0\n",
              "No_of_Teen_in_home         0\n",
              "Date_Customer              0\n",
              "Recency                    0\n",
              "Discounted_Purchases       0\n",
              "WebPurchases               0\n",
              "CatalogPurchases           0\n",
              "StorePurchases             0\n",
              "Amount_on_Wines            0\n",
              "Amount_on_Fruits           0\n",
              "Amount_on_MeatProducts     0\n",
              "Amount_on_FishProducts     0\n",
              "Amount_on_SweetProducts    0\n",
              "Amount_on_GoldProds        0\n",
              "WebVisitsMonth             0\n",
              "Cmp3Accepted               0\n",
              "Cmp4Accepted               0\n",
              "Cmp5Accepted               0\n",
              "Cmp1Accepted               0\n",
              "Cmp2Accepted               0\n",
              "Any_Complain               0\n",
              "dtype: int64"
            ]
          },
          "metadata": {},
          "execution_count": 20
        }
      ]
    },
    {
      "cell_type": "code",
      "metadata": {
        "colab": {
          "base_uri": "https://localhost:8080/"
        },
        "id": "mwJQIsR7Ov97",
        "outputId": "2f1412c1-2634-470d-cfc8-f238aab2bf5b"
      },
      "source": [
        "train['Disposable_Income']"
      ],
      "execution_count": 21,
      "outputs": [
        {
          "output_type": "execute_result",
          "data": {
            "text/plain": [
              "0        77504.4\n",
              "1        56784.0\n",
              "2       103714.8\n",
              "3        46311.6\n",
              "4        87486.0\n",
              "          ...   \n",
              "1563     52893.6\n",
              "1564     74190.0\n",
              "1565     80857.2\n",
              "1566     58701.6\n",
              "1567     27873.6\n",
              "Name: Disposable_Income, Length: 1568, dtype: float64"
            ]
          },
          "metadata": {},
          "execution_count": 21
        }
      ]
    },
    {
      "cell_type": "code",
      "metadata": {
        "id": "lW3WC6EsOv98"
      },
      "source": [
        "#Filling the missing values with mean on train\n",
        "\n",
        "mean_train = round(train['Disposable_Income'].mean(), 1)"
      ],
      "execution_count": 22,
      "outputs": []
    },
    {
      "cell_type": "code",
      "metadata": {
        "colab": {
          "base_uri": "https://localhost:8080/"
        },
        "id": "wKOYTmKYOv99",
        "outputId": "f79704ce-2ace-4ebe-8f23-fe5f6d48c304"
      },
      "source": [
        "mean_train"
      ],
      "execution_count": 23,
      "outputs": [
        {
          "output_type": "execute_result",
          "data": {
            "text/plain": [
              "62381.2"
            ]
          },
          "metadata": {},
          "execution_count": 23
        }
      ]
    },
    {
      "cell_type": "code",
      "metadata": {
        "id": "kRCayARYOv9_"
      },
      "source": [
        "train['Disposable_Income'] = train['Disposable_Income'].fillna(mean_train)"
      ],
      "execution_count": 24,
      "outputs": []
    },
    {
      "cell_type": "code",
      "metadata": {
        "colab": {
          "base_uri": "https://localhost:8080/"
        },
        "id": "F0okuP-eOv-A",
        "outputId": "1c414714-8bdd-4efe-9080-6eb377466784"
      },
      "source": [
        "train.isnull().sum()"
      ],
      "execution_count": 25,
      "outputs": [
        {
          "output_type": "execute_result",
          "data": {
            "text/plain": [
              "ID                         0\n",
              "Year_of_Birth              0\n",
              "Education_Level            0\n",
              "Marital_Status             0\n",
              "Disposable_Income          0\n",
              "No_of_Kids_in_home         0\n",
              "No_of_Teen_in_home         0\n",
              "Date_Customer              0\n",
              "Recency                    0\n",
              "Discounted_Purchases       0\n",
              "WebPurchases               0\n",
              "CatalogPurchases           0\n",
              "StorePurchases             0\n",
              "Amount_on_Wines            0\n",
              "Amount_on_Fruits           0\n",
              "Amount_on_MeatProducts     0\n",
              "Amount_on_FishProducts     0\n",
              "Amount_on_SweetProducts    0\n",
              "Amount_on_GoldProds        0\n",
              "WebVisitsMonth             0\n",
              "Cmp3Accepted               0\n",
              "Cmp4Accepted               0\n",
              "Cmp5Accepted               0\n",
              "Cmp1Accepted               0\n",
              "Cmp2Accepted               0\n",
              "Any_Complain               0\n",
              "Response                   0\n",
              "dtype: int64"
            ]
          },
          "metadata": {},
          "execution_count": 25
        }
      ]
    },
    {
      "cell_type": "code",
      "metadata": {
        "id": "YcIZh2XFOv-A"
      },
      "source": [
        "#Filling the missing values with mean on test\n",
        "\n",
        "mean_test = round(test['Disposable_Income'].mean(), 1)"
      ],
      "execution_count": 26,
      "outputs": []
    },
    {
      "cell_type": "code",
      "metadata": {
        "colab": {
          "base_uri": "https://localhost:8080/"
        },
        "id": "jQhVve5nOv-B",
        "outputId": "99d331f9-d548-4eb3-edde-06e6ddb5b34e"
      },
      "source": [
        "mean_test"
      ],
      "execution_count": 27,
      "outputs": [
        {
          "output_type": "execute_result",
          "data": {
            "text/plain": [
              "63434.2"
            ]
          },
          "metadata": {},
          "execution_count": 27
        }
      ]
    },
    {
      "cell_type": "code",
      "metadata": {
        "id": "7fQCUT0sOv-D"
      },
      "source": [
        "test['Disposable_Income'] = test['Disposable_Income'].fillna(mean_test)"
      ],
      "execution_count": 28,
      "outputs": []
    },
    {
      "cell_type": "code",
      "metadata": {
        "colab": {
          "base_uri": "https://localhost:8080/"
        },
        "id": "o2uSaddKOv-E",
        "outputId": "71d1470f-3092-4324-a63b-86785012fe1a"
      },
      "source": [
        "test.isnull().sum()"
      ],
      "execution_count": 29,
      "outputs": [
        {
          "output_type": "execute_result",
          "data": {
            "text/plain": [
              "ID                         0\n",
              "Year_of_Birth              0\n",
              "Education_Level            0\n",
              "Marital_Status             0\n",
              "Disposable_Income          0\n",
              "No_of_Kids_in_home         0\n",
              "No_of_Teen_in_home         0\n",
              "Date_Customer              0\n",
              "Recency                    0\n",
              "Discounted_Purchases       0\n",
              "WebPurchases               0\n",
              "CatalogPurchases           0\n",
              "StorePurchases             0\n",
              "Amount_on_Wines            0\n",
              "Amount_on_Fruits           0\n",
              "Amount_on_MeatProducts     0\n",
              "Amount_on_FishProducts     0\n",
              "Amount_on_SweetProducts    0\n",
              "Amount_on_GoldProds        0\n",
              "WebVisitsMonth             0\n",
              "Cmp3Accepted               0\n",
              "Cmp4Accepted               0\n",
              "Cmp5Accepted               0\n",
              "Cmp1Accepted               0\n",
              "Cmp2Accepted               0\n",
              "Any_Complain               0\n",
              "dtype: int64"
            ]
          },
          "metadata": {},
          "execution_count": 29
        }
      ]
    },
    {
      "cell_type": "markdown",
      "metadata": {
        "id": "uWog4QmLOv-F"
      },
      "source": [
        "# Exploratory Data Analysis"
      ]
    },
    {
      "cell_type": "code",
      "metadata": {
        "colab": {
          "base_uri": "https://localhost:8080/"
        },
        "id": "RUrx9h-wOv-G",
        "outputId": "91ff3418-9fa0-4752-ddbf-06103bf947e8"
      },
      "source": [
        "train['Marital_Status'].value_counts()"
      ],
      "execution_count": 30,
      "outputs": [
        {
          "output_type": "execute_result",
          "data": {
            "text/plain": [
              "Married     615\n",
              "Together    409\n",
              "Single      329\n",
              "Divorced    159\n",
              "Widow        50\n",
              "Alone         3\n",
              "YOLO          2\n",
              "Absurd        1\n",
              "Name: Marital_Status, dtype: int64"
            ]
          },
          "metadata": {},
          "execution_count": 30
        }
      ]
    },
    {
      "cell_type": "code",
      "metadata": {
        "colab": {
          "base_uri": "https://localhost:8080/"
        },
        "id": "HwBSGuLnOv-G",
        "outputId": "0c98e5ec-d6eb-4d8e-d650-b775740a926e"
      },
      "source": [
        "test['Marital_Status'].value_counts()"
      ],
      "execution_count": 31,
      "outputs": [
        {
          "output_type": "execute_result",
          "data": {
            "text/plain": [
              "Married     249\n",
              "Together    171\n",
              "Single      151\n",
              "Divorced     73\n",
              "Widow        27\n",
              "Absurd        1\n",
              "Name: Marital_Status, dtype: int64"
            ]
          },
          "metadata": {},
          "execution_count": 31
        }
      ]
    },
    {
      "cell_type": "markdown",
      "metadata": {
        "id": "hRAzaLVLOv-H"
      },
      "source": [
        "Plotting for our categorical datast"
      ]
    },
    {
      "cell_type": "code",
      "metadata": {
        "colab": {
          "base_uri": "https://localhost:8080/"
        },
        "id": "H5YalEEPOv-I",
        "outputId": "c1d05bcc-16b0-4156-b4b7-d12ebd22f26a"
      },
      "source": [
        "#We are calculating the percentage of each values\n",
        "\n",
        "train.Marital_Status.value_counts(normalize=True)\n"
      ],
      "execution_count": 32,
      "outputs": [
        {
          "output_type": "execute_result",
          "data": {
            "text/plain": [
              "Married     0.392219\n",
              "Together    0.260842\n",
              "Single      0.209821\n",
              "Divorced    0.101403\n",
              "Widow       0.031888\n",
              "Alone       0.001913\n",
              "YOLO        0.001276\n",
              "Absurd      0.000638\n",
              "Name: Marital_Status, dtype: float64"
            ]
          },
          "metadata": {},
          "execution_count": 32
        }
      ]
    },
    {
      "cell_type": "code",
      "metadata": {
        "colab": {
          "base_uri": "https://localhost:8080/",
          "height": 265
        },
        "id": "NexGBQ9BOv-K",
        "outputId": "e7f7ddc1-c01b-40a2-e082-29b8fc6adde2"
      },
      "source": [
        "\n",
        "#ploting the barh of the percentage\n",
        "\n",
        "train.Marital_Status.value_counts(normalize=True).plot.barh()\n",
        "plt.show()"
      ],
      "execution_count": 33,
      "outputs": [
        {
          "output_type": "display_data",
          "data": {
            "image/png": "[encoded data removed]",
            "text/plain": [
              "<Figure size 432x288 with 1 Axes>"
            ]
          },
          "metadata": {
            "needs_background": "light"
          }
        }
      ]
    },
    {
      "cell_type": "markdown",
      "metadata": {
        "id": "0J6-gSYnOv-L"
      },
      "source": [
        "\n",
        "\n",
        "\n",
        "The Dataset contains more Married people\n",
        "\n"
      ]
    },
    {
      "cell_type": "code",
      "metadata": {
        "colab": {
          "base_uri": "https://localhost:8080/"
        },
        "id": "lQKZu_lpOv-N",
        "outputId": "1a39c5e2-141f-44e8-80f1-9bf4503e3393"
      },
      "source": [
        "#We are calculating the percentage of each values\n",
        "\n",
        "test.Marital_Status.value_counts(normalize=True)\n"
      ],
      "execution_count": 34,
      "outputs": [
        {
          "output_type": "execute_result",
          "data": {
            "text/plain": [
              "Married     0.370536\n",
              "Together    0.254464\n",
              "Single      0.224702\n",
              "Divorced    0.108631\n",
              "Widow       0.040179\n",
              "Absurd      0.001488\n",
              "Name: Marital_Status, dtype: float64"
            ]
          },
          "metadata": {},
          "execution_count": 34
        }
      ]
    },
    {
      "cell_type": "code",
      "metadata": {
        "colab": {
          "base_uri": "https://localhost:8080/",
          "height": 265
        },
        "id": "QtPoIeg9Ov-O",
        "outputId": "201aa342-a170-4eb2-8f1c-a271aede111c"
      },
      "source": [
        "#ploting the barh of the percentage\n",
        "\n",
        "test.Marital_Status.value_counts(normalize=True).plot.barh()\n",
        "plt.show()"
      ],
      "execution_count": 35,
      "outputs": [
        {
          "output_type": "display_data",
          "data": {
            "image/png": "[encoded data removed]",
            "text/plain": [
              "<Figure size 432x288 with 1 Axes>"
            ]
          },
          "metadata": {
            "needs_background": "light"
          }
        }
      ]
    },
    {
      "cell_type": "markdown",
      "metadata": {
        "id": "sWjfv2q5Ov-P"
      },
      "source": [
        "\n",
        "\n",
        "Education_Level\n",
        "\n"
      ]
    },
    {
      "cell_type": "code",
      "metadata": {
        "colab": {
          "base_uri": "https://localhost:8080/"
        },
        "id": "2_pfkBDmOv-Q",
        "outputId": "2de0f411-1bf7-4234-ab58-8d3cbf69613b"
      },
      "source": [
        "train.Education_Level.value_counts(normalize=True)\n"
      ],
      "execution_count": 36,
      "outputs": [
        {
          "output_type": "execute_result",
          "data": {
            "text/plain": [
              "Graduation    0.511480\n",
              "PhD           0.216837\n",
              "Master        0.156888\n",
              "2n Cycle      0.090561\n",
              "Basic         0.024235\n",
              "Name: Education_Level, dtype: float64"
            ]
          },
          "metadata": {},
          "execution_count": 36
        }
      ]
    },
    {
      "cell_type": "code",
      "metadata": {
        "colab": {
          "base_uri": "https://localhost:8080/",
          "height": 248
        },
        "id": "4maOa8pJOv-S",
        "outputId": "05c47b09-d84a-4b86-bfc8-06225e814168"
      },
      "source": [
        "#ploting the barh of the percentage\n",
        "\n",
        "train.Education_Level.value_counts(normalize=True).plot.pie()\n",
        "plt.show()"
      ],
      "execution_count": 37,
      "outputs": [
        {
          "output_type": "display_data",
          "data": {
            "image/png": "[encoded data removed]",
            "text/plain": [
              "<Figure size 432x288 with 1 Axes>"
            ]
          },
          "metadata": {}
        }
      ]
    },
    {
      "cell_type": "code",
      "metadata": {
        "colab": {
          "base_uri": "https://localhost:8080/",
          "height": 248
        },
        "id": "Q1XfW7sUOv-U",
        "outputId": "0fe4c623-ba29-4945-f692-b4fa0591121f"
      },
      "source": [
        "#ploting the barh of the percentage\n",
        "\n",
        "test.Education_Level.value_counts(normalize=True).plot.pie()\n",
        "plt.show()"
      ],
      "execution_count": 38,
      "outputs": [
        {
          "output_type": "display_data",
          "data": {
            "image/png": "[encoded data removed]",
            "text/plain": [
              "<Figure size 432x288 with 1 Axes>"
            ]
          },
          "metadata": {}
        }
      ]
    },
    {
      "cell_type": "code",
      "metadata": {
        "colab": {
          "base_uri": "https://localhost:8080/"
        },
        "id": "AKRwpr0TOv-a",
        "outputId": "a27e8bf3-bb94-43ae-f2c7-e2c8933ccaa5"
      },
      "source": [
        "train['Marital_Status'].value_counts()"
      ],
      "execution_count": 39,
      "outputs": [
        {
          "output_type": "execute_result",
          "data": {
            "text/plain": [
              "Married     615\n",
              "Together    409\n",
              "Single      329\n",
              "Divorced    159\n",
              "Widow        50\n",
              "Alone         3\n",
              "YOLO          2\n",
              "Absurd        1\n",
              "Name: Marital_Status, dtype: int64"
            ]
          },
          "metadata": {},
          "execution_count": 39
        }
      ]
    },
    {
      "cell_type": "code",
      "metadata": {
        "id": "qN6AWiOqOv-c"
      },
      "source": [
        "#Renaming the strings not in test to others\n",
        "\n",
        "train.Marital_Status = train.Marital_Status.replace(('YOLO', 'Alone', 'Absurd'),'Others')"
      ],
      "execution_count": 40,
      "outputs": []
    },
    {
      "cell_type": "code",
      "metadata": {
        "colab": {
          "base_uri": "https://localhost:8080/"
        },
        "id": "btNGyqZ2Ov-e",
        "outputId": "d13dac31-56ca-448c-f791-6f4a2d4aab5e"
      },
      "source": [
        "train['Marital_Status'].value_counts()"
      ],
      "execution_count": 41,
      "outputs": [
        {
          "output_type": "execute_result",
          "data": {
            "text/plain": [
              "Married     615\n",
              "Together    409\n",
              "Single      329\n",
              "Divorced    159\n",
              "Widow        50\n",
              "Others        6\n",
              "Name: Marital_Status, dtype: int64"
            ]
          },
          "metadata": {},
          "execution_count": 41
        }
      ]
    },
    {
      "cell_type": "code",
      "metadata": {
        "colab": {
          "base_uri": "https://localhost:8080/"
        },
        "id": "rC77q2_mOv-g",
        "outputId": "fa9259f9-3608-4037-a3a0-a949edded629"
      },
      "source": [
        "test['Marital_Status'].value_counts()"
      ],
      "execution_count": 42,
      "outputs": [
        {
          "output_type": "execute_result",
          "data": {
            "text/plain": [
              "Married     249\n",
              "Together    171\n",
              "Single      151\n",
              "Divorced     73\n",
              "Widow        27\n",
              "Absurd        1\n",
              "Name: Marital_Status, dtype: int64"
            ]
          },
          "metadata": {},
          "execution_count": 42
        }
      ]
    },
    {
      "cell_type": "code",
      "metadata": {
        "id": "C5-vojYCOv-h"
      },
      "source": [
        "#For test\n",
        "\n",
        "test.Marital_Status = test.Marital_Status.replace('Absurd','Others')"
      ],
      "execution_count": 43,
      "outputs": []
    },
    {
      "cell_type": "code",
      "metadata": {
        "colab": {
          "base_uri": "https://localhost:8080/"
        },
        "id": "E8nIWcYSOv-i",
        "outputId": "e29271b1-df2f-47b4-9976-60e5cab81aaf"
      },
      "source": [
        "test.Marital_Status.value_counts()"
      ],
      "execution_count": 44,
      "outputs": [
        {
          "output_type": "execute_result",
          "data": {
            "text/plain": [
              "Married     249\n",
              "Together    171\n",
              "Single      151\n",
              "Divorced     73\n",
              "Widow        27\n",
              "Others        1\n",
              "Name: Marital_Status, dtype: int64"
            ]
          },
          "metadata": {},
          "execution_count": 44
        }
      ]
    },
    {
      "cell_type": "code",
      "metadata": {
        "colab": {
          "base_uri": "https://localhost:8080/",
          "height": 1000
        },
        "id": "yVdvTRNEOv-j",
        "outputId": "a5422492-0928-4cdc-bed2-740223691648"
      },
      "source": [
        "train.hist(figsize=(30,35), xrot=45)\n",
        "plt.show()"
      ],
      "execution_count": 45,
      "outputs": [
        {
          "output_type": "display_data",
          "data": {
            "image/png": "[encoded data removed]",
            "text/plain": [
              "<Figure size 2160x2520 with 25 Axes>"
            ]
          },
          "metadata": {
            "needs_background": "light"
          }
        }
      ]
    },
    {
      "cell_type": "code",
      "metadata": {
        "colab": {
          "base_uri": "https://localhost:8080/"
        },
        "id": "wbH1eG54Ov-k",
        "outputId": "feb484d6-1f28-4b4a-b0a5-963ad586f591"
      },
      "source": [
        "train['Cmp3Accepted'].value_counts()"
      ],
      "execution_count": 46,
      "outputs": [
        {
          "output_type": "execute_result",
          "data": {
            "text/plain": [
              "0    1454\n",
              "1     114\n",
              "Name: Cmp3Accepted, dtype: int64"
            ]
          },
          "metadata": {},
          "execution_count": 46
        }
      ]
    },
    {
      "cell_type": "code",
      "metadata": {
        "colab": {
          "base_uri": "https://localhost:8080/"
        },
        "id": "TxLURoVmOv-k",
        "outputId": "08452e84-f81c-49b7-e756-69226e278647"
      },
      "source": [
        "train['Cmp4Accepted'].value_counts()"
      ],
      "execution_count": 47,
      "outputs": [
        {
          "output_type": "execute_result",
          "data": {
            "text/plain": [
              "0    1454\n",
              "1     114\n",
              "Name: Cmp4Accepted, dtype: int64"
            ]
          },
          "metadata": {},
          "execution_count": 47
        }
      ]
    },
    {
      "cell_type": "code",
      "metadata": {
        "colab": {
          "base_uri": "https://localhost:8080/"
        },
        "id": "VsViDN06Ov-l",
        "outputId": "788147c1-cabf-46f2-f6d5-0d01615bd649"
      },
      "source": [
        "train['Cmp5Accepted'].value_counts()"
      ],
      "execution_count": 48,
      "outputs": [
        {
          "output_type": "execute_result",
          "data": {
            "text/plain": [
              "0    1442\n",
              "1     126\n",
              "Name: Cmp5Accepted, dtype: int64"
            ]
          },
          "metadata": {},
          "execution_count": 48
        }
      ]
    },
    {
      "cell_type": "code",
      "metadata": {
        "colab": {
          "base_uri": "https://localhost:8080/"
        },
        "id": "yQPuf9pGOv-m",
        "outputId": "f2a9adc7-2d54-4289-e0da-dd0daa625e39"
      },
      "source": [
        "train['Cmp1Accepted'].value_counts()"
      ],
      "execution_count": 49,
      "outputs": [
        {
          "output_type": "execute_result",
          "data": {
            "text/plain": [
              "0    1467\n",
              "1     101\n",
              "Name: Cmp1Accepted, dtype: int64"
            ]
          },
          "metadata": {},
          "execution_count": 49
        }
      ]
    },
    {
      "cell_type": "code",
      "metadata": {
        "colab": {
          "base_uri": "https://localhost:8080/",
          "height": 173
        },
        "id": "ht0u8IZ-Ov-m",
        "outputId": "8c2987cb-c13d-4526-94de-a35b2938415f"
      },
      "source": [
        "#Viewing Categorical column\n",
        "\n",
        "train.describe(include='object')"
      ],
      "execution_count": 50,
      "outputs": [
        {
          "output_type": "execute_result",
          "data": {
            "text/html": [
              "<div>\n",
              "<style scoped>\n",
              "    .dataframe tbody tr th:only-of-type {\n",
              "        vertical-align: middle;\n",
              "    }\n",
              "\n",
              "    .dataframe tbody tr th {\n",
              "        vertical-align: top;\n",
              "    }\n",
              "\n",
              "    .dataframe thead th {\n",
              "        text-align: right;\n",
              "    }\n",
              "</style>\n",
              "<table border=\"1\" class=\"dataframe\">\n",
              "  <thead>\n",
              "    <tr style=\"text-align: right;\">\n",
              "      <th></th>\n",
              "      <th>ID</th>\n",
              "      <th>Education_Level</th>\n",
              "      <th>Marital_Status</th>\n",
              "    </tr>\n",
              "  </thead>\n",
              "  <tbody>\n",
              "    <tr>\n",
              "      <th>count</th>\n",
              "      <td>1568</td>\n",
              "      <td>1568</td>\n",
              "      <td>1568</td>\n",
              "    </tr>\n",
              "    <tr>\n",
              "      <th>unique</th>\n",
              "      <td>1568</td>\n",
              "      <td>5</td>\n",
              "      <td>6</td>\n",
              "    </tr>\n",
              "    <tr>\n",
              "      <th>top</th>\n",
              "      <td>ID_KDWPBG1S</td>\n",
              "      <td>Graduation</td>\n",
              "      <td>Married</td>\n",
              "    </tr>\n",
              "    <tr>\n",
              "      <th>freq</th>\n",
              "      <td>1</td>\n",
              "      <td>802</td>\n",
              "      <td>615</td>\n",
              "    </tr>\n",
              "  </tbody>\n",
              "</table>\n",
              "</div>"
            ],
            "text/plain": [
              "                 ID Education_Level Marital_Status\n",
              "count          1568            1568           1568\n",
              "unique         1568               5              6\n",
              "top     ID_KDWPBG1S      Graduation        Married\n",
              "freq              1             802            615"
            ]
          },
          "metadata": {},
          "execution_count": 50
        }
      ]
    },
    {
      "cell_type": "code",
      "metadata": {
        "colab": {
          "base_uri": "https://localhost:8080/",
          "height": 541
        },
        "id": "UGM-ACBKOv-n",
        "outputId": "58a3053f-f3b8-4523-a0fd-40ab349c3c95"
      },
      "source": [
        "for col in train.select_dtypes(include='object'):\n",
        "    if train[col].nunique() <= 22:\n",
        "        sns.countplot(y=col, data=train)\n",
        "        plt.show()"
      ],
      "execution_count": 51,
      "outputs": [
        {
          "output_type": "display_data",
          "data": {
            "image/png": "[encoded data removed]",
            "text/plain": [
              "<Figure size 432x288 with 1 Axes>"
            ]
          },
          "metadata": {
            "needs_background": "light"
          }
        },
        {
          "output_type": "display_data",
          "data": {
            "image/png": "[encoded data removed]",
            "text/plain": [
              "<Figure size 432x288 with 1 Axes>"
            ]
          },
          "metadata": {
            "needs_background": "light"
          }
        }
      ]
    },
    {
      "cell_type": "code",
      "metadata": {
        "colab": {
          "base_uri": "https://localhost:8080/",
          "height": 1000
        },
        "id": "zCx3KhUvOv-p",
        "outputId": "ed02a0a9-2844-463e-cad4-d47ed13a393b"
      },
      "source": [
        "#Finding the relationship between the numeric features and our Target \n",
        "\n",
        "num_cols = ['Year_of_Birth','Disposable_Income','No_of_Kids_in_home',\n",
        "           'No_of_Teen_in_home','Recency','Discounted_Purchases','WebPurchases',\n",
        "            'CatalogPurchases','StorePurchases','Amount_on_Wines','Amount_on_Fruits','Amount_on_MeatProducts',\n",
        "           'Amount_on_FishProducts','Amount_on_SweetProducts','Amount_on_GoldProds','WebVisitsMonth']\n",
        "for col in num_cols:\n",
        "    sns.boxplot(y = train['Response'].astype('category'), x = col, data=train)\n",
        "    plt.show()"
      ],
      "execution_count": 52,
      "outputs": [
        {
          "output_type": "display_data",
          "data": {
            "image/png": "[encoded data removed]",
            "text/plain": [
              "<Figure size 432x288 with 1 Axes>"
            ]
          },
          "metadata": {
            "needs_background": "light"
          }
        },
        {
          "output_type": "display_data",
          "data": {
            "image/png": "[encoded data removed]",
            "text/plain": [
              "<Figure size 432x288 with 1 Axes>"
            ]
          },
          "metadata": {
            "needs_background": "light"
          }
        },
        {
          "output_type": "display_data",
          "data": {
            "image/png": "[encoded data removed]",
            "text/plain": [
              "<Figure size 432x288 with 1 Axes>"
            ]
          },
          "metadata": {
            "needs_background": "light"
          }
        },
        {
          "output_type": "display_data",
          "data": {
            "image/png": "[encoded data removed]",
            "text/plain": [
              "<Figure size 432x288 with 1 Axes>"
            ]
          },
          "metadata": {
            "needs_background": "light"
          }
        },
        {
          "output_type": "display_data",
          "data": {
            "image/png": "[encoded data removed]",
            "text/plain": [
              "<Figure size 432x288 with 1 Axes>"
            ]
          },
          "metadata": {
            "needs_background": "light"
          }
        },
        {
          "output_type": "display_data",
          "data": {
            "image/png": "[encoded data removed]",
            "text/plain": [
              "<Figure size 432x288 with 1 Axes>"
            ]
          },
          "metadata": {
            "needs_background": "light"
          }
        },
        {
          "output_type": "display_data",
          "data": {
            "image/png": "[encoded data removed]",
            "text/plain": [
              "<Figure size 432x288 with 1 Axes>"
            ]
          },
          "metadata": {
            "needs_background": "light"
          }
        },
        {
          "output_type": "display_data",
          "data": {
            "image/png": "[encoded data removed]",
            "text/plain": [
              "<Figure size 432x288 with 1 Axes>"
            ]
          },
          "metadata": {
            "needs_background": "light"
          }
        },
        {
          "output_type": "display_data",
          "data": {
            "image/png": "[encoded data removed]",
            "text/plain": [
              "<Figure size 432x288 with 1 Axes>"
            ]
          },
          "metadata": {
            "needs_background": "light"
          }
        },
        {
          "output_type": "display_data",
          "data": {
            "image/png": "[encoded data removed]",
            "text/plain": [
              "<Figure size 432x288 with 1 Axes>"
            ]
          },
          "metadata": {
            "needs_background": "light"
          }
        },
        {
          "output_type": "display_data",
          "data": {
            "image/png": "[encoded data removed]",
            "text/plain": [
              "<Figure size 432x288 with 1 Axes>"
            ]
          },
          "metadata": {
            "needs_background": "light"
          }
        },
        {
          "output_type": "display_data",
          "data": {
            "image/png": "[encoded data removed]",
            "text/plain": [
              "<Figure size 432x288 with 1 Axes>"
            ]
          },
          "metadata": {
            "needs_background": "light"
          }
        },
        {
          "output_type": "display_data",
          "data": {
            "image/png": "[encoded data removed]",
            "text/plain": [
              "<Figure size 432x288 with 1 Axes>"
            ]
          },
          "metadata": {
            "needs_background": "light"
          }
        },
        {
          "output_type": "display_data",
          "data": {
            "image/png": "[encoded data removed]",
            "text/plain": [
              "<Figure size 432x288 with 1 Axes>"
            ]
          },
          "metadata": {
            "needs_background": "light"
          }
        },
        {
          "output_type": "display_data",
          "data": {
            "image/png": "[encoded data removed]",
            "text/plain": [
              "<Figure size 432x288 with 1 Axes>"
            ]
          },
          "metadata": {
            "needs_background": "light"
          }
        },
        {
          "output_type": "display_data",
          "data": {
            "image/png": "[encoded data removed]",
            "text/plain": [
              "<Figure size 432x288 with 1 Axes>"
            ]
          },
          "metadata": {
            "needs_background": "light"
          }
        }
      ]
    },
    {
      "cell_type": "code",
      "metadata": {
        "colab": {
          "base_uri": "https://localhost:8080/"
        },
        "id": "-8NVyU6bOv-r",
        "outputId": "f02cd712-6fb3-4bd9-e51f-46d9095dffd6"
      },
      "source": [
        "train['No_of_Kids_in_home'].value_counts()"
      ],
      "execution_count": 53,
      "outputs": [
        {
          "output_type": "execute_result",
          "data": {
            "text/plain": [
              "0    880\n",
              "1    654\n",
              "2     34\n",
              "Name: No_of_Kids_in_home, dtype: int64"
            ]
          },
          "metadata": {},
          "execution_count": 53
        }
      ]
    },
    {
      "cell_type": "code",
      "metadata": {
        "colab": {
          "base_uri": "https://localhost:8080/",
          "height": 267
        },
        "id": "F8tL3ugvOv-t",
        "outputId": "e42799bc-c0f8-4fee-ae9d-490418bde2f7"
      },
      "source": [
        "#For categorical features\n",
        "\n",
        "for col in train.select_dtypes(include='object'):\n",
        "    if train[col].nunique() <=10:\n",
        "        display(pd.crosstab(train['Response'], train[col], normalize='index'))\n",
        "        "
      ],
      "execution_count": 54,
      "outputs": [
        {
          "output_type": "display_data",
          "data": {
            "text/html": [
              "<div>\n",
              "<style scoped>\n",
              "    .dataframe tbody tr th:only-of-type {\n",
              "        vertical-align: middle;\n",
              "    }\n",
              "\n",
              "    .dataframe tbody tr th {\n",
              "        vertical-align: top;\n",
              "    }\n",
              "\n",
              "    .dataframe thead th {\n",
              "        text-align: right;\n",
              "    }\n",
              "</style>\n",
              "<table border=\"1\" class=\"dataframe\">\n",
              "  <thead>\n",
              "    <tr style=\"text-align: right;\">\n",
              "      <th>Education_Level</th>\n",
              "      <th>2n Cycle</th>\n",
              "      <th>Basic</th>\n",
              "      <th>Graduation</th>\n",
              "      <th>Master</th>\n",
              "      <th>PhD</th>\n",
              "    </tr>\n",
              "    <tr>\n",
              "      <th>Response</th>\n",
              "      <th></th>\n",
              "      <th></th>\n",
              "      <th></th>\n",
              "      <th></th>\n",
              "      <th></th>\n",
              "    </tr>\n",
              "  </thead>\n",
              "  <tbody>\n",
              "    <tr>\n",
              "      <th>0</th>\n",
              "      <td>0.096313</td>\n",
              "      <td>0.027840</td>\n",
              "      <td>0.516930</td>\n",
              "      <td>0.156509</td>\n",
              "      <td>0.202408</td>\n",
              "    </tr>\n",
              "    <tr>\n",
              "      <th>1</th>\n",
              "      <td>0.058577</td>\n",
              "      <td>0.004184</td>\n",
              "      <td>0.481172</td>\n",
              "      <td>0.158996</td>\n",
              "      <td>0.297071</td>\n",
              "    </tr>\n",
              "  </tbody>\n",
              "</table>\n",
              "</div>"
            ],
            "text/plain": [
              "Education_Level  2n Cycle     Basic  Graduation    Master       PhD\n",
              "Response                                                           \n",
              "0                0.096313  0.027840    0.516930  0.156509  0.202408\n",
              "1                0.058577  0.004184    0.481172  0.158996  0.297071"
            ]
          },
          "metadata": {}
        },
        {
          "output_type": "display_data",
          "data": {
            "text/html": [
              "<div>\n",
              "<style scoped>\n",
              "    .dataframe tbody tr th:only-of-type {\n",
              "        vertical-align: middle;\n",
              "    }\n",
              "\n",
              "    .dataframe tbody tr th {\n",
              "        vertical-align: top;\n",
              "    }\n",
              "\n",
              "    .dataframe thead th {\n",
              "        text-align: right;\n",
              "    }\n",
              "</style>\n",
              "<table border=\"1\" class=\"dataframe\">\n",
              "  <thead>\n",
              "    <tr style=\"text-align: right;\">\n",
              "      <th>Marital_Status</th>\n",
              "      <th>Divorced</th>\n",
              "      <th>Married</th>\n",
              "      <th>Others</th>\n",
              "      <th>Single</th>\n",
              "      <th>Together</th>\n",
              "      <th>Widow</th>\n",
              "    </tr>\n",
              "    <tr>\n",
              "      <th>Response</th>\n",
              "      <th></th>\n",
              "      <th></th>\n",
              "      <th></th>\n",
              "      <th></th>\n",
              "      <th></th>\n",
              "      <th></th>\n",
              "    </tr>\n",
              "  </thead>\n",
              "  <tbody>\n",
              "    <tr>\n",
              "      <th>0</th>\n",
              "      <td>0.095561</td>\n",
              "      <td>0.404063</td>\n",
              "      <td>0.002257</td>\n",
              "      <td>0.194131</td>\n",
              "      <td>0.276900</td>\n",
              "      <td>0.027088</td>\n",
              "    </tr>\n",
              "    <tr>\n",
              "      <th>1</th>\n",
              "      <td>0.133891</td>\n",
              "      <td>0.326360</td>\n",
              "      <td>0.012552</td>\n",
              "      <td>0.297071</td>\n",
              "      <td>0.171548</td>\n",
              "      <td>0.058577</td>\n",
              "    </tr>\n",
              "  </tbody>\n",
              "</table>\n",
              "</div>"
            ],
            "text/plain": [
              "Marital_Status  Divorced   Married    Others    Single  Together     Widow\n",
              "Response                                                                  \n",
              "0               0.095561  0.404063  0.002257  0.194131  0.276900  0.027088\n",
              "1               0.133891  0.326360  0.012552  0.297071  0.171548  0.058577"
            ]
          },
          "metadata": {}
        }
      ]
    },
    {
      "cell_type": "code",
      "metadata": {
        "colab": {
          "base_uri": "https://localhost:8080/",
          "height": 142
        },
        "id": "8AHKRTPZOv-u",
        "outputId": "efeb6dfe-104d-4abd-868c-aa3808f5b071"
      },
      "source": [
        "display(pd.crosstab(train['Response'], train[col]))"
      ],
      "execution_count": 55,
      "outputs": [
        {
          "output_type": "display_data",
          "data": {
            "text/html": [
              "<div>\n",
              "<style scoped>\n",
              "    .dataframe tbody tr th:only-of-type {\n",
              "        vertical-align: middle;\n",
              "    }\n",
              "\n",
              "    .dataframe tbody tr th {\n",
              "        vertical-align: top;\n",
              "    }\n",
              "\n",
              "    .dataframe thead th {\n",
              "        text-align: right;\n",
              "    }\n",
              "</style>\n",
              "<table border=\"1\" class=\"dataframe\">\n",
              "  <thead>\n",
              "    <tr style=\"text-align: right;\">\n",
              "      <th>Marital_Status</th>\n",
              "      <th>Divorced</th>\n",
              "      <th>Married</th>\n",
              "      <th>Others</th>\n",
              "      <th>Single</th>\n",
              "      <th>Together</th>\n",
              "      <th>Widow</th>\n",
              "    </tr>\n",
              "    <tr>\n",
              "      <th>Response</th>\n",
              "      <th></th>\n",
              "      <th></th>\n",
              "      <th></th>\n",
              "      <th></th>\n",
              "      <th></th>\n",
              "      <th></th>\n",
              "    </tr>\n",
              "  </thead>\n",
              "  <tbody>\n",
              "    <tr>\n",
              "      <th>0</th>\n",
              "      <td>127</td>\n",
              "      <td>537</td>\n",
              "      <td>3</td>\n",
              "      <td>258</td>\n",
              "      <td>368</td>\n",
              "      <td>36</td>\n",
              "    </tr>\n",
              "    <tr>\n",
              "      <th>1</th>\n",
              "      <td>32</td>\n",
              "      <td>78</td>\n",
              "      <td>3</td>\n",
              "      <td>71</td>\n",
              "      <td>41</td>\n",
              "      <td>14</td>\n",
              "    </tr>\n",
              "  </tbody>\n",
              "</table>\n",
              "</div>"
            ],
            "text/plain": [
              "Marital_Status  Divorced  Married  Others  Single  Together  Widow\n",
              "Response                                                          \n",
              "0                    127      537       3     258       368     36\n",
              "1                     32       78       3      71        41     14"
            ]
          },
          "metadata": {}
        }
      ]
    },
    {
      "cell_type": "code",
      "metadata": {
        "colab": {
          "base_uri": "https://localhost:8080/",
          "height": 799
        },
        "id": "lGCacXxCOv-v",
        "outputId": "f3626f70-3273-4afa-aef9-b00d6fd93922"
      },
      "source": [
        "for col in train.select_dtypes(include='object'):\n",
        "    if train[col].nunique() <= 10:\n",
        "        g = sns.catplot(x = col, kind='count', col = 'Response', data=train, sharey=False)\n",
        "        g.set_xticklabels(rotation=60)"
      ],
      "execution_count": 56,
      "outputs": [
        {
          "output_type": "display_data",
          "data": {
            "image/png": "[encoded data removed]",
            "text/plain": [
              "<Figure size 720x360 with 2 Axes>"
            ]
          },
          "metadata": {
            "needs_background": "light"
          }
        },
        {
          "output_type": "display_data",
          "data": {
            "image/png": "[encoded data removed]",
            "text/plain": [
              "<Figure size 720x360 with 2 Axes>"
            ]
          },
          "metadata": {
            "needs_background": "light"
          }
        }
      ]
    },
    {
      "cell_type": "code",
      "metadata": {
        "id": "cjhDuIEoOv--"
      },
      "source": [
        "#Label Encoding Education Level for train\n",
        "\n",
        "le = LabelEncoder()"
      ],
      "execution_count": 57,
      "outputs": []
    },
    {
      "cell_type": "code",
      "metadata": {
        "colab": {
          "base_uri": "https://localhost:8080/"
        },
        "id": "1Xl6wl3wOv--",
        "outputId": "e7b9d60d-4d0c-4437-ee29-908d88f22d66"
      },
      "source": [
        "train['Education_Level'] = le.fit_transform(train['Education_Level'])\n",
        "train['Education_Level'].value_counts()"
      ],
      "execution_count": 58,
      "outputs": [
        {
          "output_type": "execute_result",
          "data": {
            "text/plain": [
              "2    802\n",
              "4    340\n",
              "3    246\n",
              "0    142\n",
              "1     38\n",
              "Name: Education_Level, dtype: int64"
            ]
          },
          "metadata": {},
          "execution_count": 58
        }
      ]
    },
    {
      "cell_type": "code",
      "metadata": {
        "colab": {
          "base_uri": "https://localhost:8080/"
        },
        "id": "ZlZ8soVdOv-_",
        "outputId": "e34ba833-c30a-49e7-ff6f-7bdd7ea20308"
      },
      "source": [
        "#Label Encoding Education Level for test\n",
        "\n",
        "test['Education_Level'] = le.fit_transform(test['Education_Level'])\n",
        "test['Education_Level'].value_counts()"
      ],
      "execution_count": 59,
      "outputs": [
        {
          "output_type": "execute_result",
          "data": {
            "text/plain": [
              "2    325\n",
              "4    146\n",
              "3    124\n",
              "0     61\n",
              "1     16\n",
              "Name: Education_Level, dtype: int64"
            ]
          },
          "metadata": {},
          "execution_count": 59
        }
      ]
    },
    {
      "cell_type": "code",
      "metadata": {
        "id": "2B6k3pyVOv_A"
      },
      "source": [
        "#One hot encoding Marital Status\n",
        "\n",
        "ohe = OneHotEncoder(handle_unknown='ignore')"
      ],
      "execution_count": 60,
      "outputs": []
    },
    {
      "cell_type": "code",
      "metadata": {
        "id": "oMO4k8woOv_B"
      },
      "source": [
        "\n",
        "\n",
        "ohe_df = pd.DataFrame(ohe.fit_transform(train[['Marital_Status']]).toarray())"
      ],
      "execution_count": 61,
      "outputs": []
    },
    {
      "cell_type": "code",
      "metadata": {
        "id": "8mpoY6nDOv_C"
      },
      "source": [
        "train = train.join(ohe_df)\n"
      ],
      "execution_count": 62,
      "outputs": []
    },
    {
      "cell_type": "code",
      "metadata": {
        "id": "nrwhn4-WOv_D"
      },
      "source": [
        "#Dropping Marital_status\n",
        "\n",
        "train = train.drop('Marital_Status', axis=1)"
      ],
      "execution_count": 63,
      "outputs": []
    },
    {
      "cell_type": "code",
      "metadata": {
        "scrolled": true,
        "colab": {
          "base_uri": "https://localhost:8080/",
          "height": 1000
        },
        "id": "fZI2_yTiOv_E",
        "outputId": "5cc9c0c9-279a-474a-95a3-c88d67e91bb7"
      },
      "source": [
        "train.head().T"
      ],
      "execution_count": 64,
      "outputs": [
        {
          "output_type": "execute_result",
          "data": {
            "text/html": [
              "<div>\n",
              "<style scoped>\n",
              "    .dataframe tbody tr th:only-of-type {\n",
              "        vertical-align: middle;\n",
              "    }\n",
              "\n",
              "    .dataframe tbody tr th {\n",
              "        vertical-align: top;\n",
              "    }\n",
              "\n",
              "    .dataframe thead th {\n",
              "        text-align: right;\n",
              "    }\n",
              "</style>\n",
              "<table border=\"1\" class=\"dataframe\">\n",
              "  <thead>\n",
              "    <tr style=\"text-align: right;\">\n",
              "      <th></th>\n",
              "      <th>0</th>\n",
              "      <th>1</th>\n",
              "      <th>2</th>\n",
              "      <th>3</th>\n",
              "      <th>4</th>\n",
              "    </tr>\n",
              "  </thead>\n",
              "  <tbody>\n",
              "    <tr>\n",
              "      <th>ID</th>\n",
              "      <td>ID_4A9AR6FQ</td>\n",
              "      <td>ID_X28T3VEK</td>\n",
              "      <td>ID_AWXARH57</td>\n",
              "      <td>ID_FQVZHE81</td>\n",
              "      <td>ID_QVLWGPRN</td>\n",
              "    </tr>\n",
              "    <tr>\n",
              "      <th>Year_of_Birth</th>\n",
              "      <td>1955</td>\n",
              "      <td>1958</td>\n",
              "      <td>1962</td>\n",
              "      <td>1979</td>\n",
              "      <td>1959</td>\n",
              "    </tr>\n",
              "    <tr>\n",
              "      <th>Education_Level</th>\n",
              "      <td>2</td>\n",
              "      <td>2</td>\n",
              "      <td>2</td>\n",
              "      <td>0</td>\n",
              "      <td>2</td>\n",
              "    </tr>\n",
              "    <tr>\n",
              "      <th>Disposable_Income</th>\n",
              "      <td>77504.4</td>\n",
              "      <td>56784</td>\n",
              "      <td>103715</td>\n",
              "      <td>46311.6</td>\n",
              "      <td>87486</td>\n",
              "    </tr>\n",
              "    <tr>\n",
              "      <th>No_of_Kids_in_home</th>\n",
              "      <td>1</td>\n",
              "      <td>0</td>\n",
              "      <td>0</td>\n",
              "      <td>1</td>\n",
              "      <td>0</td>\n",
              "    </tr>\n",
              "    <tr>\n",
              "      <th>No_of_Teen_in_home</th>\n",
              "      <td>1</td>\n",
              "      <td>1</td>\n",
              "      <td>0</td>\n",
              "      <td>0</td>\n",
              "      <td>0</td>\n",
              "    </tr>\n",
              "    <tr>\n",
              "      <th>Date_Customer</th>\n",
              "      <td>2014-06-22 00:00:00</td>\n",
              "      <td>2013-01-08 00:00:00</td>\n",
              "      <td>2013-11-21 00:00:00</td>\n",
              "      <td>2013-09-13 00:00:00</td>\n",
              "      <td>2014-01-21 00:00:00</td>\n",
              "    </tr>\n",
              "    <tr>\n",
              "      <th>Recency</th>\n",
              "      <td>56</td>\n",
              "      <td>17</td>\n",
              "      <td>17</td>\n",
              "      <td>49</td>\n",
              "      <td>59</td>\n",
              "    </tr>\n",
              "    <tr>\n",
              "      <th>Discounted_Purchases</th>\n",
              "      <td>2</td>\n",
              "      <td>6</td>\n",
              "      <td>0</td>\n",
              "      <td>3</td>\n",
              "      <td>1</td>\n",
              "    </tr>\n",
              "    <tr>\n",
              "      <th>WebPurchases</th>\n",
              "      <td>1</td>\n",
              "      <td>5</td>\n",
              "      <td>7</td>\n",
              "      <td>4</td>\n",
              "      <td>3</td>\n",
              "    </tr>\n",
              "    <tr>\n",
              "      <th>CatalogPurchases</th>\n",
              "      <td>1</td>\n",
              "      <td>1</td>\n",
              "      <td>4</td>\n",
              "      <td>1</td>\n",
              "      <td>7</td>\n",
              "    </tr>\n",
              "    <tr>\n",
              "      <th>StorePurchases</th>\n",
              "      <td>4</td>\n",
              "      <td>8</td>\n",
              "      <td>7</td>\n",
              "      <td>3</td>\n",
              "      <td>9</td>\n",
              "    </tr>\n",
              "    <tr>\n",
              "      <th>Amount_on_Wines</th>\n",
              "      <td>71</td>\n",
              "      <td>205</td>\n",
              "      <td>469</td>\n",
              "      <td>56</td>\n",
              "      <td>412</td>\n",
              "    </tr>\n",
              "    <tr>\n",
              "      <th>Amount_on_Fruits</th>\n",
              "      <td>3</td>\n",
              "      <td>22</td>\n",
              "      <td>31</td>\n",
              "      <td>15</td>\n",
              "      <td>117</td>\n",
              "    </tr>\n",
              "    <tr>\n",
              "      <th>Amount_on_MeatProducts</th>\n",
              "      <td>16</td>\n",
              "      <td>111</td>\n",
              "      <td>873</td>\n",
              "      <td>49</td>\n",
              "      <td>445</td>\n",
              "    </tr>\n",
              "    <tr>\n",
              "      <th>Amount_on_FishProducts</th>\n",
              "      <td>0</td>\n",
              "      <td>50</td>\n",
              "      <td>29</td>\n",
              "      <td>17</td>\n",
              "      <td>181</td>\n",
              "    </tr>\n",
              "    <tr>\n",
              "      <th>Amount_on_SweetProducts</th>\n",
              "      <td>6</td>\n",
              "      <td>15</td>\n",
              "      <td>18</td>\n",
              "      <td>24</td>\n",
              "      <td>165</td>\n",
              "    </tr>\n",
              "    <tr>\n",
              "      <th>Amount_on_GoldProds</th>\n",
              "      <td>20</td>\n",
              "      <td>19</td>\n",
              "      <td>37</td>\n",
              "      <td>24</td>\n",
              "      <td>203</td>\n",
              "    </tr>\n",
              "    <tr>\n",
              "      <th>WebVisitsMonth</th>\n",
              "      <td>3</td>\n",
              "      <td>6</td>\n",
              "      <td>2</td>\n",
              "      <td>8</td>\n",
              "      <td>1</td>\n",
              "    </tr>\n",
              "    <tr>\n",
              "      <th>Cmp3Accepted</th>\n",
              "      <td>0</td>\n",
              "      <td>0</td>\n",
              "      <td>0</td>\n",
              "      <td>0</td>\n",
              "      <td>0</td>\n",
              "    </tr>\n",
              "    <tr>\n",
              "      <th>Cmp4Accepted</th>\n",
              "      <td>0</td>\n",
              "      <td>0</td>\n",
              "      <td>0</td>\n",
              "      <td>0</td>\n",
              "      <td>0</td>\n",
              "    </tr>\n",
              "    <tr>\n",
              "      <th>Cmp5Accepted</th>\n",
              "      <td>0</td>\n",
              "      <td>0</td>\n",
              "      <td>0</td>\n",
              "      <td>0</td>\n",
              "      <td>0</td>\n",
              "    </tr>\n",
              "    <tr>\n",
              "      <th>Cmp1Accepted</th>\n",
              "      <td>0</td>\n",
              "      <td>0</td>\n",
              "      <td>1</td>\n",
              "      <td>0</td>\n",
              "      <td>1</td>\n",
              "    </tr>\n",
              "    <tr>\n",
              "      <th>Cmp2Accepted</th>\n",
              "      <td>0</td>\n",
              "      <td>0</td>\n",
              "      <td>0</td>\n",
              "      <td>0</td>\n",
              "      <td>0</td>\n",
              "    </tr>\n",
              "    <tr>\n",
              "      <th>Any_Complain</th>\n",
              "      <td>0</td>\n",
              "      <td>0</td>\n",
              "      <td>0</td>\n",
              "      <td>0</td>\n",
              "      <td>0</td>\n",
              "    </tr>\n",
              "    <tr>\n",
              "      <th>Response</th>\n",
              "      <td>0</td>\n",
              "      <td>0</td>\n",
              "      <td>1</td>\n",
              "      <td>0</td>\n",
              "      <td>0</td>\n",
              "    </tr>\n",
              "    <tr>\n",
              "      <th>0</th>\n",
              "      <td>1</td>\n",
              "      <td>0</td>\n",
              "      <td>0</td>\n",
              "      <td>0</td>\n",
              "      <td>0</td>\n",
              "    </tr>\n",
              "    <tr>\n",
              "      <th>1</th>\n",
              "      <td>0</td>\n",
              "      <td>0</td>\n",
              "      <td>0</td>\n",
              "      <td>0</td>\n",
              "      <td>1</td>\n",
              "    </tr>\n",
              "    <tr>\n",
              "      <th>2</th>\n",
              "      <td>0</td>\n",
              "      <td>0</td>\n",
              "      <td>0</td>\n",
              "      <td>0</td>\n",
              "      <td>0</td>\n",
              "    </tr>\n",
              "    <tr>\n",
              "      <th>3</th>\n",
              "      <td>0</td>\n",
              "      <td>0</td>\n",
              "      <td>1</td>\n",
              "      <td>1</td>\n",
              "      <td>0</td>\n",
              "    </tr>\n",
              "    <tr>\n",
              "      <th>4</th>\n",
              "      <td>0</td>\n",
              "      <td>1</td>\n",
              "      <td>0</td>\n",
              "      <td>0</td>\n",
              "      <td>0</td>\n",
              "    </tr>\n",
              "    <tr>\n",
              "      <th>5</th>\n",
              "      <td>0</td>\n",
              "      <td>0</td>\n",
              "      <td>0</td>\n",
              "      <td>0</td>\n",
              "      <td>0</td>\n",
              "    </tr>\n",
              "  </tbody>\n",
              "</table>\n",
              "</div>"
            ],
            "text/plain": [
              "                                           0  ...                    4\n",
              "ID                               ID_4A9AR6FQ  ...          ID_QVLWGPRN\n",
              "Year_of_Birth                           1955  ...                 1959\n",
              "Education_Level                            2  ...                    2\n",
              "Disposable_Income                    77504.4  ...                87486\n",
              "No_of_Kids_in_home                         1  ...                    0\n",
              "No_of_Teen_in_home                         1  ...                    0\n",
              "Date_Customer            2014-06-22 00:00:00  ...  2014-01-21 00:00:00\n",
              "Recency                                   56  ...                   59\n",
              "Discounted_Purchases                       2  ...                    1\n",
              "WebPurchases                               1  ...                    3\n",
              "CatalogPurchases                           1  ...                    7\n",
              "StorePurchases                             4  ...                    9\n",
              "Amount_on_Wines                           71  ...                  412\n",
              "Amount_on_Fruits                           3  ...                  117\n",
              "Amount_on_MeatProducts                    16  ...                  445\n",
              "Amount_on_FishProducts                     0  ...                  181\n",
              "Amount_on_SweetProducts                    6  ...                  165\n",
              "Amount_on_GoldProds                       20  ...                  203\n",
              "WebVisitsMonth                             3  ...                    1\n",
              "Cmp3Accepted                               0  ...                    0\n",
              "Cmp4Accepted                               0  ...                    0\n",
              "Cmp5Accepted                               0  ...                    0\n",
              "Cmp1Accepted                               0  ...                    1\n",
              "Cmp2Accepted                               0  ...                    0\n",
              "Any_Complain                               0  ...                    0\n",
              "Response                                   0  ...                    0\n",
              "0                                          1  ...                    0\n",
              "1                                          0  ...                    1\n",
              "2                                          0  ...                    0\n",
              "3                                          0  ...                    0\n",
              "4                                          0  ...                    0\n",
              "5                                          0  ...                    0\n",
              "\n",
              "[32 rows x 5 columns]"
            ]
          },
          "metadata": {},
          "execution_count": 64
        }
      ]
    },
    {
      "cell_type": "code",
      "metadata": {
        "id": "Q9k26U5COv_F"
      },
      "source": [
        "#For test column\n",
        "\n",
        "ohe_df = pd.DataFrame(ohe.transform(test[['Marital_Status']]).toarray())"
      ],
      "execution_count": 65,
      "outputs": []
    },
    {
      "cell_type": "code",
      "metadata": {
        "id": "aFDirBtSOv_F"
      },
      "source": [
        "test = test.join(ohe_df)"
      ],
      "execution_count": 66,
      "outputs": []
    },
    {
      "cell_type": "code",
      "metadata": {
        "id": "v6PsqJUiOv_G"
      },
      "source": [
        "test = test.drop('Marital_Status', axis=1)"
      ],
      "execution_count": 67,
      "outputs": []
    },
    {
      "cell_type": "code",
      "metadata": {
        "colab": {
          "base_uri": "https://localhost:8080/",
          "height": 1000
        },
        "id": "RQ5b19niOv_H",
        "outputId": "99e659ba-8f8e-4400-92b9-487e26b2a15b"
      },
      "source": [
        "test.head().T"
      ],
      "execution_count": 68,
      "outputs": [
        {
          "output_type": "execute_result",
          "data": {
            "text/html": [
              "<div>\n",
              "<style scoped>\n",
              "    .dataframe tbody tr th:only-of-type {\n",
              "        vertical-align: middle;\n",
              "    }\n",
              "\n",
              "    .dataframe tbody tr th {\n",
              "        vertical-align: top;\n",
              "    }\n",
              "\n",
              "    .dataframe thead th {\n",
              "        text-align: right;\n",
              "    }\n",
              "</style>\n",
              "<table border=\"1\" class=\"dataframe\">\n",
              "  <thead>\n",
              "    <tr style=\"text-align: right;\">\n",
              "      <th></th>\n",
              "      <th>0</th>\n",
              "      <th>1</th>\n",
              "      <th>2</th>\n",
              "      <th>3</th>\n",
              "      <th>4</th>\n",
              "    </tr>\n",
              "  </thead>\n",
              "  <tbody>\n",
              "    <tr>\n",
              "      <th>ID</th>\n",
              "      <td>ID_ZPMABNVX</td>\n",
              "      <td>ID_WFE91NAA</td>\n",
              "      <td>ID_JV11RBRK</td>\n",
              "      <td>ID_6B7SVKY9</td>\n",
              "      <td>ID_GOVUZ545</td>\n",
              "    </tr>\n",
              "    <tr>\n",
              "      <th>Year_of_Birth</th>\n",
              "      <td>1954</td>\n",
              "      <td>1961</td>\n",
              "      <td>1973</td>\n",
              "      <td>1970</td>\n",
              "      <td>1959</td>\n",
              "    </tr>\n",
              "    <tr>\n",
              "      <th>Education_Level</th>\n",
              "      <td>2</td>\n",
              "      <td>2</td>\n",
              "      <td>1</td>\n",
              "      <td>2</td>\n",
              "      <td>2</td>\n",
              "    </tr>\n",
              "    <tr>\n",
              "      <th>Disposable_Income</th>\n",
              "      <td>48556.8</td>\n",
              "      <td>57499.2</td>\n",
              "      <td>17025.6</td>\n",
              "      <td>91983.6</td>\n",
              "      <td>78235.2</td>\n",
              "    </tr>\n",
              "    <tr>\n",
              "      <th>No_of_Kids_in_home</th>\n",
              "      <td>0</td>\n",
              "      <td>0</td>\n",
              "      <td>0</td>\n",
              "      <td>0</td>\n",
              "      <td>0</td>\n",
              "    </tr>\n",
              "    <tr>\n",
              "      <th>No_of_Teen_in_home</th>\n",
              "      <td>1</td>\n",
              "      <td>1</td>\n",
              "      <td>0</td>\n",
              "      <td>0</td>\n",
              "      <td>2</td>\n",
              "    </tr>\n",
              "    <tr>\n",
              "      <th>Date_Customer</th>\n",
              "      <td>2013-11-01 00:00:00</td>\n",
              "      <td>2012-11-22 00:00:00</td>\n",
              "      <td>2013-02-28 00:00:00</td>\n",
              "      <td>2013-08-16 00:00:00</td>\n",
              "      <td>2013-07-25 00:00:00</td>\n",
              "    </tr>\n",
              "    <tr>\n",
              "      <th>Recency</th>\n",
              "      <td>85</td>\n",
              "      <td>79</td>\n",
              "      <td>47</td>\n",
              "      <td>98</td>\n",
              "      <td>41</td>\n",
              "    </tr>\n",
              "    <tr>\n",
              "      <th>Discounted_Purchases</th>\n",
              "      <td>6</td>\n",
              "      <td>5</td>\n",
              "      <td>1</td>\n",
              "      <td>1</td>\n",
              "      <td>2</td>\n",
              "    </tr>\n",
              "    <tr>\n",
              "      <th>WebPurchases</th>\n",
              "      <td>8</td>\n",
              "      <td>7</td>\n",
              "      <td>2</td>\n",
              "      <td>4</td>\n",
              "      <td>7</td>\n",
              "    </tr>\n",
              "    <tr>\n",
              "      <th>CatalogPurchases</th>\n",
              "      <td>2</td>\n",
              "      <td>4</td>\n",
              "      <td>0</td>\n",
              "      <td>7</td>\n",
              "      <td>6</td>\n",
              "    </tr>\n",
              "    <tr>\n",
              "      <th>StorePurchases</th>\n",
              "      <td>8</td>\n",
              "      <td>6</td>\n",
              "      <td>4</td>\n",
              "      <td>11</td>\n",
              "      <td>11</td>\n",
              "    </tr>\n",
              "    <tr>\n",
              "      <th>Amount_on_Wines</th>\n",
              "      <td>429</td>\n",
              "      <td>510</td>\n",
              "      <td>7</td>\n",
              "      <td>741</td>\n",
              "      <td>748</td>\n",
              "    </tr>\n",
              "    <tr>\n",
              "      <th>Amount_on_Fruits</th>\n",
              "      <td>20</td>\n",
              "      <td>3</td>\n",
              "      <td>10</td>\n",
              "      <td>66</td>\n",
              "      <td>22</td>\n",
              "    </tr>\n",
              "    <tr>\n",
              "      <th>Amount_on_MeatProducts</th>\n",
              "      <td>118</td>\n",
              "      <td>26</td>\n",
              "      <td>11</td>\n",
              "      <td>946</td>\n",
              "      <td>181</td>\n",
              "    </tr>\n",
              "    <tr>\n",
              "      <th>Amount_on_FishProducts</th>\n",
              "      <td>7</td>\n",
              "      <td>0</td>\n",
              "      <td>16</td>\n",
              "      <td>219</td>\n",
              "      <td>12</td>\n",
              "    </tr>\n",
              "    <tr>\n",
              "      <th>Amount_on_SweetProducts</th>\n",
              "      <td>23</td>\n",
              "      <td>0</td>\n",
              "      <td>12</td>\n",
              "      <td>189</td>\n",
              "      <td>0</td>\n",
              "    </tr>\n",
              "    <tr>\n",
              "      <th>Amount_on_GoldProds</th>\n",
              "      <td>41</td>\n",
              "      <td>75</td>\n",
              "      <td>27</td>\n",
              "      <td>126</td>\n",
              "      <td>200</td>\n",
              "    </tr>\n",
              "    <tr>\n",
              "      <th>WebVisitsMonth</th>\n",
              "      <td>8</td>\n",
              "      <td>6</td>\n",
              "      <td>6</td>\n",
              "      <td>2</td>\n",
              "      <td>5</td>\n",
              "    </tr>\n",
              "    <tr>\n",
              "      <th>Cmp3Accepted</th>\n",
              "      <td>0</td>\n",
              "      <td>0</td>\n",
              "      <td>0</td>\n",
              "      <td>0</td>\n",
              "      <td>1</td>\n",
              "    </tr>\n",
              "    <tr>\n",
              "      <th>Cmp4Accepted</th>\n",
              "      <td>0</td>\n",
              "      <td>1</td>\n",
              "      <td>0</td>\n",
              "      <td>0</td>\n",
              "      <td>0</td>\n",
              "    </tr>\n",
              "    <tr>\n",
              "      <th>Cmp5Accepted</th>\n",
              "      <td>0</td>\n",
              "      <td>0</td>\n",
              "      <td>0</td>\n",
              "      <td>1</td>\n",
              "      <td>0</td>\n",
              "    </tr>\n",
              "    <tr>\n",
              "      <th>Cmp1Accepted</th>\n",
              "      <td>0</td>\n",
              "      <td>0</td>\n",
              "      <td>0</td>\n",
              "      <td>1</td>\n",
              "      <td>0</td>\n",
              "    </tr>\n",
              "    <tr>\n",
              "      <th>Cmp2Accepted</th>\n",
              "      <td>0</td>\n",
              "      <td>0</td>\n",
              "      <td>0</td>\n",
              "      <td>0</td>\n",
              "      <td>0</td>\n",
              "    </tr>\n",
              "    <tr>\n",
              "      <th>Any_Complain</th>\n",
              "      <td>0</td>\n",
              "      <td>0</td>\n",
              "      <td>0</td>\n",
              "      <td>0</td>\n",
              "      <td>0</td>\n",
              "    </tr>\n",
              "    <tr>\n",
              "      <th>0</th>\n",
              "      <td>0</td>\n",
              "      <td>0</td>\n",
              "      <td>0</td>\n",
              "      <td>0</td>\n",
              "      <td>0</td>\n",
              "    </tr>\n",
              "    <tr>\n",
              "      <th>1</th>\n",
              "      <td>0</td>\n",
              "      <td>0</td>\n",
              "      <td>1</td>\n",
              "      <td>0</td>\n",
              "      <td>0</td>\n",
              "    </tr>\n",
              "    <tr>\n",
              "      <th>2</th>\n",
              "      <td>0</td>\n",
              "      <td>0</td>\n",
              "      <td>0</td>\n",
              "      <td>0</td>\n",
              "      <td>0</td>\n",
              "    </tr>\n",
              "    <tr>\n",
              "      <th>3</th>\n",
              "      <td>1</td>\n",
              "      <td>0</td>\n",
              "      <td>0</td>\n",
              "      <td>0</td>\n",
              "      <td>0</td>\n",
              "    </tr>\n",
              "    <tr>\n",
              "      <th>4</th>\n",
              "      <td>0</td>\n",
              "      <td>0</td>\n",
              "      <td>0</td>\n",
              "      <td>1</td>\n",
              "      <td>1</td>\n",
              "    </tr>\n",
              "    <tr>\n",
              "      <th>5</th>\n",
              "      <td>0</td>\n",
              "      <td>1</td>\n",
              "      <td>0</td>\n",
              "      <td>0</td>\n",
              "      <td>0</td>\n",
              "    </tr>\n",
              "  </tbody>\n",
              "</table>\n",
              "</div>"
            ],
            "text/plain": [
              "                                           0  ...                    4\n",
              "ID                               ID_ZPMABNVX  ...          ID_GOVUZ545\n",
              "Year_of_Birth                           1954  ...                 1959\n",
              "Education_Level                            2  ...                    2\n",
              "Disposable_Income                    48556.8  ...              78235.2\n",
              "No_of_Kids_in_home                         0  ...                    0\n",
              "No_of_Teen_in_home                         1  ...                    2\n",
              "Date_Customer            2013-11-01 00:00:00  ...  2013-07-25 00:00:00\n",
              "Recency                                   85  ...                   41\n",
              "Discounted_Purchases                       6  ...                    2\n",
              "WebPurchases                               8  ...                    7\n",
              "CatalogPurchases                           2  ...                    6\n",
              "StorePurchases                             8  ...                   11\n",
              "Amount_on_Wines                          429  ...                  748\n",
              "Amount_on_Fruits                          20  ...                   22\n",
              "Amount_on_MeatProducts                   118  ...                  181\n",
              "Amount_on_FishProducts                     7  ...                   12\n",
              "Amount_on_SweetProducts                   23  ...                    0\n",
              "Amount_on_GoldProds                       41  ...                  200\n",
              "WebVisitsMonth                             8  ...                    5\n",
              "Cmp3Accepted                               0  ...                    1\n",
              "Cmp4Accepted                               0  ...                    0\n",
              "Cmp5Accepted                               0  ...                    0\n",
              "Cmp1Accepted                               0  ...                    0\n",
              "Cmp2Accepted                               0  ...                    0\n",
              "Any_Complain                               0  ...                    0\n",
              "0                                          0  ...                    0\n",
              "1                                          0  ...                    0\n",
              "2                                          0  ...                    0\n",
              "3                                          1  ...                    0\n",
              "4                                          0  ...                    1\n",
              "5                                          0  ...                    0\n",
              "\n",
              "[31 rows x 5 columns]"
            ]
          },
          "metadata": {},
          "execution_count": 68
        }
      ]
    },
    {
      "cell_type": "code",
      "metadata": {
        "id": "XBq9QJdPOv_I"
      },
      "source": [
        "train = train.drop(['ID'], axis=1)"
      ],
      "execution_count": 69,
      "outputs": []
    },
    {
      "cell_type": "code",
      "metadata": {
        "id": "vEUFa8GbOv_I"
      },
      "source": [
        "test = test.drop(['ID'], axis=1)"
      ],
      "execution_count": 70,
      "outputs": []
    },
    {
      "cell_type": "markdown",
      "metadata": {
        "id": "GGDQjP0_tfz9"
      },
      "source": [
        "#Feature Engineering"
      ]
    },
    {
      "cell_type": "code",
      "metadata": {
        "id": "NpasIM2uQmTB"
      },
      "source": [
        "train['Total_Purchase'] = train['Discounted_Purchases'] + train['StorePurchases'] + train['WebPurchases'] + train['CatalogPurchases']"
      ],
      "execution_count": 71,
      "outputs": []
    },
    {
      "cell_type": "code",
      "metadata": {
        "id": "4TKlYPtxWniE"
      },
      "source": [
        "test['Total_Purchase'] = test['Discounted_Purchases'] + test['StorePurchases'] + test['WebPurchases'] + test['CatalogPurchases']"
      ],
      "execution_count": 72,
      "outputs": []
    },
    {
      "cell_type": "code",
      "metadata": {
        "id": "imuDuXCjQkfI"
      },
      "source": [
        "train ['Year_Regristration'] = pd.DatetimeIndex(train['Date_Customer']).year"
      ],
      "execution_count": 73,
      "outputs": []
    },
    {
      "cell_type": "code",
      "metadata": {
        "id": "PEYr3Hw7WwcK"
      },
      "source": [
        "test ['Year_Regristration'] = pd.DatetimeIndex(test['Date_Customer']).year"
      ],
      "execution_count": 74,
      "outputs": []
    },
    {
      "cell_type": "code",
      "metadata": {
        "id": "eHt2DslQQknz"
      },
      "source": [
        "train ['Month_Regristration'] = pd.DatetimeIndex(train['Date_Customer']).month"
      ],
      "execution_count": 75,
      "outputs": []
    },
    {
      "cell_type": "code",
      "metadata": {
        "id": "azUQ1M3zW1QF"
      },
      "source": [
        "test ['Month_Regristration'] = pd.DatetimeIndex(test['Date_Customer']).month"
      ],
      "execution_count": 76,
      "outputs": []
    },
    {
      "cell_type": "code",
      "metadata": {
        "id": "twRZyEaVQlC-"
      },
      "source": [
        "train = train.drop('Date_Customer', axis=1)"
      ],
      "execution_count": 77,
      "outputs": []
    },
    {
      "cell_type": "code",
      "metadata": {
        "id": "K6EPNGXnW7Fj"
      },
      "source": [
        "test = test.drop('Date_Customer', axis=1)"
      ],
      "execution_count": 78,
      "outputs": []
    },
    {
      "cell_type": "code",
      "metadata": {
        "id": "srBwUsX9T32M"
      },
      "source": [
        "train['CmpAccepted'] = train['Cmp1Accepted'] + train['Cmp2Accepted'] + train['Cmp3Accepted'] + train['Cmp4Accepted'] + train['Cmp5Accepted']"
      ],
      "execution_count": 79,
      "outputs": []
    },
    {
      "cell_type": "code",
      "metadata": {
        "id": "FCuCBfiIW_Sm"
      },
      "source": [
        "test['CmpAccepted'] = test['Cmp1Accepted'] + test['Cmp2Accepted'] + test['Cmp3Accepted'] + test['Cmp4Accepted'] + test['Cmp5Accepted']"
      ],
      "execution_count": 80,
      "outputs": []
    },
    {
      "cell_type": "markdown",
      "metadata": {
        "id": "StcAIlydtrEm"
      },
      "source": [
        "#Building our model"
      ]
    },
    {
      "cell_type": "code",
      "metadata": {
        "id": "tg9eQVbIOv_M"
      },
      "source": [
        "#Split into X and y\n",
        "X = train.drop('Response', axis=1)\n",
        "y = train.Response"
      ],
      "execution_count": 81,
      "outputs": []
    },
    {
      "cell_type": "code",
      "metadata": {
        "id": "oFz1PzzdOv_P"
      },
      "source": [
        "#Split into train and test set\n",
        "X_train, X_test, y_train, y_test = train_test_split(X, y, test_size=0.2, random_state=42, stratify=y)"
      ],
      "execution_count": 83,
      "outputs": []
    },
    {
      "cell_type": "code",
      "metadata": {
        "id": "xfGWbAAPOv_R"
      },
      "source": [
        "#Creating model \n",
        "catboost_model=CatBoostClassifier(class_weights = [0.2, 0.8])"
      ],
      "execution_count": 88,
      "outputs": []
    },
    {
      "cell_type": "code",
      "metadata": {
        "colab": {
          "base_uri": "https://localhost:8080/"
        },
        "id": "EHquqvNjOv_v",
        "outputId": "23312ffc-e4f4-4856-ff97-b2606824a4f4"
      },
      "source": [
        "#Training Catboost Model on train set\n",
        "catboost_model.fit(X_train,y_train)"
      ],
      "execution_count": 101,
      "outputs": [
        {
          "output_type": "stream",
          "name": "stdout",
          "text": [
            "Learning rate set to 0.011348\n",
            "0:\tlearn: 0.6856470\ttotal: 3.78ms\tremaining: 3.77s\n",
            "1:\tlearn: 0.6794311\ttotal: 6.67ms\tremaining: 3.33s\n",
            "2:\tlearn: 0.6725762\ttotal: 9.43ms\tremaining: 3.13s\n",
            "3:\tlearn: 0.6654608\ttotal: 12.2ms\tremaining: 3.04s\n",
            "4:\tlearn: 0.6564884\ttotal: 15.3ms\tremaining: 3.04s\n",
            "5:\tlearn: 0.6512029\ttotal: 18.1ms\tremaining: 2.99s\n",
            "6:\tlearn: 0.6448991\ttotal: 20.8ms\tremaining: 2.95s\n",
            "7:\tlearn: 0.6387417\ttotal: 23.7ms\tremaining: 2.94s\n",
            "8:\tlearn: 0.6329522\ttotal: 26.4ms\tremaining: 2.91s\n",
            "9:\tlearn: 0.6280240\ttotal: 30.5ms\tremaining: 3.02s\n",
            "10:\tlearn: 0.6219970\ttotal: 33.2ms\tremaining: 2.98s\n",
            "11:\tlearn: 0.6170618\ttotal: 36ms\tremaining: 2.96s\n",
            "12:\tlearn: 0.6106999\ttotal: 38.8ms\tremaining: 2.94s\n",
            "13:\tlearn: 0.6054273\ttotal: 41.6ms\tremaining: 2.93s\n",
            "14:\tlearn: 0.6006562\ttotal: 44.3ms\tremaining: 2.91s\n",
            "15:\tlearn: 0.5961209\ttotal: 47.1ms\tremaining: 2.89s\n",
            "16:\tlearn: 0.5909672\ttotal: 49.8ms\tremaining: 2.88s\n",
            "17:\tlearn: 0.5865133\ttotal: 52.7ms\tremaining: 2.88s\n",
            "18:\tlearn: 0.5821757\ttotal: 55.4ms\tremaining: 2.86s\n",
            "19:\tlearn: 0.5785533\ttotal: 58.1ms\tremaining: 2.85s\n",
            "20:\tlearn: 0.5745054\ttotal: 60.8ms\tremaining: 2.83s\n",
            "21:\tlearn: 0.5702035\ttotal: 63.7ms\tremaining: 2.83s\n",
            "22:\tlearn: 0.5651894\ttotal: 66.4ms\tremaining: 2.82s\n",
            "23:\tlearn: 0.5601946\ttotal: 69.1ms\tremaining: 2.81s\n",
            "24:\tlearn: 0.5557938\ttotal: 71.8ms\tremaining: 2.8s\n",
            "25:\tlearn: 0.5521316\ttotal: 74.6ms\tremaining: 2.79s\n",
            "26:\tlearn: 0.5489771\ttotal: 77.5ms\tremaining: 2.79s\n",
            "27:\tlearn: 0.5464151\ttotal: 79.5ms\tremaining: 2.76s\n",
            "28:\tlearn: 0.5422036\ttotal: 82.5ms\tremaining: 2.76s\n",
            "29:\tlearn: 0.5383750\ttotal: 85.2ms\tremaining: 2.75s\n",
            "30:\tlearn: 0.5346646\ttotal: 87.8ms\tremaining: 2.75s\n",
            "31:\tlearn: 0.5307059\ttotal: 90.5ms\tremaining: 2.74s\n",
            "32:\tlearn: 0.5270550\ttotal: 93.2ms\tremaining: 2.73s\n",
            "33:\tlearn: 0.5233941\ttotal: 95.9ms\tremaining: 2.73s\n",
            "34:\tlearn: 0.5198253\ttotal: 98.7ms\tremaining: 2.72s\n",
            "35:\tlearn: 0.5161766\ttotal: 101ms\tremaining: 2.72s\n",
            "36:\tlearn: 0.5132109\ttotal: 104ms\tremaining: 2.71s\n",
            "37:\tlearn: 0.5107788\ttotal: 107ms\tremaining: 2.7s\n",
            "38:\tlearn: 0.5076335\ttotal: 110ms\tremaining: 2.7s\n",
            "39:\tlearn: 0.5044664\ttotal: 112ms\tremaining: 2.7s\n",
            "40:\tlearn: 0.5021047\ttotal: 115ms\tremaining: 2.69s\n",
            "41:\tlearn: 0.4994206\ttotal: 118ms\tremaining: 2.68s\n",
            "42:\tlearn: 0.4964833\ttotal: 120ms\tremaining: 2.68s\n",
            "43:\tlearn: 0.4931442\ttotal: 123ms\tremaining: 2.67s\n",
            "44:\tlearn: 0.4902154\ttotal: 126ms\tremaining: 2.67s\n",
            "45:\tlearn: 0.4872410\ttotal: 129ms\tremaining: 2.67s\n",
            "46:\tlearn: 0.4846803\ttotal: 131ms\tremaining: 2.66s\n",
            "47:\tlearn: 0.4821384\ttotal: 134ms\tremaining: 2.66s\n",
            "48:\tlearn: 0.4805979\ttotal: 137ms\tremaining: 2.65s\n",
            "49:\tlearn: 0.4788037\ttotal: 139ms\tremaining: 2.65s\n",
            "50:\tlearn: 0.4759111\ttotal: 142ms\tremaining: 2.65s\n",
            "51:\tlearn: 0.4738429\ttotal: 145ms\tremaining: 2.64s\n",
            "52:\tlearn: 0.4712604\ttotal: 148ms\tremaining: 2.64s\n",
            "53:\tlearn: 0.4691074\ttotal: 151ms\tremaining: 2.64s\n",
            "54:\tlearn: 0.4666559\ttotal: 153ms\tremaining: 2.64s\n",
            "55:\tlearn: 0.4641944\ttotal: 156ms\tremaining: 2.63s\n",
            "56:\tlearn: 0.4616685\ttotal: 159ms\tremaining: 2.63s\n",
            "57:\tlearn: 0.4595777\ttotal: 162ms\tremaining: 2.62s\n",
            "58:\tlearn: 0.4574302\ttotal: 164ms\tremaining: 2.62s\n",
            "59:\tlearn: 0.4549171\ttotal: 168ms\tremaining: 2.64s\n",
            "60:\tlearn: 0.4532219\ttotal: 173ms\tremaining: 2.67s\n",
            "61:\tlearn: 0.4511252\ttotal: 176ms\tremaining: 2.66s\n",
            "62:\tlearn: 0.4491955\ttotal: 179ms\tremaining: 2.66s\n",
            "63:\tlearn: 0.4478636\ttotal: 182ms\tremaining: 2.65s\n",
            "64:\tlearn: 0.4451473\ttotal: 184ms\tremaining: 2.65s\n",
            "65:\tlearn: 0.4430018\ttotal: 191ms\tremaining: 2.7s\n",
            "66:\tlearn: 0.4413997\ttotal: 194ms\tremaining: 2.71s\n",
            "67:\tlearn: 0.4394562\ttotal: 197ms\tremaining: 2.7s\n",
            "68:\tlearn: 0.4376487\ttotal: 200ms\tremaining: 2.7s\n",
            "69:\tlearn: 0.4359955\ttotal: 203ms\tremaining: 2.69s\n",
            "70:\tlearn: 0.4345897\ttotal: 205ms\tremaining: 2.69s\n",
            "71:\tlearn: 0.4327532\ttotal: 208ms\tremaining: 2.68s\n",
            "72:\tlearn: 0.4308184\ttotal: 211ms\tremaining: 2.68s\n",
            "73:\tlearn: 0.4289499\ttotal: 214ms\tremaining: 2.67s\n",
            "74:\tlearn: 0.4276569\ttotal: 216ms\tremaining: 2.67s\n",
            "75:\tlearn: 0.4258414\ttotal: 219ms\tremaining: 2.66s\n",
            "76:\tlearn: 0.4242682\ttotal: 222ms\tremaining: 2.66s\n",
            "77:\tlearn: 0.4219136\ttotal: 225ms\tremaining: 2.65s\n",
            "78:\tlearn: 0.4203009\ttotal: 227ms\tremaining: 2.65s\n",
            "79:\tlearn: 0.4187570\ttotal: 230ms\tremaining: 2.64s\n",
            "80:\tlearn: 0.4173008\ttotal: 233ms\tremaining: 2.64s\n",
            "81:\tlearn: 0.4158627\ttotal: 236ms\tremaining: 2.64s\n",
            "82:\tlearn: 0.4144893\ttotal: 238ms\tremaining: 2.63s\n",
            "83:\tlearn: 0.4127813\ttotal: 241ms\tremaining: 2.63s\n",
            "84:\tlearn: 0.4109283\ttotal: 244ms\tremaining: 2.62s\n",
            "85:\tlearn: 0.4098054\ttotal: 247ms\tremaining: 2.62s\n",
            "86:\tlearn: 0.4083218\ttotal: 249ms\tremaining: 2.62s\n",
            "87:\tlearn: 0.4067472\ttotal: 252ms\tremaining: 2.61s\n",
            "88:\tlearn: 0.4054873\ttotal: 255ms\tremaining: 2.6s\n",
            "89:\tlearn: 0.4040020\ttotal: 257ms\tremaining: 2.6s\n",
            "90:\tlearn: 0.4020756\ttotal: 260ms\tremaining: 2.6s\n",
            "91:\tlearn: 0.4007802\ttotal: 263ms\tremaining: 2.6s\n",
            "92:\tlearn: 0.3993217\ttotal: 266ms\tremaining: 2.59s\n",
            "93:\tlearn: 0.3980504\ttotal: 268ms\tremaining: 2.59s\n",
            "94:\tlearn: 0.3966798\ttotal: 271ms\tremaining: 2.58s\n",
            "95:\tlearn: 0.3957126\ttotal: 274ms\tremaining: 2.58s\n",
            "96:\tlearn: 0.3941871\ttotal: 277ms\tremaining: 2.58s\n",
            "97:\tlearn: 0.3931869\ttotal: 280ms\tremaining: 2.57s\n",
            "98:\tlearn: 0.3922044\ttotal: 282ms\tremaining: 2.57s\n",
            "99:\tlearn: 0.3909435\ttotal: 285ms\tremaining: 2.57s\n",
            "100:\tlearn: 0.3894860\ttotal: 288ms\tremaining: 2.56s\n",
            "101:\tlearn: 0.3883421\ttotal: 291ms\tremaining: 2.57s\n",
            "102:\tlearn: 0.3865672\ttotal: 294ms\tremaining: 2.56s\n",
            "103:\tlearn: 0.3854694\ttotal: 297ms\tremaining: 2.56s\n",
            "104:\tlearn: 0.3843887\ttotal: 300ms\tremaining: 2.56s\n",
            "105:\tlearn: 0.3831428\ttotal: 303ms\tremaining: 2.55s\n",
            "106:\tlearn: 0.3820082\ttotal: 305ms\tremaining: 2.55s\n",
            "107:\tlearn: 0.3808597\ttotal: 308ms\tremaining: 2.54s\n",
            "108:\tlearn: 0.3795211\ttotal: 311ms\tremaining: 2.54s\n",
            "109:\tlearn: 0.3783799\ttotal: 314ms\tremaining: 2.54s\n",
            "110:\tlearn: 0.3774801\ttotal: 316ms\tremaining: 2.53s\n",
            "111:\tlearn: 0.3757935\ttotal: 319ms\tremaining: 2.53s\n",
            "112:\tlearn: 0.3745316\ttotal: 322ms\tremaining: 2.53s\n",
            "113:\tlearn: 0.3732028\ttotal: 325ms\tremaining: 2.52s\n",
            "114:\tlearn: 0.3723504\ttotal: 328ms\tremaining: 2.52s\n",
            "115:\tlearn: 0.3716810\ttotal: 331ms\tremaining: 2.52s\n",
            "116:\tlearn: 0.3703000\ttotal: 333ms\tremaining: 2.52s\n",
            "117:\tlearn: 0.3691780\ttotal: 336ms\tremaining: 2.51s\n",
            "118:\tlearn: 0.3681064\ttotal: 339ms\tremaining: 2.51s\n",
            "119:\tlearn: 0.3670790\ttotal: 341ms\tremaining: 2.5s\n",
            "120:\tlearn: 0.3660272\ttotal: 344ms\tremaining: 2.5s\n",
            "121:\tlearn: 0.3650422\ttotal: 350ms\tremaining: 2.52s\n",
            "122:\tlearn: 0.3637929\ttotal: 353ms\tremaining: 2.52s\n",
            "123:\tlearn: 0.3628757\ttotal: 356ms\tremaining: 2.51s\n",
            "124:\tlearn: 0.3620588\ttotal: 358ms\tremaining: 2.51s\n",
            "125:\tlearn: 0.3611306\ttotal: 361ms\tremaining: 2.5s\n",
            "126:\tlearn: 0.3602598\ttotal: 363ms\tremaining: 2.5s\n",
            "127:\tlearn: 0.3592087\ttotal: 366ms\tremaining: 2.49s\n",
            "128:\tlearn: 0.3579890\ttotal: 369ms\tremaining: 2.49s\n",
            "129:\tlearn: 0.3571267\ttotal: 371ms\tremaining: 2.48s\n",
            "130:\tlearn: 0.3561265\ttotal: 374ms\tremaining: 2.48s\n",
            "131:\tlearn: 0.3547258\ttotal: 377ms\tremaining: 2.48s\n",
            "132:\tlearn: 0.3539013\ttotal: 383ms\tremaining: 2.5s\n",
            "133:\tlearn: 0.3529594\ttotal: 386ms\tremaining: 2.49s\n",
            "134:\tlearn: 0.3519106\ttotal: 389ms\tremaining: 2.49s\n",
            "135:\tlearn: 0.3506878\ttotal: 391ms\tremaining: 2.49s\n",
            "136:\tlearn: 0.3499229\ttotal: 394ms\tremaining: 2.48s\n",
            "137:\tlearn: 0.3489185\ttotal: 397ms\tremaining: 2.48s\n",
            "138:\tlearn: 0.3478632\ttotal: 399ms\tremaining: 2.47s\n",
            "139:\tlearn: 0.3468606\ttotal: 402ms\tremaining: 2.47s\n",
            "140:\tlearn: 0.3458762\ttotal: 405ms\tremaining: 2.47s\n",
            "141:\tlearn: 0.3450298\ttotal: 408ms\tremaining: 2.46s\n",
            "142:\tlearn: 0.3439830\ttotal: 410ms\tremaining: 2.46s\n",
            "143:\tlearn: 0.3430609\ttotal: 413ms\tremaining: 2.45s\n",
            "144:\tlearn: 0.3421206\ttotal: 416ms\tremaining: 2.45s\n",
            "145:\tlearn: 0.3411580\ttotal: 419ms\tremaining: 2.45s\n",
            "146:\tlearn: 0.3403678\ttotal: 421ms\tremaining: 2.44s\n",
            "147:\tlearn: 0.3393349\ttotal: 424ms\tremaining: 2.44s\n",
            "148:\tlearn: 0.3385178\ttotal: 430ms\tremaining: 2.45s\n",
            "149:\tlearn: 0.3371696\ttotal: 433ms\tremaining: 2.45s\n",
            "150:\tlearn: 0.3362377\ttotal: 436ms\tremaining: 2.45s\n",
            "151:\tlearn: 0.3355302\ttotal: 438ms\tremaining: 2.45s\n",
            "152:\tlearn: 0.3346680\ttotal: 441ms\tremaining: 2.44s\n",
            "153:\tlearn: 0.3341371\ttotal: 444ms\tremaining: 2.44s\n",
            "154:\tlearn: 0.3331064\ttotal: 447ms\tremaining: 2.44s\n",
            "155:\tlearn: 0.3323417\ttotal: 450ms\tremaining: 2.43s\n",
            "156:\tlearn: 0.3314204\ttotal: 453ms\tremaining: 2.43s\n",
            "157:\tlearn: 0.3304258\ttotal: 456ms\tremaining: 2.43s\n",
            "158:\tlearn: 0.3292449\ttotal: 459ms\tremaining: 2.43s\n",
            "159:\tlearn: 0.3279434\ttotal: 462ms\tremaining: 2.42s\n",
            "160:\tlearn: 0.3269765\ttotal: 465ms\tremaining: 2.42s\n",
            "161:\tlearn: 0.3262373\ttotal: 467ms\tremaining: 2.42s\n",
            "162:\tlearn: 0.3252770\ttotal: 471ms\tremaining: 2.42s\n",
            "163:\tlearn: 0.3246272\ttotal: 473ms\tremaining: 2.41s\n",
            "164:\tlearn: 0.3237618\ttotal: 476ms\tremaining: 2.41s\n",
            "165:\tlearn: 0.3231378\ttotal: 479ms\tremaining: 2.41s\n",
            "166:\tlearn: 0.3223010\ttotal: 482ms\tremaining: 2.4s\n",
            "167:\tlearn: 0.3214227\ttotal: 485ms\tremaining: 2.4s\n",
            "168:\tlearn: 0.3207871\ttotal: 487ms\tremaining: 2.4s\n",
            "169:\tlearn: 0.3202153\ttotal: 490ms\tremaining: 2.39s\n",
            "170:\tlearn: 0.3196123\ttotal: 493ms\tremaining: 2.39s\n",
            "171:\tlearn: 0.3187012\ttotal: 496ms\tremaining: 2.39s\n",
            "172:\tlearn: 0.3181486\ttotal: 499ms\tremaining: 2.38s\n",
            "173:\tlearn: 0.3174064\ttotal: 502ms\tremaining: 2.38s\n",
            "174:\tlearn: 0.3166212\ttotal: 504ms\tremaining: 2.38s\n",
            "175:\tlearn: 0.3156502\ttotal: 507ms\tremaining: 2.38s\n",
            "176:\tlearn: 0.3148476\ttotal: 510ms\tremaining: 2.37s\n",
            "177:\tlearn: 0.3140040\ttotal: 513ms\tremaining: 2.37s\n",
            "178:\tlearn: 0.3132304\ttotal: 516ms\tremaining: 2.37s\n",
            "179:\tlearn: 0.3125352\ttotal: 519ms\tremaining: 2.36s\n",
            "180:\tlearn: 0.3120779\ttotal: 521ms\tremaining: 2.36s\n",
            "181:\tlearn: 0.3113046\ttotal: 524ms\tremaining: 2.36s\n",
            "182:\tlearn: 0.3106462\ttotal: 527ms\tremaining: 2.35s\n",
            "183:\tlearn: 0.3097800\ttotal: 530ms\tremaining: 2.35s\n",
            "184:\tlearn: 0.3090985\ttotal: 532ms\tremaining: 2.35s\n",
            "185:\tlearn: 0.3084023\ttotal: 535ms\tremaining: 2.34s\n",
            "186:\tlearn: 0.3072799\ttotal: 538ms\tremaining: 2.34s\n",
            "187:\tlearn: 0.3064162\ttotal: 541ms\tremaining: 2.34s\n",
            "188:\tlearn: 0.3057667\ttotal: 544ms\tremaining: 2.33s\n",
            "189:\tlearn: 0.3051155\ttotal: 547ms\tremaining: 2.33s\n",
            "190:\tlearn: 0.3045603\ttotal: 549ms\tremaining: 2.33s\n",
            "191:\tlearn: 0.3038017\ttotal: 552ms\tremaining: 2.32s\n",
            "192:\tlearn: 0.3030710\ttotal: 555ms\tremaining: 2.32s\n",
            "193:\tlearn: 0.3023179\ttotal: 558ms\tremaining: 2.32s\n",
            "194:\tlearn: 0.3017633\ttotal: 561ms\tremaining: 2.31s\n",
            "195:\tlearn: 0.3009752\ttotal: 563ms\tremaining: 2.31s\n",
            "196:\tlearn: 0.3001521\ttotal: 566ms\tremaining: 2.31s\n",
            "197:\tlearn: 0.2995358\ttotal: 578ms\tremaining: 2.34s\n",
            "198:\tlearn: 0.2988398\ttotal: 582ms\tremaining: 2.34s\n",
            "199:\tlearn: 0.2982493\ttotal: 586ms\tremaining: 2.34s\n",
            "200:\tlearn: 0.2976181\ttotal: 588ms\tremaining: 2.34s\n",
            "201:\tlearn: 0.2970821\ttotal: 591ms\tremaining: 2.33s\n",
            "202:\tlearn: 0.2965619\ttotal: 594ms\tremaining: 2.33s\n",
            "203:\tlearn: 0.2958971\ttotal: 596ms\tremaining: 2.33s\n",
            "204:\tlearn: 0.2952668\ttotal: 599ms\tremaining: 2.32s\n",
            "205:\tlearn: 0.2944905\ttotal: 602ms\tremaining: 2.32s\n",
            "206:\tlearn: 0.2937326\ttotal: 604ms\tremaining: 2.31s\n",
            "207:\tlearn: 0.2931216\ttotal: 607ms\tremaining: 2.31s\n",
            "208:\tlearn: 0.2923976\ttotal: 610ms\tremaining: 2.31s\n",
            "209:\tlearn: 0.2917070\ttotal: 613ms\tremaining: 2.31s\n",
            "210:\tlearn: 0.2909124\ttotal: 617ms\tremaining: 2.31s\n",
            "211:\tlearn: 0.2903346\ttotal: 620ms\tremaining: 2.31s\n",
            "212:\tlearn: 0.2898146\ttotal: 623ms\tremaining: 2.3s\n",
            "213:\tlearn: 0.2890905\ttotal: 625ms\tremaining: 2.3s\n",
            "214:\tlearn: 0.2885261\ttotal: 628ms\tremaining: 2.29s\n",
            "215:\tlearn: 0.2880965\ttotal: 631ms\tremaining: 2.29s\n",
            "216:\tlearn: 0.2875521\ttotal: 633ms\tremaining: 2.29s\n",
            "217:\tlearn: 0.2868998\ttotal: 636ms\tremaining: 2.28s\n",
            "218:\tlearn: 0.2863575\ttotal: 639ms\tremaining: 2.28s\n",
            "219:\tlearn: 0.2857750\ttotal: 642ms\tremaining: 2.27s\n",
            "220:\tlearn: 0.2854056\ttotal: 644ms\tremaining: 2.27s\n",
            "221:\tlearn: 0.2848093\ttotal: 647ms\tremaining: 2.27s\n",
            "222:\tlearn: 0.2841234\ttotal: 650ms\tremaining: 2.26s\n",
            "223:\tlearn: 0.2832274\ttotal: 652ms\tremaining: 2.26s\n",
            "224:\tlearn: 0.2827824\ttotal: 655ms\tremaining: 2.26s\n",
            "225:\tlearn: 0.2822087\ttotal: 658ms\tremaining: 2.25s\n",
            "226:\tlearn: 0.2817482\ttotal: 660ms\tremaining: 2.25s\n",
            "227:\tlearn: 0.2810899\ttotal: 663ms\tremaining: 2.25s\n",
            "228:\tlearn: 0.2805561\ttotal: 666ms\tremaining: 2.24s\n",
            "229:\tlearn: 0.2799661\ttotal: 669ms\tremaining: 2.24s\n",
            "230:\tlearn: 0.2794316\ttotal: 672ms\tremaining: 2.23s\n",
            "231:\tlearn: 0.2787878\ttotal: 674ms\tremaining: 2.23s\n",
            "232:\tlearn: 0.2780498\ttotal: 677ms\tremaining: 2.23s\n",
            "233:\tlearn: 0.2775304\ttotal: 679ms\tremaining: 2.22s\n",
            "234:\tlearn: 0.2768483\ttotal: 682ms\tremaining: 2.22s\n",
            "235:\tlearn: 0.2763043\ttotal: 685ms\tremaining: 2.22s\n",
            "236:\tlearn: 0.2758033\ttotal: 687ms\tremaining: 2.21s\n",
            "237:\tlearn: 0.2751095\ttotal: 690ms\tremaining: 2.21s\n",
            "238:\tlearn: 0.2745537\ttotal: 693ms\tremaining: 2.21s\n",
            "239:\tlearn: 0.2739659\ttotal: 696ms\tremaining: 2.2s\n",
            "240:\tlearn: 0.2735939\ttotal: 698ms\tremaining: 2.2s\n",
            "241:\tlearn: 0.2727266\ttotal: 701ms\tremaining: 2.2s\n",
            "242:\tlearn: 0.2720270\ttotal: 705ms\tremaining: 2.2s\n",
            "243:\tlearn: 0.2715120\ttotal: 709ms\tremaining: 2.19s\n",
            "244:\tlearn: 0.2709945\ttotal: 714ms\tremaining: 2.2s\n",
            "245:\tlearn: 0.2704647\ttotal: 716ms\tremaining: 2.19s\n",
            "246:\tlearn: 0.2699923\ttotal: 719ms\tremaining: 2.19s\n",
            "247:\tlearn: 0.2695533\ttotal: 721ms\tremaining: 2.19s\n",
            "248:\tlearn: 0.2689448\ttotal: 724ms\tremaining: 2.18s\n",
            "249:\tlearn: 0.2684536\ttotal: 726ms\tremaining: 2.18s\n",
            "250:\tlearn: 0.2679119\ttotal: 729ms\tremaining: 2.17s\n",
            "251:\tlearn: 0.2673852\ttotal: 731ms\tremaining: 2.17s\n",
            "252:\tlearn: 0.2667778\ttotal: 733ms\tremaining: 2.17s\n",
            "253:\tlearn: 0.2662964\ttotal: 736ms\tremaining: 2.16s\n",
            "254:\tlearn: 0.2659159\ttotal: 739ms\tremaining: 2.16s\n",
            "255:\tlearn: 0.2653896\ttotal: 742ms\tremaining: 2.15s\n",
            "256:\tlearn: 0.2647545\ttotal: 744ms\tremaining: 2.15s\n",
            "257:\tlearn: 0.2642080\ttotal: 747ms\tremaining: 2.15s\n",
            "258:\tlearn: 0.2636471\ttotal: 749ms\tremaining: 2.14s\n",
            "259:\tlearn: 0.2628784\ttotal: 752ms\tremaining: 2.14s\n",
            "260:\tlearn: 0.2622729\ttotal: 755ms\tremaining: 2.14s\n",
            "261:\tlearn: 0.2618559\ttotal: 758ms\tremaining: 2.13s\n",
            "262:\tlearn: 0.2614325\ttotal: 760ms\tremaining: 2.13s\n",
            "263:\tlearn: 0.2609463\ttotal: 763ms\tremaining: 2.13s\n",
            "264:\tlearn: 0.2604462\ttotal: 767ms\tremaining: 2.13s\n",
            "265:\tlearn: 0.2597690\ttotal: 774ms\tremaining: 2.13s\n",
            "266:\tlearn: 0.2593113\ttotal: 776ms\tremaining: 2.13s\n",
            "267:\tlearn: 0.2588158\ttotal: 779ms\tremaining: 2.13s\n",
            "268:\tlearn: 0.2582274\ttotal: 781ms\tremaining: 2.12s\n",
            "269:\tlearn: 0.2576405\ttotal: 784ms\tremaining: 2.12s\n",
            "270:\tlearn: 0.2571193\ttotal: 787ms\tremaining: 2.12s\n",
            "271:\tlearn: 0.2567215\ttotal: 790ms\tremaining: 2.11s\n",
            "272:\tlearn: 0.2561128\ttotal: 793ms\tremaining: 2.11s\n",
            "273:\tlearn: 0.2555448\ttotal: 796ms\tremaining: 2.11s\n",
            "274:\tlearn: 0.2550150\ttotal: 798ms\tremaining: 2.1s\n",
            "275:\tlearn: 0.2547020\ttotal: 801ms\tremaining: 2.1s\n",
            "276:\tlearn: 0.2542433\ttotal: 804ms\tremaining: 2.1s\n",
            "277:\tlearn: 0.2536646\ttotal: 807ms\tremaining: 2.1s\n",
            "278:\tlearn: 0.2532907\ttotal: 809ms\tremaining: 2.09s\n",
            "279:\tlearn: 0.2528299\ttotal: 812ms\tremaining: 2.09s\n",
            "280:\tlearn: 0.2520125\ttotal: 815ms\tremaining: 2.08s\n",
            "281:\tlearn: 0.2515227\ttotal: 818ms\tremaining: 2.08s\n",
            "282:\tlearn: 0.2509890\ttotal: 821ms\tremaining: 2.08s\n",
            "283:\tlearn: 0.2504320\ttotal: 823ms\tremaining: 2.08s\n",
            "284:\tlearn: 0.2500292\ttotal: 826ms\tremaining: 2.07s\n",
            "285:\tlearn: 0.2494777\ttotal: 829ms\tremaining: 2.07s\n",
            "286:\tlearn: 0.2489474\ttotal: 831ms\tremaining: 2.06s\n",
            "287:\tlearn: 0.2486308\ttotal: 834ms\tremaining: 2.06s\n",
            "288:\tlearn: 0.2482145\ttotal: 837ms\tremaining: 2.06s\n",
            "289:\tlearn: 0.2477570\ttotal: 840ms\tremaining: 2.06s\n",
            "290:\tlearn: 0.2472374\ttotal: 843ms\tremaining: 2.05s\n",
            "291:\tlearn: 0.2467947\ttotal: 845ms\tremaining: 2.05s\n",
            "292:\tlearn: 0.2464795\ttotal: 848ms\tremaining: 2.05s\n",
            "293:\tlearn: 0.2462536\ttotal: 851ms\tremaining: 2.04s\n",
            "294:\tlearn: 0.2459481\ttotal: 854ms\tremaining: 2.04s\n",
            "295:\tlearn: 0.2455517\ttotal: 857ms\tremaining: 2.04s\n",
            "296:\tlearn: 0.2450659\ttotal: 859ms\tremaining: 2.03s\n",
            "297:\tlearn: 0.2445723\ttotal: 862ms\tremaining: 2.03s\n",
            "298:\tlearn: 0.2442563\ttotal: 865ms\tremaining: 2.03s\n",
            "299:\tlearn: 0.2438751\ttotal: 867ms\tremaining: 2.02s\n",
            "300:\tlearn: 0.2433551\ttotal: 870ms\tremaining: 2.02s\n",
            "301:\tlearn: 0.2428714\ttotal: 873ms\tremaining: 2.02s\n",
            "302:\tlearn: 0.2424919\ttotal: 875ms\tremaining: 2.01s\n",
            "303:\tlearn: 0.2419547\ttotal: 878ms\tremaining: 2.01s\n",
            "304:\tlearn: 0.2412905\ttotal: 881ms\tremaining: 2.01s\n",
            "305:\tlearn: 0.2406590\ttotal: 883ms\tremaining: 2s\n",
            "306:\tlearn: 0.2400967\ttotal: 886ms\tremaining: 2s\n",
            "307:\tlearn: 0.2396142\ttotal: 889ms\tremaining: 2s\n",
            "308:\tlearn: 0.2391707\ttotal: 894ms\tremaining: 2s\n",
            "309:\tlearn: 0.2387212\ttotal: 898ms\tremaining: 2s\n",
            "310:\tlearn: 0.2381455\ttotal: 901ms\tremaining: 2s\n",
            "311:\tlearn: 0.2378913\ttotal: 904ms\tremaining: 1.99s\n",
            "312:\tlearn: 0.2374340\ttotal: 906ms\tremaining: 1.99s\n",
            "313:\tlearn: 0.2369062\ttotal: 909ms\tremaining: 1.98s\n",
            "314:\tlearn: 0.2363261\ttotal: 911ms\tremaining: 1.98s\n",
            "315:\tlearn: 0.2358862\ttotal: 914ms\tremaining: 1.98s\n",
            "316:\tlearn: 0.2353163\ttotal: 916ms\tremaining: 1.97s\n",
            "317:\tlearn: 0.2347666\ttotal: 919ms\tremaining: 1.97s\n",
            "318:\tlearn: 0.2344010\ttotal: 921ms\tremaining: 1.97s\n",
            "319:\tlearn: 0.2340551\ttotal: 924ms\tremaining: 1.96s\n",
            "320:\tlearn: 0.2337004\ttotal: 926ms\tremaining: 1.96s\n",
            "321:\tlearn: 0.2331653\ttotal: 929ms\tremaining: 1.96s\n",
            "322:\tlearn: 0.2328042\ttotal: 932ms\tremaining: 1.95s\n",
            "323:\tlearn: 0.2323652\ttotal: 935ms\tremaining: 1.95s\n",
            "324:\tlearn: 0.2319605\ttotal: 937ms\tremaining: 1.95s\n",
            "325:\tlearn: 0.2313852\ttotal: 940ms\tremaining: 1.94s\n",
            "326:\tlearn: 0.2310022\ttotal: 943ms\tremaining: 1.94s\n",
            "327:\tlearn: 0.2305732\ttotal: 946ms\tremaining: 1.94s\n",
            "328:\tlearn: 0.2301133\ttotal: 949ms\tremaining: 1.93s\n",
            "329:\tlearn: 0.2296958\ttotal: 951ms\tremaining: 1.93s\n",
            "330:\tlearn: 0.2292995\ttotal: 955ms\tremaining: 1.93s\n",
            "331:\tlearn: 0.2288695\ttotal: 961ms\tremaining: 1.93s\n",
            "332:\tlearn: 0.2284340\ttotal: 964ms\tremaining: 1.93s\n",
            "333:\tlearn: 0.2280903\ttotal: 967ms\tremaining: 1.93s\n",
            "334:\tlearn: 0.2276336\ttotal: 969ms\tremaining: 1.92s\n",
            "335:\tlearn: 0.2273232\ttotal: 972ms\tremaining: 1.92s\n",
            "336:\tlearn: 0.2267470\ttotal: 975ms\tremaining: 1.92s\n",
            "337:\tlearn: 0.2262111\ttotal: 978ms\tremaining: 1.92s\n",
            "338:\tlearn: 0.2257813\ttotal: 980ms\tremaining: 1.91s\n",
            "339:\tlearn: 0.2253813\ttotal: 983ms\tremaining: 1.91s\n",
            "340:\tlearn: 0.2250118\ttotal: 986ms\tremaining: 1.91s\n",
            "341:\tlearn: 0.2245977\ttotal: 989ms\tremaining: 1.9s\n",
            "342:\tlearn: 0.2241800\ttotal: 991ms\tremaining: 1.9s\n",
            "343:\tlearn: 0.2237134\ttotal: 994ms\tremaining: 1.9s\n",
            "344:\tlearn: 0.2231942\ttotal: 997ms\tremaining: 1.89s\n",
            "345:\tlearn: 0.2227296\ttotal: 1000ms\tremaining: 1.89s\n",
            "346:\tlearn: 0.2222994\ttotal: 1s\tremaining: 1.89s\n",
            "347:\tlearn: 0.2218393\ttotal: 1.01s\tremaining: 1.89s\n",
            "348:\tlearn: 0.2215206\ttotal: 1.01s\tremaining: 1.88s\n",
            "349:\tlearn: 0.2210836\ttotal: 1.01s\tremaining: 1.88s\n",
            "350:\tlearn: 0.2206351\ttotal: 1.01s\tremaining: 1.88s\n",
            "351:\tlearn: 0.2201521\ttotal: 1.02s\tremaining: 1.87s\n",
            "352:\tlearn: 0.2195387\ttotal: 1.02s\tremaining: 1.87s\n",
            "353:\tlearn: 0.2191573\ttotal: 1.02s\tremaining: 1.86s\n",
            "354:\tlearn: 0.2189414\ttotal: 1.02s\tremaining: 1.86s\n",
            "355:\tlearn: 0.2185961\ttotal: 1.03s\tremaining: 1.86s\n",
            "356:\tlearn: 0.2182106\ttotal: 1.03s\tremaining: 1.85s\n",
            "357:\tlearn: 0.2179010\ttotal: 1.03s\tremaining: 1.85s\n",
            "358:\tlearn: 0.2176543\ttotal: 1.03s\tremaining: 1.85s\n",
            "359:\tlearn: 0.2173103\ttotal: 1.04s\tremaining: 1.84s\n",
            "360:\tlearn: 0.2170739\ttotal: 1.04s\tremaining: 1.84s\n",
            "361:\tlearn: 0.2166034\ttotal: 1.04s\tremaining: 1.84s\n",
            "362:\tlearn: 0.2162175\ttotal: 1.05s\tremaining: 1.83s\n",
            "363:\tlearn: 0.2158714\ttotal: 1.05s\tremaining: 1.83s\n",
            "364:\tlearn: 0.2154712\ttotal: 1.05s\tremaining: 1.83s\n",
            "365:\tlearn: 0.2150732\ttotal: 1.05s\tremaining: 1.83s\n",
            "366:\tlearn: 0.2145519\ttotal: 1.06s\tremaining: 1.82s\n",
            "367:\tlearn: 0.2142119\ttotal: 1.06s\tremaining: 1.82s\n",
            "368:\tlearn: 0.2137721\ttotal: 1.06s\tremaining: 1.82s\n",
            "369:\tlearn: 0.2132689\ttotal: 1.06s\tremaining: 1.81s\n",
            "370:\tlearn: 0.2129655\ttotal: 1.07s\tremaining: 1.81s\n",
            "371:\tlearn: 0.2125318\ttotal: 1.07s\tremaining: 1.81s\n",
            "372:\tlearn: 0.2121302\ttotal: 1.07s\tremaining: 1.8s\n",
            "373:\tlearn: 0.2117299\ttotal: 1.08s\tremaining: 1.8s\n",
            "374:\tlearn: 0.2114526\ttotal: 1.08s\tremaining: 1.8s\n",
            "375:\tlearn: 0.2110649\ttotal: 1.08s\tremaining: 1.79s\n",
            "376:\tlearn: 0.2108035\ttotal: 1.08s\tremaining: 1.79s\n",
            "377:\tlearn: 0.2105310\ttotal: 1.09s\tremaining: 1.79s\n",
            "378:\tlearn: 0.2099892\ttotal: 1.09s\tremaining: 1.78s\n",
            "379:\tlearn: 0.2094734\ttotal: 1.09s\tremaining: 1.78s\n",
            "380:\tlearn: 0.2092075\ttotal: 1.09s\tremaining: 1.78s\n",
            "381:\tlearn: 0.2088993\ttotal: 1.1s\tremaining: 1.78s\n",
            "382:\tlearn: 0.2085380\ttotal: 1.1s\tremaining: 1.77s\n",
            "383:\tlearn: 0.2081610\ttotal: 1.1s\tremaining: 1.77s\n",
            "384:\tlearn: 0.2077680\ttotal: 1.11s\tremaining: 1.77s\n",
            "385:\tlearn: 0.2074019\ttotal: 1.11s\tremaining: 1.76s\n",
            "386:\tlearn: 0.2068866\ttotal: 1.11s\tremaining: 1.76s\n",
            "387:\tlearn: 0.2066308\ttotal: 1.11s\tremaining: 1.76s\n",
            "388:\tlearn: 0.2062898\ttotal: 1.12s\tremaining: 1.75s\n",
            "389:\tlearn: 0.2059725\ttotal: 1.12s\tremaining: 1.75s\n",
            "390:\tlearn: 0.2055960\ttotal: 1.12s\tremaining: 1.75s\n",
            "391:\tlearn: 0.2053714\ttotal: 1.12s\tremaining: 1.74s\n",
            "392:\tlearn: 0.2050360\ttotal: 1.13s\tremaining: 1.74s\n",
            "393:\tlearn: 0.2046810\ttotal: 1.13s\tremaining: 1.74s\n",
            "394:\tlearn: 0.2043360\ttotal: 1.13s\tremaining: 1.74s\n",
            "395:\tlearn: 0.2040274\ttotal: 1.14s\tremaining: 1.73s\n",
            "396:\tlearn: 0.2036554\ttotal: 1.14s\tremaining: 1.73s\n",
            "397:\tlearn: 0.2031780\ttotal: 1.14s\tremaining: 1.73s\n",
            "398:\tlearn: 0.2027828\ttotal: 1.14s\tremaining: 1.72s\n",
            "399:\tlearn: 0.2025540\ttotal: 1.15s\tremaining: 1.73s\n",
            "400:\tlearn: 0.2022171\ttotal: 1.15s\tremaining: 1.72s\n",
            "401:\tlearn: 0.2018798\ttotal: 1.16s\tremaining: 1.72s\n",
            "402:\tlearn: 0.2015291\ttotal: 1.16s\tremaining: 1.72s\n",
            "403:\tlearn: 0.2013253\ttotal: 1.16s\tremaining: 1.71s\n",
            "404:\tlearn: 0.2010681\ttotal: 1.16s\tremaining: 1.71s\n",
            "405:\tlearn: 0.2007989\ttotal: 1.17s\tremaining: 1.71s\n",
            "406:\tlearn: 0.2005534\ttotal: 1.17s\tremaining: 1.7s\n",
            "407:\tlearn: 0.2001623\ttotal: 1.17s\tremaining: 1.7s\n",
            "408:\tlearn: 0.1997009\ttotal: 1.18s\tremaining: 1.7s\n",
            "409:\tlearn: 0.1993603\ttotal: 1.18s\tremaining: 1.69s\n",
            "410:\tlearn: 0.1988603\ttotal: 1.18s\tremaining: 1.69s\n",
            "411:\tlearn: 0.1985803\ttotal: 1.18s\tremaining: 1.69s\n",
            "412:\tlearn: 0.1983361\ttotal: 1.19s\tremaining: 1.69s\n",
            "413:\tlearn: 0.1979676\ttotal: 1.19s\tremaining: 1.68s\n",
            "414:\tlearn: 0.1975326\ttotal: 1.19s\tremaining: 1.68s\n",
            "415:\tlearn: 0.1972454\ttotal: 1.19s\tremaining: 1.68s\n",
            "416:\tlearn: 0.1970231\ttotal: 1.2s\tremaining: 1.67s\n",
            "417:\tlearn: 0.1967796\ttotal: 1.2s\tremaining: 1.67s\n",
            "418:\tlearn: 0.1963645\ttotal: 1.2s\tremaining: 1.67s\n",
            "419:\tlearn: 0.1960209\ttotal: 1.2s\tremaining: 1.66s\n",
            "420:\tlearn: 0.1955543\ttotal: 1.21s\tremaining: 1.66s\n",
            "421:\tlearn: 0.1951928\ttotal: 1.21s\tremaining: 1.66s\n",
            "422:\tlearn: 0.1949265\ttotal: 1.21s\tremaining: 1.65s\n",
            "423:\tlearn: 0.1946791\ttotal: 1.22s\tremaining: 1.65s\n",
            "424:\tlearn: 0.1943505\ttotal: 1.22s\tremaining: 1.65s\n",
            "425:\tlearn: 0.1940203\ttotal: 1.22s\tremaining: 1.64s\n",
            "426:\tlearn: 0.1935489\ttotal: 1.22s\tremaining: 1.64s\n",
            "427:\tlearn: 0.1932398\ttotal: 1.23s\tremaining: 1.64s\n",
            "428:\tlearn: 0.1928570\ttotal: 1.23s\tremaining: 1.64s\n",
            "429:\tlearn: 0.1925473\ttotal: 1.23s\tremaining: 1.63s\n",
            "430:\tlearn: 0.1922747\ttotal: 1.23s\tremaining: 1.63s\n",
            "431:\tlearn: 0.1920162\ttotal: 1.24s\tremaining: 1.63s\n",
            "432:\tlearn: 0.1915819\ttotal: 1.24s\tremaining: 1.62s\n",
            "433:\tlearn: 0.1913506\ttotal: 1.24s\tremaining: 1.62s\n",
            "434:\tlearn: 0.1909190\ttotal: 1.24s\tremaining: 1.62s\n",
            "435:\tlearn: 0.1906703\ttotal: 1.25s\tremaining: 1.61s\n",
            "436:\tlearn: 0.1903854\ttotal: 1.25s\tremaining: 1.61s\n",
            "437:\tlearn: 0.1900627\ttotal: 1.25s\tremaining: 1.61s\n",
            "438:\tlearn: 0.1897498\ttotal: 1.25s\tremaining: 1.6s\n",
            "439:\tlearn: 0.1894610\ttotal: 1.26s\tremaining: 1.6s\n",
            "440:\tlearn: 0.1891088\ttotal: 1.26s\tremaining: 1.6s\n",
            "441:\tlearn: 0.1886980\ttotal: 1.26s\tremaining: 1.59s\n",
            "442:\tlearn: 0.1883654\ttotal: 1.27s\tremaining: 1.59s\n",
            "443:\tlearn: 0.1880744\ttotal: 1.27s\tremaining: 1.59s\n",
            "444:\tlearn: 0.1877408\ttotal: 1.27s\tremaining: 1.59s\n",
            "445:\tlearn: 0.1873182\ttotal: 1.27s\tremaining: 1.58s\n",
            "446:\tlearn: 0.1869510\ttotal: 1.28s\tremaining: 1.58s\n",
            "447:\tlearn: 0.1865381\ttotal: 1.28s\tremaining: 1.58s\n",
            "448:\tlearn: 0.1863187\ttotal: 1.28s\tremaining: 1.57s\n",
            "449:\tlearn: 0.1859464\ttotal: 1.28s\tremaining: 1.57s\n",
            "450:\tlearn: 0.1856369\ttotal: 1.29s\tremaining: 1.57s\n",
            "451:\tlearn: 0.1854469\ttotal: 1.29s\tremaining: 1.56s\n",
            "452:\tlearn: 0.1851315\ttotal: 1.29s\tremaining: 1.56s\n",
            "453:\tlearn: 0.1848297\ttotal: 1.3s\tremaining: 1.56s\n",
            "454:\tlearn: 0.1844782\ttotal: 1.3s\tremaining: 1.55s\n",
            "455:\tlearn: 0.1840688\ttotal: 1.3s\tremaining: 1.55s\n",
            "456:\tlearn: 0.1838273\ttotal: 1.3s\tremaining: 1.55s\n",
            "457:\tlearn: 0.1836669\ttotal: 1.31s\tremaining: 1.55s\n",
            "458:\tlearn: 0.1833943\ttotal: 1.31s\tremaining: 1.54s\n",
            "459:\tlearn: 0.1830740\ttotal: 1.31s\tremaining: 1.54s\n",
            "460:\tlearn: 0.1828859\ttotal: 1.31s\tremaining: 1.54s\n",
            "461:\tlearn: 0.1824769\ttotal: 1.32s\tremaining: 1.53s\n",
            "462:\tlearn: 0.1819249\ttotal: 1.32s\tremaining: 1.53s\n",
            "463:\tlearn: 0.1815316\ttotal: 1.32s\tremaining: 1.53s\n",
            "464:\tlearn: 0.1813134\ttotal: 1.32s\tremaining: 1.52s\n",
            "465:\tlearn: 0.1809622\ttotal: 1.33s\tremaining: 1.52s\n",
            "466:\tlearn: 0.1805792\ttotal: 1.33s\tremaining: 1.52s\n",
            "467:\tlearn: 0.1803054\ttotal: 1.33s\tremaining: 1.52s\n",
            "468:\tlearn: 0.1800405\ttotal: 1.34s\tremaining: 1.51s\n",
            "469:\tlearn: 0.1797800\ttotal: 1.34s\tremaining: 1.51s\n",
            "470:\tlearn: 0.1795136\ttotal: 1.35s\tremaining: 1.51s\n",
            "471:\tlearn: 0.1792336\ttotal: 1.35s\tremaining: 1.51s\n",
            "472:\tlearn: 0.1789863\ttotal: 1.35s\tremaining: 1.51s\n",
            "473:\tlearn: 0.1787214\ttotal: 1.36s\tremaining: 1.5s\n",
            "474:\tlearn: 0.1784377\ttotal: 1.36s\tremaining: 1.5s\n",
            "475:\tlearn: 0.1781802\ttotal: 1.36s\tremaining: 1.5s\n",
            "476:\tlearn: 0.1779579\ttotal: 1.37s\tremaining: 1.5s\n",
            "477:\tlearn: 0.1775687\ttotal: 1.37s\tremaining: 1.5s\n",
            "478:\tlearn: 0.1773400\ttotal: 1.37s\tremaining: 1.49s\n",
            "479:\tlearn: 0.1770371\ttotal: 1.37s\tremaining: 1.49s\n",
            "480:\tlearn: 0.1768118\ttotal: 1.38s\tremaining: 1.49s\n",
            "481:\tlearn: 0.1765414\ttotal: 1.38s\tremaining: 1.48s\n",
            "482:\tlearn: 0.1762751\ttotal: 1.38s\tremaining: 1.48s\n",
            "483:\tlearn: 0.1759953\ttotal: 1.39s\tremaining: 1.48s\n",
            "484:\tlearn: 0.1758800\ttotal: 1.39s\tremaining: 1.47s\n",
            "485:\tlearn: 0.1755928\ttotal: 1.39s\tremaining: 1.47s\n",
            "486:\tlearn: 0.1754120\ttotal: 1.39s\tremaining: 1.47s\n",
            "487:\tlearn: 0.1749638\ttotal: 1.4s\tremaining: 1.47s\n",
            "488:\tlearn: 0.1746448\ttotal: 1.4s\tremaining: 1.46s\n",
            "489:\tlearn: 0.1742767\ttotal: 1.4s\tremaining: 1.46s\n",
            "490:\tlearn: 0.1739797\ttotal: 1.4s\tremaining: 1.46s\n",
            "491:\tlearn: 0.1735052\ttotal: 1.41s\tremaining: 1.45s\n",
            "492:\tlearn: 0.1731705\ttotal: 1.41s\tremaining: 1.45s\n",
            "493:\tlearn: 0.1729408\ttotal: 1.41s\tremaining: 1.45s\n",
            "494:\tlearn: 0.1725703\ttotal: 1.42s\tremaining: 1.44s\n",
            "495:\tlearn: 0.1723336\ttotal: 1.42s\tremaining: 1.44s\n",
            "496:\tlearn: 0.1719139\ttotal: 1.42s\tremaining: 1.44s\n",
            "497:\tlearn: 0.1716038\ttotal: 1.42s\tremaining: 1.44s\n",
            "498:\tlearn: 0.1712833\ttotal: 1.43s\tremaining: 1.43s\n",
            "499:\tlearn: 0.1709021\ttotal: 1.43s\tremaining: 1.43s\n",
            "500:\tlearn: 0.1705483\ttotal: 1.43s\tremaining: 1.43s\n",
            "501:\tlearn: 0.1703470\ttotal: 1.44s\tremaining: 1.42s\n",
            "502:\tlearn: 0.1700760\ttotal: 1.44s\tremaining: 1.42s\n",
            "503:\tlearn: 0.1697867\ttotal: 1.44s\tremaining: 1.42s\n",
            "504:\tlearn: 0.1695321\ttotal: 1.44s\tremaining: 1.42s\n",
            "505:\tlearn: 0.1692709\ttotal: 1.45s\tremaining: 1.41s\n",
            "506:\tlearn: 0.1689966\ttotal: 1.45s\tremaining: 1.41s\n",
            "507:\tlearn: 0.1687198\ttotal: 1.45s\tremaining: 1.41s\n",
            "508:\tlearn: 0.1683836\ttotal: 1.45s\tremaining: 1.4s\n",
            "509:\tlearn: 0.1680565\ttotal: 1.46s\tremaining: 1.4s\n",
            "510:\tlearn: 0.1678512\ttotal: 1.46s\tremaining: 1.4s\n",
            "511:\tlearn: 0.1676605\ttotal: 1.46s\tremaining: 1.39s\n",
            "512:\tlearn: 0.1673594\ttotal: 1.47s\tremaining: 1.39s\n",
            "513:\tlearn: 0.1671652\ttotal: 1.47s\tremaining: 1.39s\n",
            "514:\tlearn: 0.1668504\ttotal: 1.47s\tremaining: 1.39s\n",
            "515:\tlearn: 0.1666070\ttotal: 1.47s\tremaining: 1.38s\n",
            "516:\tlearn: 0.1663971\ttotal: 1.48s\tremaining: 1.38s\n",
            "517:\tlearn: 0.1662470\ttotal: 1.48s\tremaining: 1.38s\n",
            "518:\tlearn: 0.1659516\ttotal: 1.48s\tremaining: 1.37s\n",
            "519:\tlearn: 0.1657436\ttotal: 1.48s\tremaining: 1.37s\n",
            "520:\tlearn: 0.1655615\ttotal: 1.49s\tremaining: 1.37s\n",
            "521:\tlearn: 0.1653257\ttotal: 1.49s\tremaining: 1.36s\n",
            "522:\tlearn: 0.1649291\ttotal: 1.49s\tremaining: 1.36s\n",
            "523:\tlearn: 0.1647848\ttotal: 1.5s\tremaining: 1.36s\n",
            "524:\tlearn: 0.1644763\ttotal: 1.5s\tremaining: 1.35s\n",
            "525:\tlearn: 0.1642956\ttotal: 1.5s\tremaining: 1.35s\n",
            "526:\tlearn: 0.1640396\ttotal: 1.5s\tremaining: 1.35s\n",
            "527:\tlearn: 0.1638367\ttotal: 1.51s\tremaining: 1.35s\n",
            "528:\tlearn: 0.1634625\ttotal: 1.51s\tremaining: 1.34s\n",
            "529:\tlearn: 0.1631583\ttotal: 1.51s\tremaining: 1.34s\n",
            "530:\tlearn: 0.1629886\ttotal: 1.51s\tremaining: 1.34s\n",
            "531:\tlearn: 0.1626223\ttotal: 1.52s\tremaining: 1.34s\n",
            "532:\tlearn: 0.1624673\ttotal: 1.52s\tremaining: 1.33s\n",
            "533:\tlearn: 0.1622837\ttotal: 1.53s\tremaining: 1.33s\n",
            "534:\tlearn: 0.1620686\ttotal: 1.53s\tremaining: 1.33s\n",
            "535:\tlearn: 0.1616958\ttotal: 1.54s\tremaining: 1.33s\n",
            "536:\tlearn: 0.1613027\ttotal: 1.54s\tremaining: 1.33s\n",
            "537:\tlearn: 0.1611161\ttotal: 1.54s\tremaining: 1.32s\n",
            "538:\tlearn: 0.1608012\ttotal: 1.55s\tremaining: 1.32s\n",
            "539:\tlearn: 0.1605780\ttotal: 1.55s\tremaining: 1.32s\n",
            "540:\tlearn: 0.1603557\ttotal: 1.55s\tremaining: 1.32s\n",
            "541:\tlearn: 0.1600665\ttotal: 1.55s\tremaining: 1.31s\n",
            "542:\tlearn: 0.1597190\ttotal: 1.56s\tremaining: 1.31s\n",
            "543:\tlearn: 0.1595585\ttotal: 1.56s\tremaining: 1.31s\n",
            "544:\tlearn: 0.1592162\ttotal: 1.56s\tremaining: 1.3s\n",
            "545:\tlearn: 0.1590135\ttotal: 1.57s\tremaining: 1.3s\n",
            "546:\tlearn: 0.1588280\ttotal: 1.57s\tremaining: 1.3s\n",
            "547:\tlearn: 0.1585900\ttotal: 1.57s\tremaining: 1.3s\n",
            "548:\tlearn: 0.1584976\ttotal: 1.57s\tremaining: 1.29s\n",
            "549:\tlearn: 0.1583381\ttotal: 1.58s\tremaining: 1.29s\n",
            "550:\tlearn: 0.1579228\ttotal: 1.58s\tremaining: 1.29s\n",
            "551:\tlearn: 0.1576611\ttotal: 1.58s\tremaining: 1.28s\n",
            "552:\tlearn: 0.1574145\ttotal: 1.58s\tremaining: 1.28s\n",
            "553:\tlearn: 0.1570992\ttotal: 1.59s\tremaining: 1.28s\n",
            "554:\tlearn: 0.1568630\ttotal: 1.59s\tremaining: 1.27s\n",
            "555:\tlearn: 0.1565139\ttotal: 1.59s\tremaining: 1.27s\n",
            "556:\tlearn: 0.1563001\ttotal: 1.6s\tremaining: 1.27s\n",
            "557:\tlearn: 0.1560076\ttotal: 1.6s\tremaining: 1.27s\n",
            "558:\tlearn: 0.1557291\ttotal: 1.6s\tremaining: 1.26s\n",
            "559:\tlearn: 0.1554972\ttotal: 1.6s\tremaining: 1.26s\n",
            "560:\tlearn: 0.1553058\ttotal: 1.61s\tremaining: 1.26s\n",
            "561:\tlearn: 0.1550234\ttotal: 1.61s\tremaining: 1.25s\n",
            "562:\tlearn: 0.1548392\ttotal: 1.61s\tremaining: 1.25s\n",
            "563:\tlearn: 0.1545938\ttotal: 1.61s\tremaining: 1.25s\n",
            "564:\tlearn: 0.1543422\ttotal: 1.62s\tremaining: 1.25s\n",
            "565:\tlearn: 0.1541209\ttotal: 1.62s\tremaining: 1.24s\n",
            "566:\tlearn: 0.1538584\ttotal: 1.62s\tremaining: 1.24s\n",
            "567:\tlearn: 0.1535591\ttotal: 1.63s\tremaining: 1.24s\n",
            "568:\tlearn: 0.1532522\ttotal: 1.63s\tremaining: 1.23s\n",
            "569:\tlearn: 0.1530721\ttotal: 1.63s\tremaining: 1.23s\n",
            "570:\tlearn: 0.1528052\ttotal: 1.63s\tremaining: 1.23s\n",
            "571:\tlearn: 0.1526070\ttotal: 1.64s\tremaining: 1.23s\n",
            "572:\tlearn: 0.1522542\ttotal: 1.64s\tremaining: 1.22s\n",
            "573:\tlearn: 0.1520960\ttotal: 1.64s\tremaining: 1.22s\n",
            "574:\tlearn: 0.1518149\ttotal: 1.65s\tremaining: 1.22s\n",
            "575:\tlearn: 0.1515274\ttotal: 1.65s\tremaining: 1.21s\n",
            "576:\tlearn: 0.1512414\ttotal: 1.65s\tremaining: 1.21s\n",
            "577:\tlearn: 0.1509690\ttotal: 1.65s\tremaining: 1.21s\n",
            "578:\tlearn: 0.1507201\ttotal: 1.66s\tremaining: 1.2s\n",
            "579:\tlearn: 0.1505563\ttotal: 1.66s\tremaining: 1.2s\n",
            "580:\tlearn: 0.1502830\ttotal: 1.66s\tremaining: 1.2s\n",
            "581:\tlearn: 0.1499699\ttotal: 1.67s\tremaining: 1.2s\n",
            "582:\tlearn: 0.1496909\ttotal: 1.67s\tremaining: 1.19s\n",
            "583:\tlearn: 0.1493351\ttotal: 1.67s\tremaining: 1.19s\n",
            "584:\tlearn: 0.1491286\ttotal: 1.67s\tremaining: 1.19s\n",
            "585:\tlearn: 0.1489741\ttotal: 1.68s\tremaining: 1.18s\n",
            "586:\tlearn: 0.1487587\ttotal: 1.68s\tremaining: 1.18s\n",
            "587:\tlearn: 0.1486194\ttotal: 1.68s\tremaining: 1.18s\n",
            "588:\tlearn: 0.1484256\ttotal: 1.68s\tremaining: 1.18s\n",
            "589:\tlearn: 0.1481778\ttotal: 1.69s\tremaining: 1.17s\n",
            "590:\tlearn: 0.1479187\ttotal: 1.69s\tremaining: 1.17s\n",
            "591:\tlearn: 0.1476723\ttotal: 1.69s\tremaining: 1.17s\n",
            "592:\tlearn: 0.1473698\ttotal: 1.69s\tremaining: 1.16s\n",
            "593:\tlearn: 0.1470433\ttotal: 1.7s\tremaining: 1.16s\n",
            "594:\tlearn: 0.1467618\ttotal: 1.7s\tremaining: 1.16s\n",
            "595:\tlearn: 0.1464717\ttotal: 1.7s\tremaining: 1.15s\n",
            "596:\tlearn: 0.1462873\ttotal: 1.71s\tremaining: 1.15s\n",
            "597:\tlearn: 0.1461302\ttotal: 1.71s\tremaining: 1.15s\n",
            "598:\tlearn: 0.1459253\ttotal: 1.71s\tremaining: 1.15s\n",
            "599:\tlearn: 0.1456284\ttotal: 1.71s\tremaining: 1.14s\n",
            "600:\tlearn: 0.1454380\ttotal: 1.72s\tremaining: 1.14s\n",
            "601:\tlearn: 0.1452306\ttotal: 1.72s\tremaining: 1.14s\n",
            "602:\tlearn: 0.1450018\ttotal: 1.72s\tremaining: 1.13s\n",
            "603:\tlearn: 0.1446760\ttotal: 1.73s\tremaining: 1.13s\n",
            "604:\tlearn: 0.1444544\ttotal: 1.73s\tremaining: 1.13s\n",
            "605:\tlearn: 0.1442471\ttotal: 1.74s\tremaining: 1.13s\n",
            "606:\tlearn: 0.1440271\ttotal: 1.74s\tremaining: 1.13s\n",
            "607:\tlearn: 0.1438333\ttotal: 1.74s\tremaining: 1.12s\n",
            "608:\tlearn: 0.1436006\ttotal: 1.74s\tremaining: 1.12s\n",
            "609:\tlearn: 0.1434288\ttotal: 1.75s\tremaining: 1.12s\n",
            "610:\tlearn: 0.1432594\ttotal: 1.75s\tremaining: 1.11s\n",
            "611:\tlearn: 0.1430785\ttotal: 1.75s\tremaining: 1.11s\n",
            "612:\tlearn: 0.1428968\ttotal: 1.75s\tremaining: 1.11s\n",
            "613:\tlearn: 0.1426805\ttotal: 1.76s\tremaining: 1.1s\n",
            "614:\tlearn: 0.1425282\ttotal: 1.76s\tremaining: 1.1s\n",
            "615:\tlearn: 0.1422615\ttotal: 1.76s\tremaining: 1.1s\n",
            "616:\tlearn: 0.1419301\ttotal: 1.77s\tremaining: 1.1s\n",
            "617:\tlearn: 0.1417278\ttotal: 1.77s\tremaining: 1.09s\n",
            "618:\tlearn: 0.1414944\ttotal: 1.77s\tremaining: 1.09s\n",
            "619:\tlearn: 0.1413262\ttotal: 1.77s\tremaining: 1.09s\n",
            "620:\tlearn: 0.1411565\ttotal: 1.78s\tremaining: 1.08s\n",
            "621:\tlearn: 0.1409199\ttotal: 1.78s\tremaining: 1.08s\n",
            "622:\tlearn: 0.1406010\ttotal: 1.78s\tremaining: 1.08s\n",
            "623:\tlearn: 0.1403118\ttotal: 1.79s\tremaining: 1.08s\n",
            "624:\tlearn: 0.1400987\ttotal: 1.79s\tremaining: 1.07s\n",
            "625:\tlearn: 0.1398543\ttotal: 1.79s\tremaining: 1.07s\n",
            "626:\tlearn: 0.1396336\ttotal: 1.79s\tremaining: 1.07s\n",
            "627:\tlearn: 0.1394000\ttotal: 1.8s\tremaining: 1.06s\n",
            "628:\tlearn: 0.1391821\ttotal: 1.8s\tremaining: 1.06s\n",
            "629:\tlearn: 0.1389061\ttotal: 1.8s\tremaining: 1.06s\n",
            "630:\tlearn: 0.1386963\ttotal: 1.8s\tremaining: 1.05s\n",
            "631:\tlearn: 0.1383874\ttotal: 1.81s\tremaining: 1.05s\n",
            "632:\tlearn: 0.1381724\ttotal: 1.81s\tremaining: 1.05s\n",
            "633:\tlearn: 0.1379402\ttotal: 1.81s\tremaining: 1.05s\n",
            "634:\tlearn: 0.1377333\ttotal: 1.82s\tremaining: 1.04s\n",
            "635:\tlearn: 0.1375043\ttotal: 1.82s\tremaining: 1.04s\n",
            "636:\tlearn: 0.1372709\ttotal: 1.82s\tremaining: 1.04s\n",
            "637:\tlearn: 0.1370429\ttotal: 1.82s\tremaining: 1.03s\n",
            "638:\tlearn: 0.1367766\ttotal: 1.83s\tremaining: 1.03s\n",
            "639:\tlearn: 0.1366136\ttotal: 1.83s\tremaining: 1.03s\n",
            "640:\tlearn: 0.1364330\ttotal: 1.83s\tremaining: 1.03s\n",
            "641:\tlearn: 0.1361363\ttotal: 1.84s\tremaining: 1.02s\n",
            "642:\tlearn: 0.1358965\ttotal: 1.84s\tremaining: 1.02s\n",
            "643:\tlearn: 0.1357370\ttotal: 1.84s\tremaining: 1.02s\n",
            "644:\tlearn: 0.1356058\ttotal: 1.84s\tremaining: 1.01s\n",
            "645:\tlearn: 0.1353933\ttotal: 1.85s\tremaining: 1.01s\n",
            "646:\tlearn: 0.1351787\ttotal: 1.85s\tremaining: 1.01s\n",
            "647:\tlearn: 0.1348090\ttotal: 1.86s\tremaining: 1.01s\n",
            "648:\tlearn: 0.1345710\ttotal: 1.86s\tremaining: 1.01s\n",
            "649:\tlearn: 0.1343915\ttotal: 1.87s\tremaining: 1s\n",
            "650:\tlearn: 0.1341907\ttotal: 1.87s\tremaining: 1s\n",
            "651:\tlearn: 0.1340058\ttotal: 1.87s\tremaining: 999ms\n",
            "652:\tlearn: 0.1337585\ttotal: 1.87s\tremaining: 996ms\n",
            "653:\tlearn: 0.1335672\ttotal: 1.88s\tremaining: 993ms\n",
            "654:\tlearn: 0.1333925\ttotal: 1.88s\tremaining: 990ms\n",
            "655:\tlearn: 0.1331494\ttotal: 1.88s\tremaining: 987ms\n",
            "656:\tlearn: 0.1328840\ttotal: 1.89s\tremaining: 985ms\n",
            "657:\tlearn: 0.1326669\ttotal: 1.89s\tremaining: 983ms\n",
            "658:\tlearn: 0.1323271\ttotal: 1.89s\tremaining: 980ms\n",
            "659:\tlearn: 0.1321121\ttotal: 1.9s\tremaining: 977ms\n",
            "660:\tlearn: 0.1318891\ttotal: 1.9s\tremaining: 974ms\n",
            "661:\tlearn: 0.1316809\ttotal: 1.9s\tremaining: 971ms\n",
            "662:\tlearn: 0.1315289\ttotal: 1.9s\tremaining: 968ms\n",
            "663:\tlearn: 0.1313173\ttotal: 1.91s\tremaining: 965ms\n",
            "664:\tlearn: 0.1311191\ttotal: 1.91s\tremaining: 962ms\n",
            "665:\tlearn: 0.1310026\ttotal: 1.91s\tremaining: 959ms\n",
            "666:\tlearn: 0.1307415\ttotal: 1.92s\tremaining: 958ms\n",
            "667:\tlearn: 0.1305807\ttotal: 1.92s\tremaining: 956ms\n",
            "668:\tlearn: 0.1303288\ttotal: 1.93s\tremaining: 953ms\n",
            "669:\tlearn: 0.1300722\ttotal: 1.93s\tremaining: 950ms\n",
            "670:\tlearn: 0.1298931\ttotal: 1.93s\tremaining: 947ms\n",
            "671:\tlearn: 0.1297109\ttotal: 1.93s\tremaining: 944ms\n",
            "672:\tlearn: 0.1295245\ttotal: 1.94s\tremaining: 941ms\n",
            "673:\tlearn: 0.1292629\ttotal: 1.94s\tremaining: 938ms\n",
            "674:\tlearn: 0.1290005\ttotal: 1.94s\tremaining: 935ms\n",
            "675:\tlearn: 0.1287262\ttotal: 1.95s\tremaining: 932ms\n",
            "676:\tlearn: 0.1284564\ttotal: 1.95s\tremaining: 930ms\n",
            "677:\tlearn: 0.1282943\ttotal: 1.95s\tremaining: 927ms\n",
            "678:\tlearn: 0.1279761\ttotal: 1.95s\tremaining: 924ms\n",
            "679:\tlearn: 0.1277737\ttotal: 1.96s\tremaining: 921ms\n",
            "680:\tlearn: 0.1275650\ttotal: 1.96s\tremaining: 918ms\n",
            "681:\tlearn: 0.1273299\ttotal: 1.96s\tremaining: 915ms\n",
            "682:\tlearn: 0.1271269\ttotal: 1.96s\tremaining: 912ms\n",
            "683:\tlearn: 0.1268898\ttotal: 1.97s\tremaining: 909ms\n",
            "684:\tlearn: 0.1266137\ttotal: 1.97s\tremaining: 906ms\n",
            "685:\tlearn: 0.1264092\ttotal: 1.97s\tremaining: 903ms\n",
            "686:\tlearn: 0.1262406\ttotal: 1.98s\tremaining: 900ms\n",
            "687:\tlearn: 0.1259807\ttotal: 1.98s\tremaining: 897ms\n",
            "688:\tlearn: 0.1257505\ttotal: 1.98s\tremaining: 894ms\n",
            "689:\tlearn: 0.1255094\ttotal: 1.98s\tremaining: 891ms\n",
            "690:\tlearn: 0.1253057\ttotal: 1.99s\tremaining: 888ms\n",
            "691:\tlearn: 0.1251375\ttotal: 1.99s\tremaining: 885ms\n",
            "692:\tlearn: 0.1249679\ttotal: 1.99s\tremaining: 883ms\n",
            "693:\tlearn: 0.1247677\ttotal: 2s\tremaining: 880ms\n",
            "694:\tlearn: 0.1245876\ttotal: 2s\tremaining: 877ms\n",
            "695:\tlearn: 0.1243290\ttotal: 2s\tremaining: 874ms\n",
            "696:\tlearn: 0.1241912\ttotal: 2s\tremaining: 871ms\n",
            "697:\tlearn: 0.1239537\ttotal: 2.01s\tremaining: 868ms\n",
            "698:\tlearn: 0.1237414\ttotal: 2.01s\tremaining: 865ms\n",
            "699:\tlearn: 0.1234884\ttotal: 2.01s\tremaining: 862ms\n",
            "700:\tlearn: 0.1232790\ttotal: 2.01s\tremaining: 859ms\n",
            "701:\tlearn: 0.1232087\ttotal: 2.02s\tremaining: 856ms\n",
            "702:\tlearn: 0.1230124\ttotal: 2.02s\tremaining: 853ms\n",
            "703:\tlearn: 0.1228325\ttotal: 2.02s\tremaining: 850ms\n",
            "704:\tlearn: 0.1226139\ttotal: 2.02s\tremaining: 847ms\n",
            "705:\tlearn: 0.1223881\ttotal: 2.03s\tremaining: 844ms\n",
            "706:\tlearn: 0.1221662\ttotal: 2.03s\tremaining: 842ms\n",
            "707:\tlearn: 0.1218848\ttotal: 2.03s\tremaining: 839ms\n",
            "708:\tlearn: 0.1217528\ttotal: 2.04s\tremaining: 837ms\n",
            "709:\tlearn: 0.1215448\ttotal: 2.04s\tremaining: 835ms\n",
            "710:\tlearn: 0.1212980\ttotal: 2.04s\tremaining: 832ms\n",
            "711:\tlearn: 0.1211451\ttotal: 2.05s\tremaining: 829ms\n",
            "712:\tlearn: 0.1209698\ttotal: 2.05s\tremaining: 825ms\n",
            "713:\tlearn: 0.1208236\ttotal: 2.05s\tremaining: 822ms\n",
            "714:\tlearn: 0.1206382\ttotal: 2.06s\tremaining: 819ms\n",
            "715:\tlearn: 0.1204234\ttotal: 2.06s\tremaining: 816ms\n",
            "716:\tlearn: 0.1203068\ttotal: 2.06s\tremaining: 813ms\n",
            "717:\tlearn: 0.1201173\ttotal: 2.06s\tremaining: 810ms\n",
            "718:\tlearn: 0.1199101\ttotal: 2.06s\tremaining: 807ms\n",
            "719:\tlearn: 0.1197404\ttotal: 2.07s\tremaining: 804ms\n",
            "720:\tlearn: 0.1195621\ttotal: 2.07s\tremaining: 802ms\n",
            "721:\tlearn: 0.1193672\ttotal: 2.07s\tremaining: 799ms\n",
            "722:\tlearn: 0.1191678\ttotal: 2.08s\tremaining: 796ms\n",
            "723:\tlearn: 0.1189082\ttotal: 2.08s\tremaining: 793ms\n",
            "724:\tlearn: 0.1186865\ttotal: 2.08s\tremaining: 790ms\n",
            "725:\tlearn: 0.1184060\ttotal: 2.08s\tremaining: 787ms\n",
            "726:\tlearn: 0.1182457\ttotal: 2.09s\tremaining: 784ms\n",
            "727:\tlearn: 0.1181397\ttotal: 2.09s\tremaining: 781ms\n",
            "728:\tlearn: 0.1179361\ttotal: 2.09s\tremaining: 778ms\n",
            "729:\tlearn: 0.1177597\ttotal: 2.1s\tremaining: 775ms\n",
            "730:\tlearn: 0.1175101\ttotal: 2.1s\tremaining: 772ms\n",
            "731:\tlearn: 0.1173111\ttotal: 2.1s\tremaining: 769ms\n",
            "732:\tlearn: 0.1170891\ttotal: 2.1s\tremaining: 767ms\n",
            "733:\tlearn: 0.1169107\ttotal: 2.11s\tremaining: 764ms\n",
            "734:\tlearn: 0.1166736\ttotal: 2.11s\tremaining: 762ms\n",
            "735:\tlearn: 0.1164889\ttotal: 2.12s\tremaining: 760ms\n",
            "736:\tlearn: 0.1162982\ttotal: 2.12s\tremaining: 757ms\n",
            "737:\tlearn: 0.1160379\ttotal: 2.12s\tremaining: 754ms\n",
            "738:\tlearn: 0.1158819\ttotal: 2.13s\tremaining: 751ms\n",
            "739:\tlearn: 0.1156947\ttotal: 2.13s\tremaining: 748ms\n",
            "740:\tlearn: 0.1154784\ttotal: 2.13s\tremaining: 745ms\n",
            "741:\tlearn: 0.1152238\ttotal: 2.13s\tremaining: 742ms\n",
            "742:\tlearn: 0.1150909\ttotal: 2.14s\tremaining: 739ms\n",
            "743:\tlearn: 0.1148798\ttotal: 2.14s\tremaining: 736ms\n",
            "744:\tlearn: 0.1146715\ttotal: 2.14s\tremaining: 733ms\n",
            "745:\tlearn: 0.1145563\ttotal: 2.15s\tremaining: 730ms\n",
            "746:\tlearn: 0.1144060\ttotal: 2.15s\tremaining: 727ms\n",
            "747:\tlearn: 0.1142015\ttotal: 2.15s\tremaining: 725ms\n",
            "748:\tlearn: 0.1139941\ttotal: 2.15s\tremaining: 722ms\n",
            "749:\tlearn: 0.1138201\ttotal: 2.16s\tremaining: 719ms\n",
            "750:\tlearn: 0.1136023\ttotal: 2.16s\tremaining: 716ms\n",
            "751:\tlearn: 0.1134877\ttotal: 2.16s\tremaining: 713ms\n",
            "752:\tlearn: 0.1132934\ttotal: 2.16s\tremaining: 710ms\n",
            "753:\tlearn: 0.1131082\ttotal: 2.17s\tremaining: 707ms\n",
            "754:\tlearn: 0.1129545\ttotal: 2.17s\tremaining: 704ms\n",
            "755:\tlearn: 0.1126764\ttotal: 2.17s\tremaining: 701ms\n",
            "756:\tlearn: 0.1125347\ttotal: 2.17s\tremaining: 698ms\n",
            "757:\tlearn: 0.1123478\ttotal: 2.18s\tremaining: 695ms\n",
            "758:\tlearn: 0.1121479\ttotal: 2.18s\tremaining: 692ms\n",
            "759:\tlearn: 0.1119312\ttotal: 2.18s\tremaining: 690ms\n",
            "760:\tlearn: 0.1116833\ttotal: 2.19s\tremaining: 687ms\n",
            "761:\tlearn: 0.1115587\ttotal: 2.19s\tremaining: 684ms\n",
            "762:\tlearn: 0.1113592\ttotal: 2.19s\tremaining: 681ms\n",
            "763:\tlearn: 0.1111222\ttotal: 2.19s\tremaining: 678ms\n",
            "764:\tlearn: 0.1110278\ttotal: 2.2s\tremaining: 675ms\n",
            "765:\tlearn: 0.1108962\ttotal: 2.2s\tremaining: 672ms\n",
            "766:\tlearn: 0.1107213\ttotal: 2.2s\tremaining: 669ms\n",
            "767:\tlearn: 0.1105316\ttotal: 2.21s\tremaining: 666ms\n",
            "768:\tlearn: 0.1104692\ttotal: 2.21s\tremaining: 663ms\n",
            "769:\tlearn: 0.1102593\ttotal: 2.21s\tremaining: 661ms\n",
            "770:\tlearn: 0.1101210\ttotal: 2.21s\tremaining: 658ms\n",
            "771:\tlearn: 0.1099495\ttotal: 2.22s\tremaining: 655ms\n",
            "772:\tlearn: 0.1098559\ttotal: 2.22s\tremaining: 652ms\n",
            "773:\tlearn: 0.1096549\ttotal: 2.22s\tremaining: 649ms\n",
            "774:\tlearn: 0.1095330\ttotal: 2.23s\tremaining: 646ms\n",
            "775:\tlearn: 0.1093593\ttotal: 2.23s\tremaining: 643ms\n",
            "776:\tlearn: 0.1091274\ttotal: 2.23s\tremaining: 640ms\n",
            "777:\tlearn: 0.1089646\ttotal: 2.23s\tremaining: 637ms\n",
            "778:\tlearn: 0.1087949\ttotal: 2.23s\tremaining: 634ms\n",
            "779:\tlearn: 0.1086648\ttotal: 2.24s\tremaining: 631ms\n",
            "780:\tlearn: 0.1085341\ttotal: 2.24s\tremaining: 629ms\n",
            "781:\tlearn: 0.1084592\ttotal: 2.24s\tremaining: 626ms\n",
            "782:\tlearn: 0.1082557\ttotal: 2.25s\tremaining: 623ms\n",
            "783:\tlearn: 0.1081648\ttotal: 2.25s\tremaining: 620ms\n",
            "784:\tlearn: 0.1079948\ttotal: 2.25s\tremaining: 617ms\n",
            "785:\tlearn: 0.1078307\ttotal: 2.25s\tremaining: 614ms\n",
            "786:\tlearn: 0.1076291\ttotal: 2.26s\tremaining: 611ms\n",
            "787:\tlearn: 0.1074237\ttotal: 2.26s\tremaining: 608ms\n",
            "788:\tlearn: 0.1072572\ttotal: 2.26s\tremaining: 605ms\n",
            "789:\tlearn: 0.1070847\ttotal: 2.27s\tremaining: 602ms\n",
            "790:\tlearn: 0.1069271\ttotal: 2.27s\tremaining: 599ms\n",
            "791:\tlearn: 0.1067478\ttotal: 2.27s\tremaining: 596ms\n",
            "792:\tlearn: 0.1065806\ttotal: 2.27s\tremaining: 594ms\n",
            "793:\tlearn: 0.1064096\ttotal: 2.28s\tremaining: 591ms\n",
            "794:\tlearn: 0.1062235\ttotal: 2.28s\tremaining: 588ms\n",
            "795:\tlearn: 0.1060959\ttotal: 2.28s\tremaining: 585ms\n",
            "796:\tlearn: 0.1058466\ttotal: 2.29s\tremaining: 582ms\n",
            "797:\tlearn: 0.1056960\ttotal: 2.29s\tremaining: 580ms\n",
            "798:\tlearn: 0.1055262\ttotal: 2.29s\tremaining: 577ms\n",
            "799:\tlearn: 0.1053503\ttotal: 2.29s\tremaining: 574ms\n",
            "800:\tlearn: 0.1051818\ttotal: 2.3s\tremaining: 573ms\n",
            "801:\tlearn: 0.1050385\ttotal: 2.31s\tremaining: 570ms\n",
            "802:\tlearn: 0.1048634\ttotal: 2.31s\tremaining: 567ms\n",
            "803:\tlearn: 0.1046561\ttotal: 2.31s\tremaining: 564ms\n",
            "804:\tlearn: 0.1045317\ttotal: 2.32s\tremaining: 561ms\n",
            "805:\tlearn: 0.1043596\ttotal: 2.32s\tremaining: 558ms\n",
            "806:\tlearn: 0.1042471\ttotal: 2.32s\tremaining: 555ms\n",
            "807:\tlearn: 0.1040820\ttotal: 2.32s\tremaining: 552ms\n",
            "808:\tlearn: 0.1039518\ttotal: 2.33s\tremaining: 549ms\n",
            "809:\tlearn: 0.1037856\ttotal: 2.33s\tremaining: 546ms\n",
            "810:\tlearn: 0.1036678\ttotal: 2.33s\tremaining: 544ms\n",
            "811:\tlearn: 0.1035084\ttotal: 2.33s\tremaining: 541ms\n",
            "812:\tlearn: 0.1033666\ttotal: 2.34s\tremaining: 538ms\n",
            "813:\tlearn: 0.1031794\ttotal: 2.34s\tremaining: 535ms\n",
            "814:\tlearn: 0.1030024\ttotal: 2.34s\tremaining: 532ms\n",
            "815:\tlearn: 0.1028645\ttotal: 2.35s\tremaining: 529ms\n",
            "816:\tlearn: 0.1026575\ttotal: 2.35s\tremaining: 526ms\n",
            "817:\tlearn: 0.1024532\ttotal: 2.35s\tremaining: 523ms\n",
            "818:\tlearn: 0.1023281\ttotal: 2.35s\tremaining: 520ms\n",
            "819:\tlearn: 0.1021978\ttotal: 2.36s\tremaining: 517ms\n",
            "820:\tlearn: 0.1020445\ttotal: 2.36s\tremaining: 514ms\n",
            "821:\tlearn: 0.1019545\ttotal: 2.36s\tremaining: 512ms\n",
            "822:\tlearn: 0.1018535\ttotal: 2.36s\tremaining: 509ms\n",
            "823:\tlearn: 0.1017250\ttotal: 2.37s\tremaining: 506ms\n",
            "824:\tlearn: 0.1016453\ttotal: 2.37s\tremaining: 503ms\n",
            "825:\tlearn: 0.1015107\ttotal: 2.37s\tremaining: 500ms\n",
            "826:\tlearn: 0.1014015\ttotal: 2.38s\tremaining: 497ms\n",
            "827:\tlearn: 0.1012001\ttotal: 2.38s\tremaining: 494ms\n",
            "828:\tlearn: 0.1011067\ttotal: 2.38s\tremaining: 491ms\n",
            "829:\tlearn: 0.1009393\ttotal: 2.38s\tremaining: 488ms\n",
            "830:\tlearn: 0.1008227\ttotal: 2.39s\tremaining: 485ms\n",
            "831:\tlearn: 0.1007375\ttotal: 2.39s\tremaining: 483ms\n",
            "832:\tlearn: 0.1005810\ttotal: 2.39s\tremaining: 480ms\n",
            "833:\tlearn: 0.1004307\ttotal: 2.4s\tremaining: 477ms\n",
            "834:\tlearn: 0.1002285\ttotal: 2.4s\tremaining: 474ms\n",
            "835:\tlearn: 0.1001044\ttotal: 2.4s\tremaining: 471ms\n",
            "836:\tlearn: 0.1000038\ttotal: 2.4s\tremaining: 468ms\n",
            "837:\tlearn: 0.0998411\ttotal: 2.41s\tremaining: 465ms\n",
            "838:\tlearn: 0.0995856\ttotal: 2.41s\tremaining: 462ms\n",
            "839:\tlearn: 0.0995056\ttotal: 2.41s\tremaining: 459ms\n",
            "840:\tlearn: 0.0993727\ttotal: 2.41s\tremaining: 457ms\n",
            "841:\tlearn: 0.0992379\ttotal: 2.42s\tremaining: 454ms\n",
            "842:\tlearn: 0.0990608\ttotal: 2.42s\tremaining: 451ms\n",
            "843:\tlearn: 0.0989020\ttotal: 2.42s\tremaining: 448ms\n",
            "844:\tlearn: 0.0987559\ttotal: 2.42s\tremaining: 445ms\n",
            "845:\tlearn: 0.0986185\ttotal: 2.43s\tremaining: 442ms\n",
            "846:\tlearn: 0.0984502\ttotal: 2.43s\tremaining: 439ms\n",
            "847:\tlearn: 0.0982920\ttotal: 2.43s\tremaining: 436ms\n",
            "848:\tlearn: 0.0981986\ttotal: 2.44s\tremaining: 433ms\n",
            "849:\tlearn: 0.0980284\ttotal: 2.44s\tremaining: 430ms\n",
            "850:\tlearn: 0.0978922\ttotal: 2.44s\tremaining: 427ms\n",
            "851:\tlearn: 0.0977509\ttotal: 2.44s\tremaining: 425ms\n",
            "852:\tlearn: 0.0976262\ttotal: 2.45s\tremaining: 422ms\n",
            "853:\tlearn: 0.0974575\ttotal: 2.45s\tremaining: 419ms\n",
            "854:\tlearn: 0.0972728\ttotal: 2.45s\tremaining: 416ms\n",
            "855:\tlearn: 0.0970891\ttotal: 2.46s\tremaining: 413ms\n",
            "856:\tlearn: 0.0969958\ttotal: 2.46s\tremaining: 410ms\n",
            "857:\tlearn: 0.0968413\ttotal: 2.46s\tremaining: 407ms\n",
            "858:\tlearn: 0.0967506\ttotal: 2.46s\tremaining: 405ms\n",
            "859:\tlearn: 0.0965679\ttotal: 2.47s\tremaining: 402ms\n",
            "860:\tlearn: 0.0964384\ttotal: 2.48s\tremaining: 400ms\n",
            "861:\tlearn: 0.0962702\ttotal: 2.48s\tremaining: 397ms\n",
            "862:\tlearn: 0.0961217\ttotal: 2.48s\tremaining: 394ms\n",
            "863:\tlearn: 0.0959824\ttotal: 2.48s\tremaining: 391ms\n",
            "864:\tlearn: 0.0958524\ttotal: 2.49s\tremaining: 388ms\n",
            "865:\tlearn: 0.0957139\ttotal: 2.49s\tremaining: 385ms\n",
            "866:\tlearn: 0.0955744\ttotal: 2.5s\tremaining: 383ms\n",
            "867:\tlearn: 0.0953372\ttotal: 2.5s\tremaining: 381ms\n",
            "868:\tlearn: 0.0952133\ttotal: 2.5s\tremaining: 378ms\n",
            "869:\tlearn: 0.0951043\ttotal: 2.51s\tremaining: 375ms\n",
            "870:\tlearn: 0.0950191\ttotal: 2.51s\tremaining: 372ms\n",
            "871:\tlearn: 0.0948634\ttotal: 2.51s\tremaining: 369ms\n",
            "872:\tlearn: 0.0947492\ttotal: 2.52s\tremaining: 366ms\n",
            "873:\tlearn: 0.0945564\ttotal: 2.52s\tremaining: 363ms\n",
            "874:\tlearn: 0.0943961\ttotal: 2.52s\tremaining: 360ms\n",
            "875:\tlearn: 0.0943063\ttotal: 2.52s\tremaining: 357ms\n",
            "876:\tlearn: 0.0941907\ttotal: 2.53s\tremaining: 355ms\n",
            "877:\tlearn: 0.0940477\ttotal: 2.53s\tremaining: 352ms\n",
            "878:\tlearn: 0.0939586\ttotal: 2.53s\tremaining: 349ms\n",
            "879:\tlearn: 0.0938337\ttotal: 2.54s\tremaining: 346ms\n",
            "880:\tlearn: 0.0936771\ttotal: 2.54s\tremaining: 343ms\n",
            "881:\tlearn: 0.0935265\ttotal: 2.54s\tremaining: 340ms\n",
            "882:\tlearn: 0.0933973\ttotal: 2.54s\tremaining: 337ms\n",
            "883:\tlearn: 0.0932116\ttotal: 2.55s\tremaining: 334ms\n",
            "884:\tlearn: 0.0930801\ttotal: 2.55s\tremaining: 331ms\n",
            "885:\tlearn: 0.0929007\ttotal: 2.55s\tremaining: 328ms\n",
            "886:\tlearn: 0.0927274\ttotal: 2.55s\tremaining: 325ms\n",
            "887:\tlearn: 0.0926058\ttotal: 2.56s\tremaining: 323ms\n",
            "888:\tlearn: 0.0924304\ttotal: 2.56s\tremaining: 320ms\n",
            "889:\tlearn: 0.0923190\ttotal: 2.56s\tremaining: 317ms\n",
            "890:\tlearn: 0.0922100\ttotal: 2.56s\tremaining: 314ms\n",
            "891:\tlearn: 0.0921069\ttotal: 2.57s\tremaining: 311ms\n",
            "892:\tlearn: 0.0919831\ttotal: 2.57s\tremaining: 308ms\n",
            "893:\tlearn: 0.0918176\ttotal: 2.57s\tremaining: 305ms\n",
            "894:\tlearn: 0.0916937\ttotal: 2.58s\tremaining: 302ms\n",
            "895:\tlearn: 0.0915630\ttotal: 2.58s\tremaining: 299ms\n",
            "896:\tlearn: 0.0914955\ttotal: 2.58s\tremaining: 296ms\n",
            "897:\tlearn: 0.0914086\ttotal: 2.58s\tremaining: 294ms\n",
            "898:\tlearn: 0.0913005\ttotal: 2.59s\tremaining: 291ms\n",
            "899:\tlearn: 0.0911619\ttotal: 2.59s\tremaining: 288ms\n",
            "900:\tlearn: 0.0910577\ttotal: 2.6s\tremaining: 285ms\n",
            "901:\tlearn: 0.0909502\ttotal: 2.6s\tremaining: 283ms\n",
            "902:\tlearn: 0.0908422\ttotal: 2.6s\tremaining: 280ms\n",
            "903:\tlearn: 0.0906906\ttotal: 2.61s\tremaining: 277ms\n",
            "904:\tlearn: 0.0905510\ttotal: 2.61s\tremaining: 274ms\n",
            "905:\tlearn: 0.0904379\ttotal: 2.61s\tremaining: 271ms\n",
            "906:\tlearn: 0.0902966\ttotal: 2.61s\tremaining: 268ms\n",
            "907:\tlearn: 0.0901805\ttotal: 2.62s\tremaining: 265ms\n",
            "908:\tlearn: 0.0900752\ttotal: 2.62s\tremaining: 262ms\n",
            "909:\tlearn: 0.0899288\ttotal: 2.62s\tremaining: 259ms\n",
            "910:\tlearn: 0.0898120\ttotal: 2.63s\tremaining: 257ms\n",
            "911:\tlearn: 0.0896421\ttotal: 2.63s\tremaining: 254ms\n",
            "912:\tlearn: 0.0894836\ttotal: 2.63s\tremaining: 251ms\n",
            "913:\tlearn: 0.0893285\ttotal: 2.63s\tremaining: 248ms\n",
            "914:\tlearn: 0.0891676\ttotal: 2.64s\tremaining: 245ms\n",
            "915:\tlearn: 0.0890481\ttotal: 2.64s\tremaining: 242ms\n",
            "916:\tlearn: 0.0889039\ttotal: 2.64s\tremaining: 239ms\n",
            "917:\tlearn: 0.0887847\ttotal: 2.64s\tremaining: 236ms\n",
            "918:\tlearn: 0.0886095\ttotal: 2.65s\tremaining: 233ms\n",
            "919:\tlearn: 0.0885167\ttotal: 2.65s\tremaining: 230ms\n",
            "920:\tlearn: 0.0883315\ttotal: 2.65s\tremaining: 228ms\n",
            "921:\tlearn: 0.0881599\ttotal: 2.65s\tremaining: 225ms\n",
            "922:\tlearn: 0.0880347\ttotal: 2.66s\tremaining: 222ms\n",
            "923:\tlearn: 0.0878988\ttotal: 2.66s\tremaining: 219ms\n",
            "924:\tlearn: 0.0878175\ttotal: 2.66s\tremaining: 216ms\n",
            "925:\tlearn: 0.0876982\ttotal: 2.67s\tremaining: 213ms\n",
            "926:\tlearn: 0.0875479\ttotal: 2.67s\tremaining: 210ms\n",
            "927:\tlearn: 0.0873640\ttotal: 2.67s\tremaining: 207ms\n",
            "928:\tlearn: 0.0872594\ttotal: 2.67s\tremaining: 204ms\n",
            "929:\tlearn: 0.0871462\ttotal: 2.68s\tremaining: 202ms\n",
            "930:\tlearn: 0.0870013\ttotal: 2.68s\tremaining: 199ms\n",
            "931:\tlearn: 0.0868677\ttotal: 2.68s\tremaining: 196ms\n",
            "932:\tlearn: 0.0867804\ttotal: 2.69s\tremaining: 193ms\n",
            "933:\tlearn: 0.0866680\ttotal: 2.69s\tremaining: 190ms\n",
            "934:\tlearn: 0.0865185\ttotal: 2.7s\tremaining: 188ms\n",
            "935:\tlearn: 0.0864033\ttotal: 2.7s\tremaining: 185ms\n",
            "936:\tlearn: 0.0862619\ttotal: 2.7s\tremaining: 182ms\n",
            "937:\tlearn: 0.0861295\ttotal: 2.71s\tremaining: 179ms\n",
            "938:\tlearn: 0.0860385\ttotal: 2.71s\tremaining: 176ms\n",
            "939:\tlearn: 0.0858367\ttotal: 2.71s\tremaining: 173ms\n",
            "940:\tlearn: 0.0857159\ttotal: 2.71s\tremaining: 170ms\n",
            "941:\tlearn: 0.0855516\ttotal: 2.72s\tremaining: 167ms\n",
            "942:\tlearn: 0.0853747\ttotal: 2.72s\tremaining: 164ms\n",
            "943:\tlearn: 0.0852947\ttotal: 2.72s\tremaining: 162ms\n",
            "944:\tlearn: 0.0851878\ttotal: 2.73s\tremaining: 159ms\n",
            "945:\tlearn: 0.0850774\ttotal: 2.73s\tremaining: 156ms\n",
            "946:\tlearn: 0.0849587\ttotal: 2.73s\tremaining: 153ms\n",
            "947:\tlearn: 0.0848279\ttotal: 2.73s\tremaining: 150ms\n",
            "948:\tlearn: 0.0846688\ttotal: 2.74s\tremaining: 147ms\n",
            "949:\tlearn: 0.0845633\ttotal: 2.74s\tremaining: 144ms\n",
            "950:\tlearn: 0.0844455\ttotal: 2.74s\tremaining: 141ms\n",
            "951:\tlearn: 0.0843331\ttotal: 2.75s\tremaining: 138ms\n",
            "952:\tlearn: 0.0841752\ttotal: 2.75s\tremaining: 136ms\n",
            "953:\tlearn: 0.0840555\ttotal: 2.75s\tremaining: 133ms\n",
            "954:\tlearn: 0.0839512\ttotal: 2.75s\tremaining: 130ms\n",
            "955:\tlearn: 0.0838100\ttotal: 2.75s\tremaining: 127ms\n",
            "956:\tlearn: 0.0836733\ttotal: 2.76s\tremaining: 124ms\n",
            "957:\tlearn: 0.0835756\ttotal: 2.76s\tremaining: 121ms\n",
            "958:\tlearn: 0.0834810\ttotal: 2.76s\tremaining: 118ms\n",
            "959:\tlearn: 0.0833311\ttotal: 2.77s\tremaining: 115ms\n",
            "960:\tlearn: 0.0832216\ttotal: 2.77s\tremaining: 112ms\n",
            "961:\tlearn: 0.0830699\ttotal: 2.77s\tremaining: 110ms\n",
            "962:\tlearn: 0.0829359\ttotal: 2.77s\tremaining: 107ms\n",
            "963:\tlearn: 0.0827968\ttotal: 2.78s\tremaining: 104ms\n",
            "964:\tlearn: 0.0827102\ttotal: 2.78s\tremaining: 101ms\n",
            "965:\tlearn: 0.0825908\ttotal: 2.78s\tremaining: 98ms\n",
            "966:\tlearn: 0.0824770\ttotal: 2.79s\tremaining: 95.1ms\n",
            "967:\tlearn: 0.0823258\ttotal: 2.79s\tremaining: 92.2ms\n",
            "968:\tlearn: 0.0822025\ttotal: 2.79s\tremaining: 89.3ms\n",
            "969:\tlearn: 0.0820384\ttotal: 2.79s\tremaining: 86.4ms\n",
            "970:\tlearn: 0.0819639\ttotal: 2.8s\tremaining: 83.5ms\n",
            "971:\tlearn: 0.0818856\ttotal: 2.8s\tremaining: 80.7ms\n",
            "972:\tlearn: 0.0817466\ttotal: 2.8s\tremaining: 77.8ms\n",
            "973:\tlearn: 0.0816219\ttotal: 2.81s\tremaining: 74.9ms\n",
            "974:\tlearn: 0.0815159\ttotal: 2.81s\tremaining: 72ms\n",
            "975:\tlearn: 0.0813936\ttotal: 2.81s\tremaining: 69.1ms\n",
            "976:\tlearn: 0.0812833\ttotal: 2.81s\tremaining: 66.2ms\n",
            "977:\tlearn: 0.0811804\ttotal: 2.82s\tremaining: 63.3ms\n",
            "978:\tlearn: 0.0810105\ttotal: 2.82s\tremaining: 60.5ms\n",
            "979:\tlearn: 0.0809164\ttotal: 2.82s\tremaining: 57.6ms\n",
            "980:\tlearn: 0.0807711\ttotal: 2.82s\tremaining: 54.7ms\n",
            "981:\tlearn: 0.0806171\ttotal: 2.83s\tremaining: 51.8ms\n",
            "982:\tlearn: 0.0805039\ttotal: 2.83s\tremaining: 48.9ms\n",
            "983:\tlearn: 0.0803985\ttotal: 2.83s\tremaining: 46.1ms\n",
            "984:\tlearn: 0.0802918\ttotal: 2.83s\tremaining: 43.2ms\n",
            "985:\tlearn: 0.0801528\ttotal: 2.84s\tremaining: 40.3ms\n",
            "986:\tlearn: 0.0800598\ttotal: 2.84s\tremaining: 37.4ms\n",
            "987:\tlearn: 0.0799853\ttotal: 2.84s\tremaining: 34.5ms\n",
            "988:\tlearn: 0.0798253\ttotal: 2.85s\tremaining: 31.6ms\n",
            "989:\tlearn: 0.0797179\ttotal: 2.85s\tremaining: 28.8ms\n",
            "990:\tlearn: 0.0796240\ttotal: 2.85s\tremaining: 25.9ms\n",
            "991:\tlearn: 0.0795062\ttotal: 2.85s\tremaining: 23ms\n",
            "992:\tlearn: 0.0793853\ttotal: 2.86s\tremaining: 20.1ms\n",
            "993:\tlearn: 0.0792586\ttotal: 2.86s\tremaining: 17.3ms\n",
            "994:\tlearn: 0.0791311\ttotal: 2.86s\tremaining: 14.4ms\n",
            "995:\tlearn: 0.0790102\ttotal: 2.87s\tremaining: 11.5ms\n",
            "996:\tlearn: 0.0789067\ttotal: 2.87s\tremaining: 8.63ms\n",
            "997:\tlearn: 0.0788121\ttotal: 2.87s\tremaining: 5.75ms\n",
            "998:\tlearn: 0.0787394\ttotal: 2.87s\tremaining: 2.88ms\n",
            "999:\tlearn: 0.0786392\ttotal: 2.88s\tremaining: 0us\n"
          ]
        },
        {
          "output_type": "execute_result",
          "data": {
            "text/plain": [
              "<catboost.core.CatBoostClassifier at 0x7fa71376c410>"
            ]
          },
          "metadata": {},
          "execution_count": 101
        }
      ]
    },
    {
      "cell_type": "code",
      "metadata": {
        "id": "iKeT1qzsOv_x"
      },
      "source": [
        "#Predictiing on Test Set\n",
        "y_pred_catboost=catboost_model.predict(X_test)"
      ],
      "execution_count": 102,
      "outputs": []
    },
    {
      "cell_type": "code",
      "metadata": {
        "colab": {
          "base_uri": "https://localhost:8080/"
        },
        "id": "gILhaNqwOv_y",
        "outputId": "24652588-0cf5-4a18-b17b-35ab5ca01aa4"
      },
      "source": [
        "#Evaluating model using f1_score\n",
        "print(\"Catboost F1 score on validation set is : \",f1_score(y_test,y_pred_catboost))"
      ],
      "execution_count": 103,
      "outputs": [
        {
          "output_type": "stream",
          "name": "stdout",
          "text": [
            "Catboost F1 score on validation set is :  0.6105263157894737\n"
          ]
        }
      ]
    },
    {
      "cell_type": "code",
      "metadata": {
        "id": "-CxU6BJgOv_0"
      },
      "source": [
        "#Now Predict on Test set\n",
        "catboost_preds = catboost_model.predict(test)"
      ],
      "execution_count": 104,
      "outputs": []
    },
    {
      "cell_type": "code",
      "metadata": {
        "colab": {
          "base_uri": "https://localhost:8080/",
          "height": 204
        },
        "id": "liYuoivEOv_1",
        "outputId": "17f31c4d-19c2-4d1d-a4c0-5d1beacbf556"
      },
      "source": [
        "#checking our sample_submission file\n",
        "\n",
        "sample_submission.head()"
      ],
      "execution_count": 105,
      "outputs": [
        {
          "output_type": "execute_result",
          "data": {
            "text/html": [
              "<div>\n",
              "<style scoped>\n",
              "    .dataframe tbody tr th:only-of-type {\n",
              "        vertical-align: middle;\n",
              "    }\n",
              "\n",
              "    .dataframe tbody tr th {\n",
              "        vertical-align: top;\n",
              "    }\n",
              "\n",
              "    .dataframe thead th {\n",
              "        text-align: right;\n",
              "    }\n",
              "</style>\n",
              "<table border=\"1\" class=\"dataframe\">\n",
              "  <thead>\n",
              "    <tr style=\"text-align: right;\">\n",
              "      <th></th>\n",
              "      <th>ID</th>\n",
              "      <th>Response</th>\n",
              "    </tr>\n",
              "  </thead>\n",
              "  <tbody>\n",
              "    <tr>\n",
              "      <th>0</th>\n",
              "      <td>ID_ZPMABNVX</td>\n",
              "      <td>NaN</td>\n",
              "    </tr>\n",
              "    <tr>\n",
              "      <th>1</th>\n",
              "      <td>ID_WFE91NAA</td>\n",
              "      <td>NaN</td>\n",
              "    </tr>\n",
              "    <tr>\n",
              "      <th>2</th>\n",
              "      <td>ID_JV11RBRK</td>\n",
              "      <td>NaN</td>\n",
              "    </tr>\n",
              "    <tr>\n",
              "      <th>3</th>\n",
              "      <td>ID_6B7SVKY9</td>\n",
              "      <td>NaN</td>\n",
              "    </tr>\n",
              "    <tr>\n",
              "      <th>4</th>\n",
              "      <td>ID_GOVUZ545</td>\n",
              "      <td>NaN</td>\n",
              "    </tr>\n",
              "  </tbody>\n",
              "</table>\n",
              "</div>"
            ],
            "text/plain": [
              "            ID  Response\n",
              "0  ID_ZPMABNVX       NaN\n",
              "1  ID_WFE91NAA       NaN\n",
              "2  ID_JV11RBRK       NaN\n",
              "3  ID_6B7SVKY9       NaN\n",
              "4  ID_GOVUZ545       NaN"
            ]
          },
          "metadata": {},
          "execution_count": 105
        }
      ]
    },
    {
      "cell_type": "code",
      "metadata": {
        "id": "FF3rK5A8Ov_2"
      },
      "source": [
        "#we are making a copy of the submission file and then create our own from it\n",
        "submission_file = sample_submission.copy()"
      ],
      "execution_count": 106,
      "outputs": []
    },
    {
      "cell_type": "code",
      "metadata": {
        "colab": {
          "base_uri": "https://localhost:8080/",
          "height": 204
        },
        "id": "fF0EuZfVOv_3",
        "outputId": "570ba55e-cff8-4433-d174-fff597fe7811"
      },
      "source": [
        "submission_file.head()"
      ],
      "execution_count": 107,
      "outputs": [
        {
          "output_type": "execute_result",
          "data": {
            "text/html": [
              "<div>\n",
              "<style scoped>\n",
              "    .dataframe tbody tr th:only-of-type {\n",
              "        vertical-align: middle;\n",
              "    }\n",
              "\n",
              "    .dataframe tbody tr th {\n",
              "        vertical-align: top;\n",
              "    }\n",
              "\n",
              "    .dataframe thead th {\n",
              "        text-align: right;\n",
              "    }\n",
              "</style>\n",
              "<table border=\"1\" class=\"dataframe\">\n",
              "  <thead>\n",
              "    <tr style=\"text-align: right;\">\n",
              "      <th></th>\n",
              "      <th>ID</th>\n",
              "      <th>Response</th>\n",
              "    </tr>\n",
              "  </thead>\n",
              "  <tbody>\n",
              "    <tr>\n",
              "      <th>0</th>\n",
              "      <td>ID_ZPMABNVX</td>\n",
              "      <td>NaN</td>\n",
              "    </tr>\n",
              "    <tr>\n",
              "      <th>1</th>\n",
              "      <td>ID_WFE91NAA</td>\n",
              "      <td>NaN</td>\n",
              "    </tr>\n",
              "    <tr>\n",
              "      <th>2</th>\n",
              "      <td>ID_JV11RBRK</td>\n",
              "      <td>NaN</td>\n",
              "    </tr>\n",
              "    <tr>\n",
              "      <th>3</th>\n",
              "      <td>ID_6B7SVKY9</td>\n",
              "      <td>NaN</td>\n",
              "    </tr>\n",
              "    <tr>\n",
              "      <th>4</th>\n",
              "      <td>ID_GOVUZ545</td>\n",
              "      <td>NaN</td>\n",
              "    </tr>\n",
              "  </tbody>\n",
              "</table>\n",
              "</div>"
            ],
            "text/plain": [
              "            ID  Response\n",
              "0  ID_ZPMABNVX       NaN\n",
              "1  ID_WFE91NAA       NaN\n",
              "2  ID_JV11RBRK       NaN\n",
              "3  ID_6B7SVKY9       NaN\n",
              "4  ID_GOVUZ545       NaN"
            ]
          },
          "metadata": {},
          "execution_count": 107
        }
      ]
    },
    {
      "cell_type": "code",
      "metadata": {
        "id": "776ht2QkOv_5"
      },
      "source": [
        "#we are saving our testing prediction inside the submission file\n",
        "\n",
        "submission_file.Response = catboost_preds"
      ],
      "execution_count": 108,
      "outputs": []
    },
    {
      "cell_type": "code",
      "metadata": {
        "colab": {
          "base_uri": "https://localhost:8080/",
          "height": 333
        },
        "id": "SKb4gmapOv_6",
        "outputId": "54118ead-e671-4d2b-bcab-a273b1f6c6c6"
      },
      "source": [
        "sns.countplot(submission_file.Response)\n",
        "plt.show()"
      ],
      "execution_count": 109,
      "outputs": [
        {
          "output_type": "stream",
          "name": "stderr",
          "text": [
            "/usr/local/lib/python3.7/dist-packages/seaborn/_decorators.py:43: FutureWarning: Pass the following variable as a keyword arg: x. From version 0.12, the only valid positional argument will be `data`, and passing other arguments without an explicit keyword will result in an error or misinterpretation.\n",
            "  FutureWarning\n"
          ]
        },
        {
          "output_type": "display_data",
          "data": {
            "image/png": "[encoded data removed]",
            "text/plain": [
              "<Figure size 432x288 with 1 Axes>"
            ]
          },
          "metadata": {
            "needs_background": "light"
          }
        }
      ]
    },
    {
      "cell_type": "code",
      "metadata": {
        "id": "Jz7qO-NeOv_7"
      },
      "source": [
        "#creating our submission file\n",
        "\n",
        "submission_file.to_csv('my6_submission.csv', index=False)"
      ],
      "execution_count": 110,
      "outputs": []
    },
    {
      "cell_type": "markdown",
      "metadata": {
        "id": "c7RGHyRoaVSR"
      },
      "source": [
        ""
      ]
    },
    {
      "cell_type": "code",
      "metadata": {
        "colab": {
          "base_uri": "https://localhost:8080/",
          "height": 17
        },
        "id": "m_7Jug66Ov__",
        "outputId": "51a5e44d-cd67-4048-bb8a-07a5696d26b0"
      },
      "source": [
        "files.download('my6_submission.csv')"
      ],
      "execution_count": 111,
      "outputs": [
        {
          "output_type": "display_data",
          "data": {
            "application/javascript": [
              "\n",
              "    async function download(id, filename, size) {\n",
              "      if (!google.colab.kernel.accessAllowed) {\n",
              "        return;\n",
              "      }\n",
              "      const div = document.createElement('div');\n",
              "      const label = document.createElement('label');\n",
              "      label.textContent = `Downloading \"${filename}\": `;\n",
              "      div.appendChild(label);\n",
              "      const progress = document.createElement('progress');\n",
              "      progress.max = size;\n",
              "      div.appendChild(progress);\n",
              "      document.body.appendChild(div);\n",
              "\n",
              "      const buffers = [];\n",
              "      let downloaded = 0;\n",
              "\n",
              "      const channel = await google.colab.kernel.comms.open(id);\n",
              "      // Send a message to notify the kernel that we're ready.\n",
              "      channel.send({})\n",
              "\n",
              "      for await (const message of channel.messages) {\n",
              "        // Send a message to notify the kernel that we're ready.\n",
              "        channel.send({})\n",
              "        if (message.buffers) {\n",
              "          for (const buffer of message.buffers) {\n",
              "            buffers.push(buffer);\n",
              "            downloaded += buffer.byteLength;\n",
              "            progress.value = downloaded;\n",
              "          }\n",
              "        }\n",
              "      }\n",
              "      const blob = new Blob(buffers, {type: 'application/binary'});\n",
              "      const a = document.createElement('a');\n",
              "      a.href = window.URL.createObjectURL(blob);\n",
              "      a.download = filename;\n",
              "      div.appendChild(a);\n",
              "      a.click();\n",
              "      div.remove();\n",
              "    }\n",
              "  "
            ],
            "text/plain": [
              "<IPython.core.display.Javascript object>"
            ]
          },
          "metadata": {}
        },
        {
          "output_type": "display_data",
          "data": {
            "application/javascript": [
              "download(\"download_5742e3fc-bf32-4d1e-8129-500cbf3a868b\", \"my6_submission.csv\", 9420)"
            ],
            "text/plain": [
              "<IPython.core.display.Javascript object>"
            ]
          },
          "metadata": {}
        }
      ]
    },
    {
      "cell_type": "code",
      "metadata": {
        "id": "AkLRGT-iYaB3"
      },
      "source": [
        ""
      ],
      "execution_count": null,
      "outputs": []
    }
  ]
}